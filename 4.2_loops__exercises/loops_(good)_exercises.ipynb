{
 "cells": [
  {
   "attachments": {},
   "cell_type": "markdown",
   "id": "123456",
   "metadata": {},
   "source": [
    "<div style=\"text-align:left;font-size:2em\"><span style=\"font-weight:bolder;font-size:1.25em\">SP2273 | Learning Portfolio</span><br><br><span style=\"font-weight:bold;color:darkred\">Loops (Good) Exercises</span></div>"
   ]
  },
  {
   "cell_type": "markdown",
   "id": "75680991-3a38-4622-825e-1297ae44fe3d",
   "metadata": {},
   "source": [
    "# Exercise 1"
   ]
  },
  {
   "cell_type": "code",
   "execution_count": 4,
   "id": "2d40e195-36ec-44fe-acc6-21e25a8ac3a2",
   "metadata": {},
   "outputs": [],
   "source": [
    "# With your knowledge of growing lists, use a for loop with range() and \n",
    "# continue to generate a list of the squares of the odd integers from 0 to 9."
   ]
  },
  {
   "cell_type": "code",
   "execution_count": 71,
   "id": "2f57cca4-e464-426c-826f-6cb09a6dbb9c",
   "metadata": {},
   "outputs": [
    {
     "name": "stdout",
     "output_type": "stream",
     "text": [
      "[1, 9, 25, 49, 81]\n"
     ]
    }
   ],
   "source": [
    "sq_list = [] #create a list \n",
    "for numbers in range (10): #print out numbers from 0-10 \n",
    "    if numbers%2 == 0: #check if number is even if == 0 \n",
    "        continue    # continue is used to skip the iteration if output is 'even', and continues for odd numbers\n",
    "    #print(numbers**2) #print numbers AND generate their squares \n",
    "    sq_list.append(numbers**2)\n",
    "print(sq_list) #print list with appended numbers"
   ]
  },
  {
   "cell_type": "markdown",
   "id": "6044797e-1f0d-4a8d-8fca-a00d4c50c119",
   "metadata": {},
   "source": [
    "# Exercise 2 "
   ]
  },
  {
   "cell_type": "code",
   "execution_count": 1,
   "id": "ef64e364-00c2-480c-86ca-7ca06d8baa49",
   "metadata": {},
   "outputs": [
    {
     "name": "stdout",
     "output_type": "stream",
     "text": [
      "[1, 9, 25, 49, 81]\n"
     ]
    }
   ],
   "source": [
    "# redo using list comprehesion \n",
    "\n",
    "#[number for number in (iterable) if (condition)]\n",
    "\n",
    "new_sq_list = [numbers**2 for numbers in range(10) if numbers%2 != 0] \n",
    "print(new_sq_list)"
   ]
  },
  {
   "cell_type": "markdown",
   "id": "67b6ca45-2f95-4492-afd0-6eeeaede9fd0",
   "metadata": {},
   "source": [
    "# Exercise 3 (Time me!)"
   ]
  },
  {
   "cell_type": "code",
   "execution_count": 3,
   "id": "38e18cd4-86fe-48de-a35d-1e2e2812ce78",
   "metadata": {},
   "outputs": [
    {
     "name": "stdout",
     "output_type": "stream",
     "text": [
      "[1, 9, 25, 49, 81]\n"
     ]
    }
   ],
   "source": [
    "#%%timeit\n",
    "\n",
    "sq_list = [] #create a list \n",
    "for numbers in range (10): #print out numbers from 0-10 \n",
    "    if numbers%2 == 0: #check if number is even if == 0 \n",
    "        continue    # continue is used to skip the iteration if output is 'even', and continues for odd numbers\n",
    "    #print(numbers**2) #print numbers AND generate their squares \n",
    "    sq_list.append(numbers**2)\n",
    "print(sq_list) #print list with appended numbers"
   ]
  },
  {
   "cell_type": "code",
   "execution_count": 2,
   "id": "a501575a-438d-4081-b70e-ff66bad4caac",
   "metadata": {},
   "outputs": [
    {
     "name": "stdout",
     "output_type": "stream",
     "text": [
      "[1, 9, 25, 49, 81]\n"
     ]
    }
   ],
   "source": [
    "#%%timeit\n",
    "\n",
    "new_sq_list = [numbers**2 for numbers in range(10) if numbers%2 != 0] \n",
    "print(new_sq_list)\n"
   ]
  },
  {
   "cell_type": "markdown",
   "id": "26c15ad3-a5f2-41c7-bddd-2d4ab7a0bdd7",
   "metadata": {},
   "source": [
    "The list comprehension code is faster "
   ]
  },
  {
   "cell_type": "markdown",
   "id": "2d4f9f9f-75cc-4748-b9bc-2b60d2763cb7",
   "metadata": {},
   "source": [
    "# Exercise 4"
   ]
  },
  {
   "cell_type": "code",
   "execution_count": 5,
   "id": "19aa5165-5725-48f4-8262-f18251703cfe",
   "metadata": {},
   "outputs": [
    {
     "name": "stdout",
     "output_type": "stream",
     "text": [
      "The decay would take 14years to reduce to half its original amount\n"
     ]
    }
   ],
   "source": [
    "initial = 100 \n",
    "years = 0 \n",
    "while(initial > 50):\n",
    "    initial = initial - initial*0.05\n",
    "    years += 1\n",
    "print(f\"The decay would take {years}years to reduce to half its original amount\")"
   ]
  },
  {
   "cell_type": "markdown",
   "id": "a83cb6e2-db28-4c74-a44b-0f35ee4b32cf",
   "metadata": {},
   "source": [
    "# Exercise 5"
   ]
  },
  {
   "cell_type": "code",
   "execution_count": 18,
   "id": "a9ff4804-d80f-46d5-9af5-dd02284c37db",
   "metadata": {},
   "outputs": [],
   "source": [
    "co2_data = [\n",
    "    (2000, 369.55), (2001, 371.14), (2002, 373.28), \n",
    "    (2003, 375.80), (2004, 377.52), (2005, 379.80), \n",
    "    (2006, 381.90), (2007, 383.79), (2008, 385.60), \n",
    "    (2009, 387.43), (2010, 389.90), (2011, 391.65), \n",
    "    (2012, 393.85), (2013, 396.52), (2014, 398.65),\n",
    "    (2015, 400.83), (2016, 404.24), (2017, 406.55), \n",
    "    (2018, 408.52), (2019, 411.44), (2020, 414.24)\n",
    "]\n",
    "# data list with a tuple, (year, co2 level)\n",
    "# can access tuples eg. a = (1,2,3); print(a[0]) will output 1 \n",
    "# compare co2 levels between 2000, 2001 \n",
    "# IF CO2 change >= 3ppm, print out both years "
   ]
  },
  {
   "cell_type": "code",
   "execution_count": 20,
   "id": "bba412cb-32c0-4006-bb8c-4bdda2bcf87f",
   "metadata": {},
   "outputs": [
    {
     "name": "stdout",
     "output_type": "stream",
     "text": [
      "Year: 2016, Change: 3.41 ppm\n"
     ]
    }
   ],
   "source": [
    "length = len(co2_data)\n",
    "for i in range(1, length): #start iterating from index 1 bc there is no year to compare with 2000 \n",
    "    current_year, current_co2 = co2_data[i]\n",
    "    previous_year, previous_co2 = co2_data[i - 1]\n",
    "    change = current_co2 - previous_co2\n",
    "    \n",
    "    if change >= 3:\n",
    "        # Print the year and the change\n",
    "        print(f\"Year: {current_year}, Change: {change:.3} ppm\")"
   ]
  },
  {
   "cell_type": "code",
   "execution_count": null,
   "id": "faf2a163-f606-4601-9bb4-5f8c0bd34db6",
   "metadata": {},
   "outputs": [],
   "source": []
  }
 ],
 "metadata": {
  "kernelspec": {
   "display_name": "Python 3 (ipykernel)",
   "language": "python",
   "name": "python3"
  },
  "language_info": {
   "codemirror_mode": {
    "name": "ipython",
    "version": 3
   },
   "file_extension": ".py",
   "mimetype": "text/x-python",
   "name": "python",
   "nbconvert_exporter": "python",
   "pygments_lexer": "ipython3",
   "version": "3.12.2"
  },
  "toc": {
   "base_numbering": 1,
   "nav_menu": {},
   "number_sections": true,
   "sideBar": true,
   "skip_h1_title": false,
   "title_cell": "Table of Contents",
   "title_sidebar": "Contents",
   "toc_cell": false,
   "toc_position": {},
   "toc_section_display": true,
   "toc_window_display": false
  },
  "vscode": {
   "interpreter": {
    "hash": "31f2aee4e71d21fbe5cf8b01ff0e069b9275f58929596ceb00d14d90e3e16cd6"
   }
  }
 },
 "nbformat": 4,
 "nbformat_minor": 5
}
