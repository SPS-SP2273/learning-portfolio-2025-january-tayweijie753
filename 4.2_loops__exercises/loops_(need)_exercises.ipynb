{
 "cells": [
  {
   "attachments": {},
   "cell_type": "markdown",
   "id": "123456",
   "metadata": {},
   "source": [
    "<div style=\"text-align:left;font-size:2em\"><span style=\"font-weight:bolder;font-size:1.25em\">SP2273 | Learning Portfolio</span><br><br><span style=\"font-weight:bold;color:darkred\">Loops (Need) Exercises</span></div>"
   ]
  },
  {
   "cell_type": "markdown",
   "id": "1db519a5-cf3b-4747-b381-de45c47bc39b",
   "metadata": {},
   "source": [
    "# Exercise 1"
   ]
  },
  {
   "cell_type": "code",
   "execution_count": 27,
   "id": "28cfe2ae-0f76-4a86-971b-10632627b69f",
   "metadata": {},
   "outputs": [
    {
     "name": "stdout",
     "output_type": "stream",
     "text": [
      "[ 0  5 10 15 20 25 30 35 40 45 50]\n",
      "[ 32.  41.  50.  59.  68.  77.  86.  95. 104. 113. 122.]\n"
     ]
    }
   ],
   "source": [
    "import numpy as np \n",
    "temperatures_celsius = [0, 5, 10, 15, 20, 25, 30, 35, 40, 45, 50]\n",
    "array_temp_celsius = np.array(temperatures_celsius)\n",
    "array_temp_f = array_temp_celsius * 9/5 + 32    \n",
    "#(0°C × 9/5) + 32 = 32°F\n",
    "print(f\"{array_temp_celsius}\\n{array_temp_f}\")"
   ]
  },
  {
   "cell_type": "markdown",
   "id": "a706ff68-c457-495f-b216-0dd3f421cc09",
   "metadata": {},
   "source": [
    "# Excercise 2"
   ]
  },
  {
   "cell_type": "code",
   "execution_count": 57,
   "id": "3a5d84cb-6892-4e2b-b834-91e1c8ad6860",
   "metadata": {},
   "outputs": [
    {
     "name": "stdout",
     "output_type": "stream",
     "text": [
      "A1\tA2\tA3\t\n",
      "\n",
      "B1\tB2\tB3\t\n",
      "\n",
      "C1\tC2\tC3\t\n",
      "\n"
     ]
    }
   ],
   "source": [
    "# Example \n",
    "for letter in ['A', 'B', 'C']:\n",
    "    for number in [1, 2, 3]:\n",
    "        print(f'{letter}{number}', end='\\t')\n",
    "    print('\\n')"
   ]
  },
  {
   "cell_type": "code",
   "execution_count": 59,
   "id": "21201e4c-14c5-49c9-b7d8-2c06278d3243",
   "metadata": {},
   "outputs": [],
   "source": [
    "# Output (code is below)\n",
    "#1 : 1   2   3   4   5   \n",
    "#2 : 2   4   6   8   10  \n",
    "#3 : 3   6   9   12  15  \n",
    "#4 : 4   8   12  16  20  \n",
    "#5 : 5   10  15  20  25  "
   ]
  },
  {
   "cell_type": "code",
   "execution_count": 127,
   "id": "296bac7d-15e8-41bc-9293-767e9c862bbb",
   "metadata": {},
   "outputs": [
    {
     "name": "stdout",
     "output_type": "stream",
     "text": [
      "1 : 1   2   3   4   5   \n",
      "\n",
      "2 : 2   4   6   8   10  \n",
      "\n",
      "3 : 3   6   9   12  15  \n",
      "\n",
      "4 : 4   8   12  16  20  \n",
      "\n",
      "5 : 5   10  15  20  25  \n",
      "\n"
     ]
    }
   ],
   "source": [
    "for col in range(1,6):\n",
    "    print(f\"{col} :\", end=' ') #end indicates to end with a space. by default, it will go to the next time \n",
    "    for row in range(1,6):\n",
    "        print(f\"{col*row:<3}\", end=' ') #formatting the spaces in between rows and col \n",
    "    print('\\n')"
   ]
  },
  {
   "cell_type": "markdown",
   "id": "41d6ffc7-8e35-408e-8f27-e977db3e33b4",
   "metadata": {},
   "source": [
    "# Exercise 3 (Simulating a Coin Flip Experiment)  "
   ]
  },
  {
   "cell_type": "code",
   "execution_count": 183,
   "id": "e0caede4-819f-4a45-aeda-8f368c45df3d",
   "metadata": {},
   "outputs": [
    {
     "name": "stdout",
     "output_type": "stream",
     "text": [
      "Experiment  0: No. of Heads = 5\n",
      "Experiment  1: No. of Heads = 4\n",
      "Experiment  2: No. of Heads = 6\n",
      "Experiment  3: No. of Heads = 6\n",
      "Experiment  4: No. of Heads = 3\n",
      "Experiment  5: No. of Heads = 7\n",
      "Experiment  6: No. of Heads = 4\n",
      "Experiment  7: No. of Heads = 6\n",
      "Experiment  8: No. of Heads = 7\n",
      "Experiment  9: No. of Heads = 4\n",
      "Experiment 10: No. of Heads = 6\n"
     ]
    }
   ],
   "source": [
    "import numpy as np\n",
    "\n",
    "for i in range(11):\n",
    "    numpy_array = np.random.rand(10)\n",
    "    heads = numpy_array[numpy_array>0.5] #filter out heads > 0.5 \n",
    "    print(f\"Experiment{i:>3}: No. of Heads = {len(heads)}\") #formatting and print out \n",
    "\n",
    "    \n",
    "#considering values less than 0.5 as tails and values greater than 0.5 as heads. For example, in the above ‘experiment’ we have 8(!) heads."
   ]
  },
  {
   "cell_type": "raw",
   "id": "9385db13-bfb6-4b3a-9801-f8c1d8b91073",
   "metadata": {},
   "source": []
  },
  {
   "cell_type": "code",
   "execution_count": null,
   "id": "397685ed-45a6-49b9-b32e-31be8cc34b65",
   "metadata": {},
   "outputs": [],
   "source": []
  },
  {
   "cell_type": "code",
   "execution_count": null,
   "id": "8271b61c-f14d-4708-ad53-8bd7bc848cd5",
   "metadata": {},
   "outputs": [],
   "source": []
  }
 ],
 "metadata": {
  "kernelspec": {
   "display_name": "Python 3 (ipykernel)",
   "language": "python",
   "name": "python3"
  },
  "language_info": {
   "codemirror_mode": {
    "name": "ipython",
    "version": 3
   },
   "file_extension": ".py",
   "mimetype": "text/x-python",
   "name": "python",
   "nbconvert_exporter": "python",
   "pygments_lexer": "ipython3",
   "version": "3.12.2"
  },
  "toc": {
   "base_numbering": 1,
   "nav_menu": {},
   "number_sections": true,
   "sideBar": true,
   "skip_h1_title": false,
   "title_cell": "Table of Contents",
   "title_sidebar": "Contents",
   "toc_cell": false,
   "toc_position": {},
   "toc_section_display": true,
   "toc_window_display": false
  },
  "vscode": {
   "interpreter": {
    "hash": "31f2aee4e71d21fbe5cf8b01ff0e069b9275f58929596ceb00d14d90e3e16cd6"
   }
  }
 },
 "nbformat": 4,
 "nbformat_minor": 5
}
