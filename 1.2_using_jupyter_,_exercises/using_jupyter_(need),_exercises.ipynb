{
 "cells": [
  {
   "attachments": {},
   "cell_type": "markdown",
   "id": "123456",
   "metadata": {},
   "source": [
    "<div style=\"text-align:left;font-size:2em\"><span style=\"font-weight:bolder;font-size:1.25em\">SP2273 | Learning Portfolio</span><br><br><span style=\"font-weight:bold;color:darkred\">Using Jupyter (Need), Exercises</span></div>"
   ]
  },
  {
   "attachments": {},
   "cell_type": "markdown",
   "id": "ed915ae1",
   "metadata": {},
   "source": [
    "## 1 Quadratic Equations"
   ]
  },
  {
   "attachments": {},
   "cell_type": "markdown",
   "id": "182a36b8",
   "metadata": {},
   "source": [
    "### Introduction"
   ]
  },
  {
   "cell_type": "markdown",
   "id": "75ac660c-9b6c-42f4-b955-9a8832b480be",
   "metadata": {},
   "source": [
    "## Introduction\n",
    "\n",
    "![](https://upload.wikimedia.org/wikipedia/commons/thumb/f/f8/Polynomialdeg2.svg/300px-Polynomialdeg2.svg.png)\n",
    "\n",
    "(Image from the [Wikipedia page on Quadratic equations](https://en.wikipedia.org/wiki/Quadratic_equation))\n",
    "\n",
    "The general form of a quadratic equation is:\n",
    "\n",
    "<center> $ ax^2 + bx + c = 0 $</center> \n",
    "\n",
    "## Solutions \n",
    "\n",
    "Provided a $\\ne$ 0, we can use an elementary algebraic method called [completing the square](https://en.wikipedia.org/wiki/Completing_the_square) to show that a quadratic equation has the following solution:\n",
    "\n",
    "\n",
    "<center> $ x = \\dfrac{-b±\\sqrt{b^2-4ac}}{2a}$ </center>\n",
    "\n",
    "## Discriminant \n",
    "\n",
    "The quantity $\\Delta = b^2 - 4ac$ is called the **discriminant** of the equation and decides the nature of its solutions. The table below shows the various possibilities.\n",
    "\n",
    "| **Discriminant** |  **Roots**\n",
    "| :---:| :-- |\n",
    "| $\\Delta = b^2 - 4ac = 0$    |  A single solution of $-b/(2a)$  \n",
    "| $\\Delta = b^2 - 4ac > 0$    |  Two distinct solutions  |\n",
    "| $\\Delta = b^2 - 4ac < 0$    |  No real solutions; both are complex.  |   "
   ]
  },
  {
   "attachments": {},
   "cell_type": "markdown",
   "id": "46ecd2e4",
   "metadata": {},
   "source": [
    "### Solutions"
   ]
  },
  {
   "cell_type": "markdown",
   "id": "dc3c4e36-32bf-4356-9fee-294f863f5ded",
   "metadata": {},
   "source": [
    "\n",
    "1. What is a Git **repository**? A Git repository is a place in Github to store and upload code and files. A repository can be shared among other people in an  organisation for editing or review. In addition, Repositories allow us to view version history and changes  made by collbarators. \n",
    "2. Git keeps track of version changes in the files in our repository.\n",
    "3. What is a **commit**? A commit is a\n",
    "4. What is a **push**? A command used to upload content from your local area to the respective repository. \n",
    "5. What is a **pull**? A command used to view and accept changes and edits made by other users from the repository. \n",
    "6. What is the difference between **Github** and **Github Desktop**? \n"
   ]
  },
  {
   "attachments": {},
   "cell_type": "markdown",
   "id": "b0d983c2",
   "metadata": {},
   "source": [
    "### Discriminant"
   ]
  },
  {
   "cell_type": "markdown",
   "id": "126179dc-dcd3-4b1c-b544-da4af97b6c6a",
   "metadata": {},
   "source": [
    "$\\mu = \\frac{1}{n}\\sum_{i =1}^n x_i$"
   ]
  },
  {
   "cell_type": "code",
   "execution_count": 7,
   "id": "06b9be1f-e245-4d6a-951b-40610eee788f",
   "metadata": {},
   "outputs": [
    {
     "ename": "SyntaxError",
     "evalue": "invalid syntax (3938007404.py, line 1)",
     "output_type": "error",
     "traceback": [
      "\u001b[0;36m  Cell \u001b[0;32mIn[7], line 1\u001b[0;36m\u001b[0m\n\u001b[0;31m    $\\sigma = \\sqrt$\u001b[0m\n\u001b[0m    ^\u001b[0m\n\u001b[0;31mSyntaxError\u001b[0m\u001b[0;31m:\u001b[0m invalid syntax\n"
     ]
    }
   ],
   "source": [
    "$\\sigma = \\sqrt$"
   ]
  },
  {
   "cell_type": "code",
   "execution_count": null,
   "id": "ed340e33-4f9c-4bd8-a0cb-92d172c057f0",
   "metadata": {},
   "outputs": [],
   "source": []
  }
 ],
 "metadata": {
  "kernelspec": {
   "display_name": "Python 3 (ipykernel)",
   "language": "python",
   "name": "python3"
  },
  "language_info": {
   "codemirror_mode": {
    "name": "ipython",
    "version": 3
   },
   "file_extension": ".py",
   "mimetype": "text/x-python",
   "name": "python",
   "nbconvert_exporter": "python",
   "pygments_lexer": "ipython3",
   "version": "3.12.2"
  },
  "toc": {
   "base_numbering": 1,
   "nav_menu": {},
   "number_sections": true,
   "sideBar": true,
   "skip_h1_title": false,
   "title_cell": "Table of Contents",
   "title_sidebar": "Contents",
   "toc_cell": false,
   "toc_position": {},
   "toc_section_display": true,
   "toc_window_display": false
  },
  "vscode": {
   "interpreter": {
    "hash": "31f2aee4e71d21fbe5cf8b01ff0e069b9275f58929596ceb00d14d90e3e16cd6"
   }
  }
 },
 "nbformat": 4,
 "nbformat_minor": 5
}
