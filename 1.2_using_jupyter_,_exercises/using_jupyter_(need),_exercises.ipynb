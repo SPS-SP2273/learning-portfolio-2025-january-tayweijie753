{
 "cells": [
  {
   "attachments": {},
   "cell_type": "markdown",
   "id": "123456",
   "metadata": {},
   "source": [
    "<div style=\"text-align:left;font-size:2em\"><span style=\"font-weight:bolder;font-size:1.25em\">SP2273 | Learning Portfolio</span><br><br><span style=\"font-weight:bold;color:darkred\">Using Jupyter (Need), Exercises</span></div>"
   ]
  },
  {
   "attachments": {},
   "cell_type": "markdown",
   "id": "ed915ae1",
   "metadata": {},
   "source": [
    "# Quadratic Equations"
   ]
  },
  {
   "attachments": {},
   "cell_type": "markdown",
   "id": "182a36b8",
   "metadata": {},
   "source": [
    "## Introduction"
   ]
  },
  {
   "cell_type": "markdown",
   "id": "75ac660c-9b6c-42f4-b955-9a8832b480be",
   "metadata": {},
   "source": [
    "![](https://upload.wikimedia.org/wikipedia/commons/thumb/f/f8/Polynomialdeg2.svg/300px-Polynomialdeg2.svg.png)\n",
    "\n",
    "(Image from the [Wikipedia page on Quadratic equations](https://en.wikipedia.org/wiki/Quadratic_equation))\n",
    "\n",
    "The general form of a quadratic equation is:\n",
    "\n",
    "<center> $ ax^2 + bx + c = 0 $</center> \n",
    "\n",
    "## Solutions \n",
    "\n",
    "Provided a $\\ne$ 0, we can use an elementary algebraic method called [completing the square](https://en.wikipedia.org/wiki/Completing_the_square) to show that a quadratic equation has the following solution:\n",
    "\n",
    "\n",
    "<center> $ x = \\dfrac{-b±\\sqrt{b^2-4ac}}{2a}$ </center>\n",
    "\n",
    "## Discriminant \n",
    "\n",
    "The quantity $\\Delta = b^2 - 4ac$ is called the **discriminant** of the equation and decides the nature of its solutions. The table below shows the various possibilities.\n",
    "\n",
    "| **Discriminant** |  **Roots** |\n",
    "| :---:| :-- |\n",
    "| $\\Delta = b^2 - 4ac = 0$    |  A single solution of $-b/(2a)$  |\n",
    "| $\\Delta = b^2 - 4ac > 0$    |  Two distinct solutions  |\n",
    "| $\\Delta = b^2 - 4ac < 0$    |  No real solutions; both are complex.  |   "
   ]
  },
  {
   "cell_type": "markdown",
   "id": "dc3c4e36-32bf-4356-9fee-294f863f5ded",
   "metadata": {
    "jp-MarkdownHeadingCollapsed": true
   },
   "source": [
    "# Exercise 2\n",
    "\n",
    "1. What is a Git **repository**? A Git repository is a place in Github to store, upload, and track changes in code files. A repository can be shared among other people in an  organisation for editing or review. In addition, Repositories allow us to view the entire version history and changes made by collbarators. \n",
    "2. Git keeps track of changes in the files in our repository.\n",
    "3. What is a **commit**? A commit acts a 'save' function after user has completed his/her work. A commit saves files & includes a brief description of the changes that the user can add to track changes. The updated work can then be viewed by other users in the repository. In addition, the user can revert back to a previous commit in cases of bugs. \n",
    "4. What is a **push**? A command used to upload content from your local device to the respective Github repository. \n",
    "5. What is a **pull**? A command used to view and accept changes and edits made by other users from the Github repository. \n",
    "6. What is the difference between **Github** and **Github Desktop**? Github is on a webpage used to manage repositories. Github local command line terminal is used to update changes to be reflected into Github (push, pull, commit). Github desktop provides a user friendly graphical user interface to manage repositories on your computer. It uses buttons for push, pull, commit requests, eliminating the use of command lines. \n"
   ]
  },
  {
   "cell_type": "markdown",
   "id": "126179dc-dcd3-4b1c-b544-da4af97b6c6a",
   "metadata": {},
   "source": [
    "# Exercise 3\n",
    "\n",
    "$$\\mu = \\frac{1}{n}\\sum_{i = 1}^n x_i$$"
   ]
  },
  {
   "cell_type": "markdown",
   "id": "1caba741-f43d-449d-a2a4-fd8881c2b160",
   "metadata": {},
   "source": [
    "$$\\sigma = \\sqrt{\\frac{1}{n}\\sum_{i = 1}^n{(x_i -\\mu)^2}}$$\n"
   ]
  },
  {
   "cell_type": "markdown",
   "id": "e8a556ac-b43f-438e-a67f-60b4066e229b",
   "metadata": {},
   "source": [
    "$$r = \\frac{\\sum_{i = 1}^n(x_i - \\mu \\small X)(y_i - \\mu \\small Y)}{\\sqrt{\\sum_{i = 1}^n(x_i - \\mu \\small X)^2 \\sum_{i = 1}^n(y_i - \\mu \\small Y)^2}} $$"
   ]
  }
 ],
 "metadata": {
  "kernelspec": {
   "display_name": "Python 3 (ipykernel)",
   "language": "python",
   "name": "python3"
  },
  "language_info": {
   "codemirror_mode": {
    "name": "ipython",
    "version": 3
   },
   "file_extension": ".py",
   "mimetype": "text/x-python",
   "name": "python",
   "nbconvert_exporter": "python",
   "pygments_lexer": "ipython3",
   "version": "3.12.2"
  },
  "toc": {
   "base_numbering": 1,
   "nav_menu": {},
   "number_sections": true,
   "sideBar": true,
   "skip_h1_title": false,
   "title_cell": "Table of Contents",
   "title_sidebar": "Contents",
   "toc_cell": false,
   "toc_position": {},
   "toc_section_display": true,
   "toc_window_display": false
  },
  "vscode": {
   "interpreter": {
    "hash": "31f2aee4e71d21fbe5cf8b01ff0e069b9275f58929596ceb00d14d90e3e16cd6"
   }
  }
 },
 "nbformat": 4,
 "nbformat_minor": 5
}
