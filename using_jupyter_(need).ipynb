{
 "cells": [
  {
   "attachments": {},
   "cell_type": "markdown",
   "id": "123456",
   "metadata": {},
   "source": [
    "<div style=\"text-align:left;font-size:2em\"><span style=\"font-weight:bolder;font-size:1.25em\">SP2273 | Learning Portfolio</span><br><br><span style=\"font-weight:bold;color:darkred\">Using Jupyter (Need)</span></div>"
   ]
  },
  {
   "attachments": {},
   "cell_type": "markdown",
   "id": "97c7134b",
   "metadata": {},
   "source": [
    "# What to expect in this chapter"
   ]
  },
  {
   "attachments": {},
   "cell_type": "markdown",
   "id": "f6ea5b0b",
   "metadata": {},
   "source": [
    "# 1 Getting ready"
   ]
  },
  {
   "attachments": {},
   "cell_type": "markdown",
   "id": "3e8fd15f",
   "metadata": {},
   "source": [
    "# 2 Getting started with Jupyter"
   ]
  },
  {
   "attachments": {},
   "cell_type": "markdown",
   "id": "dc9ef230",
   "metadata": {},
   "source": [
    "## 2.1 It is all about running cells"
   ]
  },
  {
   "attachments": {},
   "cell_type": "markdown",
   "id": "e1435032",
   "metadata": {},
   "source": [
    "## 2.2 A traditional start"
   ]
  },
  {
   "cell_type": "code",
   "execution_count": 1,
   "id": "dde56430-5513-4ab4-b522-e5eb6d41fc3b",
   "metadata": {},
   "outputs": [
    {
     "name": "stdout",
     "output_type": "stream",
     "text": [
      "hello world\n",
      "hello world\n"
     ]
    }
   ],
   "source": [
    "print ('hello world')\n",
    "print ('hello world')"
   ]
  },
  {
   "attachments": {},
   "cell_type": "markdown",
   "id": "f09fcf9c",
   "metadata": {},
   "source": [
    "# 3 All about Markdown"
   ]
  },
  {
   "attachments": {},
   "cell_type": "markdown",
   "id": "7ffe1e3e",
   "metadata": {},
   "source": [
    "The ships *hung* in the sky in much the same way that **bricks don’t.**"
   ]
  },
  {
   "attachments": {},
   "cell_type": "markdown",
   "id": "194bbce1",
   "metadata": {},
   "source": [
    "## 3.3 Headings"
   ]
  },
  {
   "attachments": {},
   "cell_type": "markdown",
   "id": "7b5da9bc",
   "metadata": {},
   "source": [
    "## 3.2 Some basic syntax"
   ]
  },
  {
   "attachments": {},
   "cell_type": "markdown",
   "id": "99a827c8",
   "metadata": {},
   "source": [
    "## 3.4 Displaying Code"
   ]
  },
  {
   "attachments": {},
   "cell_type": "markdown",
   "id": "7c3cda6a",
   "metadata": {},
   "source": [
    "## 3.5 Links"
   ]
  },
  {
   "attachments": {},
   "cell_type": "markdown",
   "id": "3c764348",
   "metadata": {},
   "source": [
    "## 3.6 Images\n",
    "\n",
    "This is a link to [NUS](https:nus.edu.sg/).\n"
   ]
  },
  {
   "attachments": {},
   "cell_type": "markdown",
   "id": "1dd3510b",
   "metadata": {},
   "source": [
    "## 3.7 Tables \n",
    "#### Link: https://www.tablesgenerator.com/\n",
    "\n"
   ]
  },
  {
   "attachments": {},
   "cell_type": "markdown",
   "id": "8f87a85b",
   "metadata": {},
   "source": [
    "## 3.8 Lists"
   ]
  },
  {
   "cell_type": "markdown",
   "id": "b9723ee6-7b89-4af1-8828-bbc8fc19d66f",
   "metadata": {},
   "source": [
    "## 3.9 Equations\n",
    "\n",
    "$$\\int x dx= d\\frac{1}/{2}x^2"
   ]
  },
  {
   "attachments": {},
   "cell_type": "markdown",
   "id": "0b6942d5",
   "metadata": {},
   "source": [
    "## Footnotes"
   ]
  },
  {
   "cell_type": "code",
   "execution_count": null,
   "id": "643324b1-d43b-43cb-bea5-da4822d035d1",
   "metadata": {},
   "outputs": [],
   "source": []
  }
 ],
 "metadata": {
  "kernelspec": {
   "display_name": "Python 3 (ipykernel)",
   "language": "python",
   "name": "python3"
  },
  "language_info": {
   "codemirror_mode": {
    "name": "ipython",
    "version": 3
   },
   "file_extension": ".py",
   "mimetype": "text/x-python",
   "name": "python",
   "nbconvert_exporter": "python",
   "pygments_lexer": "ipython3",
   "version": "3.12.2"
  },
  "toc": {
   "base_numbering": 1,
   "nav_menu": {},
   "number_sections": true,
   "sideBar": true,
   "skip_h1_title": false,
   "title_cell": "Table of Contents",
   "title_sidebar": "Contents",
   "toc_cell": false,
   "toc_position": {},
   "toc_section_display": true,
   "toc_window_display": false
  },
  "vscode": {
   "interpreter": {
    "hash": "31f2aee4e71d21fbe5cf8b01ff0e069b9275f58929596ceb00d14d90e3e16cd6"
   }
  }
 },
 "nbformat": 4,
 "nbformat_minor": 5
}
