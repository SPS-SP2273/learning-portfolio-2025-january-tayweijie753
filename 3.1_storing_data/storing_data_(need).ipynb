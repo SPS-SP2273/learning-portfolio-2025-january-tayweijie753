{
 "cells": [
  {
   "attachments": {},
   "cell_type": "markdown",
   "id": "123456",
   "metadata": {},
   "source": [
    "<div style=\"text-align:left;font-size:2em\"><span style=\"font-weight:bolder;font-size:1.25em\">SP2273 | Learning Portfolio</span><br><br><span style=\"font-weight:bold;color:darkred\">Storing Data (Need)</span></div>"
   ]
  },
  {
   "attachments": {},
   "cell_type": "markdown",
   "id": "a90bf7c8",
   "metadata": {},
   "source": [
    "# What to expect in this chapter"
   ]
  },
  {
   "attachments": {},
   "cell_type": "markdown",
   "id": "2ccde787",
   "metadata": {},
   "source": [
    "# 1 Lists, Arrays & Dictionaries"
   ]
  },
  {
   "cell_type": "code",
   "execution_count": 3,
   "id": "654f5139-4ba6-4497-a509-6efffc18f38e",
   "metadata": {},
   "outputs": [],
   "source": [
    "list = [1,2,3,4,5] #list() is a function aka a keyword. Hence, dont confuse using this with a variable "
   ]
  },
  {
   "cell_type": "code",
   "execution_count": 15,
   "id": "d8b099a4-6f66-494e-9948-e137d03cfdd3",
   "metadata": {},
   "outputs": [],
   "source": [
    "import numpy as np "
   ]
  },
  {
   "cell_type": "code",
   "execution_count": 16,
   "id": "d64db916-5063-45d3-95ac-1fb98389f6fb",
   "metadata": {},
   "outputs": [],
   "source": [
    "py_list=[1,2,3,4,5] #good for data presentation "
   ]
  },
  {
   "cell_type": "code",
   "execution_count": 17,
   "id": "9e0306ca-f02d-492e-adda-aacd59c5d8d0",
   "metadata": {},
   "outputs": [
    {
     "data": {
      "text/plain": [
       "[1, 2, 3, 4, 5]"
      ]
     },
     "execution_count": 17,
     "metadata": {},
     "output_type": "execute_result"
    }
   ],
   "source": [
    "py_list"
   ]
  },
  {
   "cell_type": "code",
   "execution_count": 18,
   "id": "f80402ab-9c8d-4c73-b543-6c674d1d8d66",
   "metadata": {},
   "outputs": [
    {
     "data": {
      "text/plain": [
       "array([1, 2, 3, 4, 5])"
      ]
     },
     "execution_count": 18,
     "metadata": {},
     "output_type": "execute_result"
    }
   ],
   "source": [
    "np_array = np.array([1,2,3,4,5])\n",
    "np_array #used for mathematical scienfitic stuff. good for long lists of number"
   ]
  },
  {
   "cell_type": "markdown",
   "id": "c4eeaf3a-6359-4494-aad8-a1470b9d6d2e",
   "metadata": {},
   "source": [
    "### Things you can do or not"
   ]
  },
  {
   "cell_type": "code",
   "execution_count": 24,
   "id": "a588ce79-600d-45c2-b483-43807fd7c8c9",
   "metadata": {},
   "outputs": [],
   "source": [
    "import numpy as np\n",
    "py_list = [1,2,3,4,5]\n",
    "np_array = np.array([1,2,3,4,5])"
   ]
  },
  {
   "cell_type": "code",
   "execution_count": 26,
   "id": "68843c0c-80d1-46fb-bd4a-0c0c94dd50b2",
   "metadata": {},
   "outputs": [
    {
     "ename": "TypeError",
     "evalue": "can only concatenate list (not \"int\") to list",
     "output_type": "error",
     "traceback": [
      "\u001b[0;31m---------------------------------------------------------------------------\u001b[0m",
      "\u001b[0;31mTypeError\u001b[0m                                 Traceback (most recent call last)",
      "Cell \u001b[0;32mIn[26], line 1\u001b[0m\n\u001b[0;32m----> 1\u001b[0m \u001b[43mpy_list\u001b[49m\u001b[43m \u001b[49m\u001b[38;5;241;43m+\u001b[39;49m\u001b[43m \u001b[49m\u001b[38;5;241;43m1\u001b[39;49m\n",
      "\u001b[0;31mTypeError\u001b[0m: can only concatenate list (not \"int\") to list"
     ]
    }
   ],
   "source": [
    "py_list + 1"
   ]
  },
  {
   "cell_type": "code",
   "execution_count": 27,
   "id": "3ef87c47-cac4-4f2f-9971-2032ae5856be",
   "metadata": {},
   "outputs": [
    {
     "data": {
      "text/plain": [
       "array([2, 3, 4, 5, 6])"
      ]
     },
     "execution_count": 27,
     "metadata": {},
     "output_type": "execute_result"
    }
   ],
   "source": [
    "np_array +1 #can add/multiply "
   ]
  },
  {
   "cell_type": "code",
   "execution_count": 28,
   "id": "9599d033-e8dc-4b1e-908d-a4273dd9e1b6",
   "metadata": {},
   "outputs": [
    {
     "data": {
      "text/plain": [
       "array([ 1,  4,  9, 16, 25])"
      ]
     },
     "execution_count": 28,
     "metadata": {},
     "output_type": "execute_result"
    }
   ],
   "source": [
    "np_array**2"
   ]
  },
  {
   "cell_type": "code",
   "execution_count": 29,
   "id": "f6edc06c-db97-40a2-92bd-9103e07b25fc",
   "metadata": {},
   "outputs": [
    {
     "data": {
      "text/plain": [
       "[1, 2, 3, 4, 5, 1, 2, 3, 4, 5]"
      ]
     },
     "execution_count": 29,
     "metadata": {},
     "output_type": "execute_result"
    }
   ],
   "source": [
    "py_list*2 #py_list remains unchanged. *2 will only show 2 of pylist "
   ]
  },
  {
   "cell_type": "code",
   "execution_count": 30,
   "id": "0ef64177-1343-404d-9803-31704f412183",
   "metadata": {},
   "outputs": [
    {
     "data": {
      "text/plain": [
       "5"
      ]
     },
     "execution_count": 30,
     "metadata": {},
     "output_type": "execute_result"
    }
   ],
   "source": [
    "#find length of array \n",
    "\n",
    "len(np_array)\n",
    "len(py_list)"
   ]
  },
  {
   "cell_type": "code",
   "execution_count": 31,
   "id": "9c133531-3384-4cef-9c2c-1974e2cc0540",
   "metadata": {},
   "outputs": [],
   "source": [
    "my_rand_numbers= np.random.randint(0,100,100)"
   ]
  },
  {
   "cell_type": "code",
   "execution_count": 34,
   "id": "bb66233a-630f-47a1-ae62-8aae75eb15ca",
   "metadata": {},
   "outputs": [],
   "source": [
    "mask = (my_rand_numbers < 50) #shows true/false based on conditon fulfilled"
   ]
  },
  {
   "cell_type": "code",
   "execution_count": 33,
   "id": "a5026d88-6487-4632-bf3d-22738a8bb1b4",
   "metadata": {},
   "outputs": [
    {
     "data": {
      "text/plain": [
       "array([32,  8, 47,  6, 26, 21, 31, 14, 48, 16, 21, 12, 43, 39, 49, 21, 46,\n",
       "       31, 36, 27,  3, 49, 35,  0, 38, 12, 43, 48, 44, 14,  0,  8, 11,  1,\n",
       "       11, 34,  0,  0, 48,  0, 41,  9, 43, 41, 37, 49,  6, 29,  0,  5, 47,\n",
       "       32,  6, 36, 41,  5, 42, 43])"
      ]
     },
     "execution_count": 33,
     "metadata": {},
     "output_type": "execute_result"
    }
   ],
   "source": [
    "my_rand_numbers[mask] #this will give all the trues that are < 50 "
   ]
  },
  {
   "cell_type": "code",
   "execution_count": 35,
   "id": "87049ffd-5626-4d1c-a130-780d819d56f2",
   "metadata": {},
   "outputs": [],
   "source": [
    "mask = (my_rand_numbers < 50) & (my_rand_numbers%2==1)\n",
    "#shows true/false based on conditon fulfilled \n",
    "# if divide by 2 = 0, number is even. Else, odd"
   ]
  },
  {
   "cell_type": "code",
   "execution_count": 36,
   "id": "0e9b6b36-b97a-41c3-a5d0-6f1e7fa63282",
   "metadata": {},
   "outputs": [
    {
     "data": {
      "text/plain": [
       "array([47, 21, 31, 21, 43, 39, 49, 21, 31, 27,  3, 49, 35, 43, 11,  1, 11,\n",
       "       41,  9, 43, 41, 37, 49, 29,  5, 47, 41,  5, 43])"
      ]
     },
     "execution_count": 36,
     "metadata": {},
     "output_type": "execute_result"
    }
   ],
   "source": [
    "my_rand_numbers[mask]"
   ]
  },
  {
   "cell_type": "code",
   "execution_count": 37,
   "id": "a2d4e21e-cf97-4685-8941-16320956e192",
   "metadata": {},
   "outputs": [
    {
     "data": {
      "text/plain": [
       "array([32,  8, 47,  6, 26, 21, 53, 31, 14, 87, 93, 48, 16, 21, 63, 12, 43,\n",
       "       39, 49, 21, 46, 63, 31, 36, 27, 57,  3, 49, 35,  0, 63, 38, 67, 12,\n",
       "       43, 48, 79, 91, 44, 81, 14,  0,  8, 51, 11, 87,  1, 11, 34, 57, 93,\n",
       "        0,  0, 48,  0, 97, 63, 41,  9, 43, 41, 37, 49, 89,  6, 29, 63,  0,\n",
       "        5, 47, 65, 75, 32,  6, 36, 91, 41,  5, 42, 51, 43])"
      ]
     },
     "execution_count": 37,
     "metadata": {},
     "output_type": "execute_result"
    }
   ],
   "source": [
    "mask = (my_rand_numbers < 50) | (my_rand_numbers%2==1)\n",
    "# shows true/false based on conditon fulfilled \n",
    "# vertical line is OR. Thus, this gives more numbers since more condition more fulfilled \n",
    "# if divide by 2 = 0, number is even. Else, odd\n",
    "my_rand_numbers[mask]"
   ]
  },
  {
   "cell_type": "code",
   "execution_count": 38,
   "id": "cd3034fa-a223-4a28-888e-c948bfec17a7",
   "metadata": {},
   "outputs": [
    {
     "data": {
      "text/plain": [
       "np.int64(32)"
      ]
     },
     "execution_count": 38,
     "metadata": {},
     "output_type": "execute_result"
    }
   ],
   "source": [
    "my_rand_numbers[0] \n",
    "#this is to access the first number in the array \n",
    "#why use square bracket? this is used to index to subset a value in the array  "
   ]
  },
  {
   "cell_type": "code",
   "execution_count": 39,
   "id": "9b59c45b-e7a6-41da-b0df-47b6a7261efe",
   "metadata": {},
   "outputs": [
    {
     "data": {
      "text/plain": [
       "np.int64(43)"
      ]
     },
     "execution_count": 39,
     "metadata": {},
     "output_type": "execute_result"
    }
   ],
   "source": [
    "my_rand_numbers[-1]\n",
    "#this shows the last value of the array and so on. eg. if use -2(45)"
   ]
  },
  {
   "cell_type": "code",
   "execution_count": 40,
   "id": "409de90e-b65a-4a7a-97f1-ce4f3c7f97cf",
   "metadata": {},
   "outputs": [
    {
     "data": {
      "text/plain": [
       "4"
      ]
     },
     "execution_count": 40,
     "metadata": {},
     "output_type": "execute_result"
    }
   ],
   "source": [
    "py_list[-2]"
   ]
  },
  {
   "cell_type": "code",
   "execution_count": 41,
   "id": "a0e640e9-97d9-4b9b-a0ec-df0a97fa8a76",
   "metadata": {},
   "outputs": [],
   "source": [
    "py_2d_list = [[1,2,3],[4,5,6],[7,8,9]]"
   ]
  },
  {
   "cell_type": "code",
   "execution_count": 42,
   "id": "aed510b6-6c96-4706-bf81-8e9a6e9a5bef",
   "metadata": {},
   "outputs": [],
   "source": [
    "py_list_2d = [[1, \"A\"], [2, \"B\"], [3, \"C\"], [4, \"D\"],\n",
    "              [5, \"E\"], [6, \"F\"], [7, \"G\"], [8, \"H\"],\n",
    "              [9, \"I\"], [10, \"J\"]]\n",
    "\n",
    "np_array_2d = np.array(py_list_2d)      # Reusing the Python list \n",
    "                                        # to create a NEW\n",
    "                                        # NumPy array"
   ]
  },
  {
   "cell_type": "code",
   "execution_count": 67,
   "id": "380e59d5-ece8-4e0a-bdbd-3c8bdc447b85",
   "metadata": {},
   "outputs": [
    {
     "data": {
      "text/plain": [
       "array([['1', 'A'],\n",
       "       ['2', 'B'],\n",
       "       ['3', 'C'],\n",
       "       ['4', 'D'],\n",
       "       ['5', 'E'],\n",
       "       ['6', 'F'],\n",
       "       ['7', 'G'],\n",
       "       ['8', 'H'],\n",
       "       ['9', 'I'],\n",
       "       ['10', 'J']], dtype='<U21')"
      ]
     },
     "execution_count": 67,
     "metadata": {},
     "output_type": "execute_result"
    }
   ],
   "source": [
    "np_array_2d"
   ]
  },
  {
   "cell_type": "code",
   "execution_count": 66,
   "id": "f9d976ed-7893-4b91-8e20-9fb9eae70799",
   "metadata": {},
   "outputs": [
    {
     "data": {
      "text/plain": [
       "[[1, 'A'],\n",
       " [2, 'B'],\n",
       " [3, 'C'],\n",
       " [4, 'D'],\n",
       " [5, 'E'],\n",
       " [6, 'F'],\n",
       " [7, 'G'],\n",
       " [8, 'H'],\n",
       " [9, 'I'],\n",
       " [10, 'J']]"
      ]
     },
     "execution_count": 66,
     "metadata": {},
     "output_type": "execute_result"
    }
   ],
   "source": [
    "py_list_2d"
   ]
  },
  {
   "cell_type": "markdown",
   "id": "a968c381-1149-46a4-a29b-5d38724e1d68",
   "metadata": {},
   "source": [
    "## NP array vs Py list? \n",
    "\n",
    "- NP array dont tolerate multiple variable type. Only allows one type as numpy is optimised to do array operations\n",
    "- Lists can include different variable types. In this eg, '1' and 'A' have inverted commas shown "
   ]
  },
  {
   "cell_type": "markdown",
   "id": "f1fc0b2e-af32-45d7-bdf1-9640367d5025",
   "metadata": {},
   "source": [
    "## Accessing data in arrays and list"
   ]
  },
  {
   "cell_type": "code",
   "execution_count": 74,
   "id": "b4d21672-c106-4378-b8d2-ac2534310cb8",
   "metadata": {},
   "outputs": [
    {
     "data": {
      "text/plain": [
       "'A'"
      ]
     },
     "execution_count": 74,
     "metadata": {},
     "output_type": "execute_result"
    }
   ],
   "source": [
    "py_list_2d[0][1] #if u want to get 'A' "
   ]
  },
  {
   "cell_type": "code",
   "execution_count": 75,
   "id": "923daf1e-3bee-4765-bf99-cfa394382faf",
   "metadata": {},
   "outputs": [
    {
     "data": {
      "text/plain": [
       "np.str_('A')"
      ]
     },
     "execution_count": 75,
     "metadata": {},
     "output_type": "execute_result"
    }
   ],
   "source": [
    "np_array_2d[0,1] #np can access via 0,1 "
   ]
  },
  {
   "cell_type": "markdown",
   "id": "28bf1973-0c4d-43b2-ae11-f025e0c17d37",
   "metadata": {},
   "source": [
    "## Dictionaries \n",
    "\n",
    "dictionaries have key pair values. The key is the actor's name, while the character name is the value. \n",
    "The value can also be a list"
   ]
  },
  {
   "cell_type": "code",
   "execution_count": 123,
   "id": "0a9550c5-75c1-4f97-be92-ce03a2178b90",
   "metadata": {},
   "outputs": [],
   "source": [
    "superhero_info = {\n",
    "    \"Natasha Romanoff\": [\"Black Widow\", \"Joannsson\"],\n",
    "    \"Tony Stark\": \"Iron Man\",\n",
    "    \"Stephen Strange\": \"Doctor Strange\"\n",
    "}"
   ]
  },
  {
   "cell_type": "code",
   "execution_count": 124,
   "id": "60c7e6c5-1a87-42a8-b22f-09e77e96cc6d",
   "metadata": {},
   "outputs": [
    {
     "data": {
      "text/plain": [
       "['Black Widow', 'Joannsson']"
      ]
     },
     "execution_count": 124,
     "metadata": {},
     "output_type": "execute_result"
    }
   ],
   "source": [
    "# Accessing dictionary \n",
    "\n",
    "superhero_info['Natasha Romanoff']"
   ]
  },
  {
   "cell_type": "code",
   "execution_count": 125,
   "id": "af8c1f6b-f2f4-4225-ba08-b6521dc88457",
   "metadata": {},
   "outputs": [
    {
     "data": {
      "text/plain": [
       "'Joannsson'"
      ]
     },
     "execution_count": 125,
     "metadata": {},
     "output_type": "execute_result"
    }
   ],
   "source": [
    "# Accessing dictionary \n",
    "\n",
    "superhero_info['Natasha Romanoff'][1]"
   ]
  },
  {
   "attachments": {},
   "cell_type": "markdown",
   "id": "4953614a",
   "metadata": {},
   "source": [
    "## 1.1 Let’s compare"
   ]
  },
  {
   "attachments": {},
   "cell_type": "markdown",
   "id": "0d1f8e5a",
   "metadata": {},
   "source": [
    "## 1.2 Accessing data from a list (or array)"
   ]
  },
  {
   "cell_type": "code",
   "execution_count": 126,
   "id": "400e870a-3c32-4eb2-84d8-f9ee2a647c6c",
   "metadata": {},
   "outputs": [
    {
     "ename": "SyntaxError",
     "evalue": "unterminated string literal (detected at line 1) (1280089116.py, line 1)",
     "output_type": "error",
     "traceback": [
      "\u001b[0;36m  Cell \u001b[0;32mIn[126], line 1\u001b[0;36m\u001b[0m\n\u001b[0;31m    py_list=[\"\u001b[0m\n\u001b[0m             ^\u001b[0m\n\u001b[0;31mSyntaxError\u001b[0m\u001b[0;31m:\u001b[0m unterminated string literal (detected at line 1)\n"
     ]
    }
   ],
   "source": [
    "py_list=[\"\n",
    "    a1\", #0\n",
    "    \"b2\", #1\n",
    "    \"c3\", #2\n",
    "    \"d4\", #3\n",
    "    \"e5\", #4\n",
    "    \"f6\", #5\n",
    "    \"g7\", #6\n",
    "    \"h8\", #7\n",
    "    \"i9\", #8\n",
    "    \"j10\"] #9\n",
    "np_array=np.array(py_list)\n",
    "\n",
    "# Pick one\n",
    "x = py_list  # OR\n",
    "x = np_array"
   ]
  },
  {
   "cell_type": "code",
   "execution_count": 127,
   "id": "46c56022-826d-4174-ae62-3a9bfa7f0b5b",
   "metadata": {},
   "outputs": [
    {
     "data": {
      "text/plain": [
       "['d4', 'e5', 'f6']"
      ]
     },
     "execution_count": 127,
     "metadata": {},
     "output_type": "execute_result"
    }
   ],
   "source": [
    "py_list[3:6] #this will print #3,4,5. It will not print g7 due to pythons indexing "
   ]
  },
  {
   "cell_type": "code",
   "execution_count": 128,
   "id": "7a781e40-e111-454b-bc57-49024e33cebb",
   "metadata": {},
   "outputs": [
    {
     "data": {
      "text/plain": [
       "['d4', 'e5', 'f6', 'g7', 'h8', 'i9', 'j10']"
      ]
     },
     "execution_count": 128,
     "metadata": {},
     "output_type": "execute_result"
    }
   ],
   "source": [
    "py_list[3:] #this will print everything from 3 onwards"
   ]
  },
  {
   "cell_type": "code",
   "execution_count": 129,
   "id": "5d7e540c-46e1-4689-b8a2-ca04d1576c59",
   "metadata": {},
   "outputs": [
    {
     "data": {
      "text/plain": [
       "['d4', 'f6']"
      ]
     },
     "execution_count": 129,
     "metadata": {},
     "output_type": "execute_result"
    }
   ],
   "source": [
    "py_list[3:6:2] #this will start at 3, end at 6, select every second element from the range"
   ]
  },
  {
   "cell_type": "code",
   "execution_count": 130,
   "id": "f9903565-5940-4807-a687-2d9961f8e371",
   "metadata": {},
   "outputs": [
    {
     "data": {
      "text/plain": [
       "['j10', 'i9', 'h8', 'g7', 'f6', 'e5', 'd4', 'c3', 'b2', 'a1']"
      ]
     },
     "execution_count": 130,
     "metadata": {},
     "output_type": "execute_result"
    }
   ],
   "source": [
    "py_list[-1::-1] # this will start at the end, end at the start, and select every 1st element from the range"
   ]
  },
  {
   "cell_type": "code",
   "execution_count": 131,
   "id": "f415d90c-8f78-4171-bee2-046cc6e394a4",
   "metadata": {},
   "outputs": [
    {
     "data": {
      "text/plain": [
       "[[2, 'B'], [3, 'C'], [4, 'D']]"
      ]
     },
     "execution_count": 131,
     "metadata": {},
     "output_type": "execute_result"
    }
   ],
   "source": [
    "py_list_2d[1:4]"
   ]
  },
  {
   "cell_type": "code",
   "execution_count": 132,
   "id": "a4964c94-9331-472e-a04f-092dba1c9e95",
   "metadata": {},
   "outputs": [
    {
     "data": {
      "text/plain": [
       "array([   1,    8,   27,   64,  125,  216,  343,  512,  729, 1000])"
      ]
     },
     "execution_count": 132,
     "metadata": {},
     "output_type": "execute_result"
    }
   ],
   "source": [
    "np_array_2d[:,0].astype(int)**3 #can do math in numpy array"
   ]
  },
  {
   "attachments": {},
   "cell_type": "markdown",
   "id": "95d969f4",
   "metadata": {},
   "source": [
    "## Growing to lists"
   ]
  },
  {
   "cell_type": "code",
   "execution_count": 133,
   "id": "867ef300-8640-48d0-b670-2eab2fab4740",
   "metadata": {},
   "outputs": [
    {
     "ename": "SyntaxError",
     "evalue": "invalid syntax (3075083747.py, line 1)",
     "output_type": "error",
     "traceback": [
      "\u001b[0;36m  Cell \u001b[0;32mIn[133], line 1\u001b[0;36m\u001b[0m\n\u001b[0;31m    [1, 2] + [8,9,0], + ['A','B']:\u001b[0m\n\u001b[0m                                 ^\u001b[0m\n\u001b[0;31mSyntaxError\u001b[0m\u001b[0;31m:\u001b[0m invalid syntax\n"
     ]
    }
   ],
   "source": [
    "[1, 2] + [8,9,0], + ['A','B']: "
   ]
  },
  {
   "cell_type": "code",
   "execution_count": 134,
   "id": "5649f5a2-4212-4086-bb9a-f0e97bf02739",
   "metadata": {},
   "outputs": [
    {
     "data": {
      "text/plain": [
       "[10000, 2, 3]"
      ]
     },
     "execution_count": 134,
     "metadata": {},
     "output_type": "execute_result"
    }
   ],
   "source": [
    "x=[1,2,3]\n",
    "x[0]=10000\n",
    "x"
   ]
  },
  {
   "cell_type": "code",
   "execution_count": 135,
   "id": "62ece76b-70f4-4267-91a9-8d8e19889e3a",
   "metadata": {},
   "outputs": [
    {
     "ename": "TypeError",
     "evalue": "'tuple' object does not support item assignment",
     "output_type": "error",
     "traceback": [
      "\u001b[0;31m---------------------------------------------------------------------------\u001b[0m",
      "\u001b[0;31mTypeError\u001b[0m                                 Traceback (most recent call last)",
      "Cell \u001b[0;32mIn[135], line 2\u001b[0m\n\u001b[1;32m      1\u001b[0m y\u001b[38;5;241m=\u001b[39m(\u001b[38;5;241m1\u001b[39m,\u001b[38;5;241m2\u001b[39m,\u001b[38;5;241m3\u001b[39m) \u001b[38;5;66;03m#this is a tuple \u001b[39;00m\n\u001b[0;32m----> 2\u001b[0m \u001b[43my\u001b[49m\u001b[43m[\u001b[49m\u001b[38;5;241;43m0\u001b[39;49m\u001b[43m]\u001b[49m\u001b[38;5;241m=\u001b[39m\u001b[38;5;241m1000\u001b[39m \n\u001b[1;32m      4\u001b[0m \u001b[38;5;66;03m# tupples cannot be changed. but list and arrays can \u001b[39;00m\n",
      "\u001b[0;31mTypeError\u001b[0m: 'tuple' object does not support item assignment"
     ]
    }
   ],
   "source": [
    "y=(1,2,3) #this is a tuple \n",
    "y[0]=1000 \n",
    "\n",
    "# tupples cannot be changed. but list and arrays can "
   ]
  },
  {
   "cell_type": "code",
   "execution_count": 136,
   "id": "dc47e9e6-2690-408f-93a7-87cb3e09676e",
   "metadata": {},
   "outputs": [
    {
     "data": {
      "text/plain": [
       "([1, 2, 3], [1, 2, 3], [1, 2, 3])"
      ]
     },
     "execution_count": 136,
     "metadata": {},
     "output_type": "execute_result"
    }
   ],
   "source": [
    "x=[1, 2, 3]\n",
    "y=x           # DON'T do this!\n",
    "z=x           # DON'T do this!\n",
    "\n",
    "x, y, z"
   ]
  },
  {
   "cell_type": "code",
   "execution_count": 137,
   "id": "f87817c6-1e96-4db6-88a4-1016e725ab92",
   "metadata": {},
   "outputs": [
    {
     "data": {
      "text/plain": [
       "([1000, 2, 3], [1000, 2, 3], [1000, 2, 3])"
      ]
     },
     "execution_count": 137,
     "metadata": {},
     "output_type": "execute_result"
    }
   ],
   "source": [
    "x=[1, 2, 3]\n",
    "y=x           # DON'T do this!\n",
    "z=x  \n",
    "\n",
    "x[0] = 1000\n",
    "\n",
    "\n",
    "\n",
    "x,y,z"
   ]
  },
  {
   "cell_type": "code",
   "execution_count": 138,
   "id": "ccdc81e3-dbe1-480b-94c2-1a72eb179c9f",
   "metadata": {},
   "outputs": [
    {
     "data": {
      "text/plain": [
       "([1000, 2, 3], [1000, 2, 3], [1000, 2, 3])"
      ]
     },
     "execution_count": 138,
     "metadata": {},
     "output_type": "execute_result"
    }
   ],
   "source": [
    "x=[1, 2, 3]\n",
    "x[0] = 1000\n",
    "y=x.copy()\n",
    "z=x.copy()\n",
    "\n",
    "x,y,z"
   ]
  },
  {
   "attachments": {},
   "cell_type": "markdown",
   "id": "dcd8a7ce",
   "metadata": {},
   "source": [
    "## 1.4 Higher dimensional lists"
   ]
  },
  {
   "attachments": {},
   "cell_type": "markdown",
   "id": "e34f7e33",
   "metadata": {},
   "source": [
    "# 2 Lists vs. Arrays"
   ]
  },
  {
   "attachments": {},
   "cell_type": "markdown",
   "id": "e39ca798",
   "metadata": {},
   "source": [
    "## 2.1 Size"
   ]
  },
  {
   "attachments": {},
   "cell_type": "markdown",
   "id": "ca93420d",
   "metadata": {},
   "source": [
    "## 2.2 Arrays are fussy about type"
   ]
  },
  {
   "attachments": {},
   "cell_type": "markdown",
   "id": "3a71b86e",
   "metadata": {},
   "source": [
    "## 2.3 Adding a number"
   ]
  },
  {
   "attachments": {},
   "cell_type": "markdown",
   "id": "13e57fc7",
   "metadata": {},
   "source": [
    "## 2.4 Adding another list"
   ]
  },
  {
   "attachments": {},
   "cell_type": "markdown",
   "id": "e1b732ce",
   "metadata": {},
   "source": [
    "## 2.5 Multiplying by a Number"
   ]
  },
  {
   "attachments": {},
   "cell_type": "markdown",
   "id": "16bedd99",
   "metadata": {},
   "source": [
    "## 2.6 Squaring"
   ]
  },
  {
   "attachments": {},
   "cell_type": "markdown",
   "id": "baf96433",
   "metadata": {},
   "source": [
    "## 2.7 Asking questions"
   ]
  },
  {
   "attachments": {},
   "cell_type": "markdown",
   "id": "22add16f",
   "metadata": {},
   "source": [
    "## 2.8 Mathematics"
   ]
  },
  {
   "attachments": {},
   "cell_type": "markdown",
   "id": "42ef95a4",
   "metadata": {},
   "source": [
    "## Footnotes"
   ]
  }
 ],
 "metadata": {
  "kernelspec": {
   "display_name": "Python 3 (ipykernel)",
   "language": "python",
   "name": "python3"
  },
  "language_info": {
   "codemirror_mode": {
    "name": "ipython",
    "version": 3
   },
   "file_extension": ".py",
   "mimetype": "text/x-python",
   "name": "python",
   "nbconvert_exporter": "python",
   "pygments_lexer": "ipython3",
   "version": "3.12.2"
  },
  "toc": {
   "base_numbering": 1,
   "nav_menu": {},
   "number_sections": true,
   "sideBar": true,
   "skip_h1_title": false,
   "title_cell": "Table of Contents",
   "title_sidebar": "Contents",
   "toc_cell": false,
   "toc_position": {},
   "toc_section_display": true,
   "toc_window_display": false
  },
  "vscode": {
   "interpreter": {
    "hash": "31f2aee4e71d21fbe5cf8b01ff0e069b9275f58929596ceb00d14d90e3e16cd6"
   }
  }
 },
 "nbformat": 4,
 "nbformat_minor": 5
}
