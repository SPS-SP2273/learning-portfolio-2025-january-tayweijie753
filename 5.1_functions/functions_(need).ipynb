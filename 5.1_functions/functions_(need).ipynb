{
 "cells": [
  {
   "attachments": {},
   "cell_type": "markdown",
   "id": "123456",
   "metadata": {},
   "source": [
    "<div style=\"text-align:left;font-size:2em\"><span style=\"font-weight:bolder;font-size:1.25em\">SP2273 | Learning Portfolio</span><br><br><span style=\"font-weight:bold;color:darkred\">Functions (Need)</span></div>"
   ]
  },
  {
   "cell_type": "code",
   "execution_count": 25,
   "id": "bc60060d-f11d-456a-be37-9b9fc4244590",
   "metadata": {},
   "outputs": [],
   "source": [
    "# Define a function \n",
    "import numpy as np\n",
    "def greeting(name):\n",
    "    if name == 'Batman':\n",
    "        return 'Hello Batman!'\n",
    "    else:\n",
    "        return f'Hello{name}!' #function will jump out of the function with the return value "
   ]
  },
  {
   "cell_type": "code",
   "execution_count": 26,
   "id": "7a121f41-61f2-40fa-9a16-3e6d7386de73",
   "metadata": {},
   "outputs": [
    {
     "data": {
      "text/plain": [
       "'Hello Batman!'"
      ]
     },
     "execution_count": 26,
     "metadata": {},
     "output_type": "execute_result"
    }
   ],
   "source": [
    "# the above fxn can be used lke this: \n",
    "greeting(\"Batman\") #need to put function(\"name\")"
   ]
  },
  {
   "cell_type": "code",
   "execution_count": 27,
   "id": "6adeb0f5-bcf1-4166-8f69-b4465fab85c1",
   "metadata": {},
   "outputs": [
    {
     "name": "stdout",
     "output_type": "stream",
     "text": [
      "HelloSuper Man!\n"
     ]
    }
   ],
   "source": [
    "#or can also be used like\n",
    "print(greeting(name='Super Man'))"
   ]
  },
  {
   "cell_type": "code",
   "execution_count": 28,
   "id": "b54cb8fb-99d1-42b5-a5b2-8d89c3cbcc0f",
   "metadata": {},
   "outputs": [],
   "source": [
    "def basic_stats(numbers):\n",
    "    np_numbers = np.array(numbers)\n",
    "    my_min = np_numbers.min()\n",
    "    my_max = np_numbers.max()\n",
    "    my_mean = np_numbers.mean()\n",
    "    return my_max, my_min, my_mean"
   ]
  },
  {
   "cell_type": "code",
   "execution_count": 30,
   "id": "67fc7b74-3438-4033-8472-94cbc152f8c5",
   "metadata": {},
   "outputs": [],
   "source": [
    "list_min, list_max, list_mean = basic_stats([1, 2, 3, 4, 5])"
   ]
  },
  {
   "cell_type": "code",
   "execution_count": 32,
   "id": "80707cab-3c88-48b1-bd7f-652af825a8d9",
   "metadata": {},
   "outputs": [],
   "source": [
    "#Anonymous functions or lambda functions - suitable for short one liners "
   ]
  },
  {
   "cell_type": "raw",
   "id": "9eed9b06-580b-4ebe-bb05-8370a0a01700",
   "metadata": {},
   "source": [
    "my_short_function = lambda name: f\"Hello {name}!\"\n",
    "my_short_function(name=\"Super Man\")"
   ]
  },
  {
   "cell_type": "code",
   "execution_count": 35,
   "id": "42c2b796-4939-456e-958d-38535bdcc34b",
   "metadata": {},
   "outputs": [],
   "source": [
    "numbers=[[9, 0, -10],\n",
    "         [8, 1, -11],\n",
    "         [7, 2, -12],\n",
    "         [6, 3, -13],\n",
    "         [5, 4, -14],\n",
    "         [4, 5, -15],\n",
    "         [3, 6, -16],\n",
    "         [2, 7, -17],\n",
    "         [1, 8, -18],\n",
    "         [0, 9, -19]]"
   ]
  },
  {
   "cell_type": "code",
   "execution_count": 36,
   "id": "eb70fcf9-7412-46ad-8a7a-05e08e4dbce4",
   "metadata": {},
   "outputs": [],
   "source": [
    "#Optional arguments"
   ]
  },
  {
   "cell_type": "code",
   "execution_count": 37,
   "id": "fea1a093-a754-4201-9cb5-1c5940cdae7f",
   "metadata": {},
   "outputs": [],
   "source": [
    "def greeting(name='no one'):\n",
    "    if name == 'Batman':\n",
    "        return 'Hello Batman! So, nice to meet you!'\n",
    "    else:\n",
    "        return f'Hello {name}!'"
   ]
  },
  {
   "cell_type": "code",
   "execution_count": 41,
   "id": "19eac7d0-c6c1-40fa-bb0b-9f47d61a5aa2",
   "metadata": {},
   "outputs": [
    {
     "data": {
      "text/plain": [
       "'Hello tay!'"
      ]
     },
     "execution_count": 41,
     "metadata": {},
     "output_type": "execute_result"
    }
   ],
   "source": [
    "greeting('tay')"
   ]
  },
  {
   "cell_type": "code",
   "execution_count": 42,
   "id": "f76b1eb0-7f2c-49ba-884c-f5df1c9cbeaf",
   "metadata": {},
   "outputs": [],
   "source": [
    "# why are functions good? "
   ]
  },
  {
   "cell_type": "code",
   "execution_count": 43,
   "id": "0e637d41-a6ca-4a7c-b4c5-53656d919f72",
   "metadata": {},
   "outputs": [],
   "source": [
    "# 1) abstraction of details of functions - can hide our code, less disraction \n",
    "# 2) code reusability - dont need to copy and paste. Code will be shorter and more compact\n",
    "# 3) maintainability - easier to change and maintain bc only need to make changes in one place "
   ]
  },
  {
   "cell_type": "code",
   "execution_count": null,
   "id": "5b208028-1ddd-44ad-b116-b6b8221c98de",
   "metadata": {},
   "outputs": [],
   "source": []
  }
 ],
 "metadata": {
  "kernelspec": {
   "display_name": "Python 3 (ipykernel)",
   "language": "python",
   "name": "python3"
  },
  "language_info": {
   "codemirror_mode": {
    "name": "ipython",
    "version": 3
   },
   "file_extension": ".py",
   "mimetype": "text/x-python",
   "name": "python",
   "nbconvert_exporter": "python",
   "pygments_lexer": "ipython3",
   "version": "3.12.2"
  },
  "toc": {
   "base_numbering": 1,
   "nav_menu": {},
   "number_sections": true,
   "sideBar": true,
   "skip_h1_title": false,
   "title_cell": "Table of Contents",
   "title_sidebar": "Contents",
   "toc_cell": false,
   "toc_position": {},
   "toc_section_display": true,
   "toc_window_display": false
  },
  "vscode": {
   "interpreter": {
    "hash": "31f2aee4e71d21fbe5cf8b01ff0e069b9275f58929596ceb00d14d90e3e16cd6"
   }
  }
 },
 "nbformat": 4,
 "nbformat_minor": 5
}
