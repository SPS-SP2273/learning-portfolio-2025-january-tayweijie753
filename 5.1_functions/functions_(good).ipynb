{
 "cells": [
  {
   "attachments": {},
   "cell_type": "markdown",
   "id": "123456",
   "metadata": {},
   "source": [
    "<div style=\"text-align:left;font-size:2em\"><span style=\"font-weight:bolder;font-size:1.25em\">SP2273 | Learning Portfolio</span><br><br><span style=\"font-weight:bold;color:darkred\">Functions (Good)</span></div>"
   ]
  },
  {
   "cell_type": "code",
   "execution_count": 21,
   "id": "11c3617d-3f76-4795-833f-dbbbffcaaf7b",
   "metadata": {},
   "outputs": [],
   "source": [
    "\n",
    "def area_triangle(base, height): #define a function called area of rinagle \n",
    "    return (1/2*base*height)"
   ]
  },
  {
   "cell_type": "code",
   "execution_count": 22,
   "id": "7d41028a-82ed-4cfe-9cb5-0fc3736add53",
   "metadata": {},
   "outputs": [],
   "source": [
    "import numpy as np"
   ]
  },
  {
   "cell_type": "code",
   "execution_count": 5,
   "id": "32993e3a-c4b2-4879-b29c-ddb140316e2d",
   "metadata": {},
   "outputs": [
    {
     "data": {
      "text/plain": [
       "10.0"
      ]
     },
     "execution_count": 5,
     "metadata": {},
     "output_type": "execute_result"
    }
   ],
   "source": [
    "area_triangle(4,5) #pass argument 4, 5 \n",
    "\n",
    "### cannot access the variable 4 and 5 outside the function "
   ]
  },
  {
   "cell_type": "code",
   "execution_count": 8,
   "id": "e2caacef-df71-48b3-a0d6-6a1c5cd0c956",
   "metadata": {},
   "outputs": [
    {
     "ename": "NameError",
     "evalue": "name 'base' is not defined",
     "output_type": "error",
     "traceback": [
      "\u001b[0;31m---------------------------------------------------------------------------\u001b[0m",
      "\u001b[0;31mNameError\u001b[0m                                 Traceback (most recent call last)",
      "Cell \u001b[0;32mIn[8], line 1\u001b[0m\n\u001b[0;32m----> 1\u001b[0m \u001b[43mbase\u001b[49m \u001b[38;5;66;03m#this will not work, base is a local variable \u001b[39;00m\n",
      "\u001b[0;31mNameError\u001b[0m: name 'base' is not defined"
     ]
    }
   ],
   "source": [
    "base #this will not work, base is a local variable "
   ]
  },
  {
   "cell_type": "markdown",
   "id": "6ddca16e-8164-4242-a136-a08ce3d40d31",
   "metadata": {},
   "source": [
    "Assert function "
   ]
  },
  {
   "cell_type": "code",
   "execution_count": 10,
   "id": "a7b9b764-a761-4d6e-89b2-5be8ea67b804",
   "metadata": {},
   "outputs": [
    {
     "ename": "AssertionError",
     "evalue": "x must be positive",
     "output_type": "error",
     "traceback": [
      "\u001b[0;31m---------------------------------------------------------------------------\u001b[0m",
      "\u001b[0;31mAssertionError\u001b[0m                            Traceback (most recent call last)",
      "Cell \u001b[0;32mIn[10], line 2\u001b[0m\n\u001b[1;32m      1\u001b[0m x \u001b[38;5;241m=\u001b[39m \u001b[38;5;241m-\u001b[39m\u001b[38;5;241m1\u001b[39m \n\u001b[0;32m----> 2\u001b[0m \u001b[38;5;28;01massert\u001b[39;00m x\u001b[38;5;241m>\u001b[39m\u001b[38;5;241m=\u001b[39m \u001b[38;5;241m0\u001b[39m, \u001b[38;5;124m\"\u001b[39m\u001b[38;5;124mx must be positive\u001b[39m\u001b[38;5;124m\"\u001b[39m\n\u001b[1;32m      4\u001b[0m \u001b[38;5;66;03m# assert will show AssertionError\u001b[39;00m\n\u001b[1;32m      5\u001b[0m \u001b[38;5;66;03m# when to use? dont want programme to go beyond a certain range \u001b[39;00m\n",
      "\u001b[0;31mAssertionError\u001b[0m: x must be positive"
     ]
    }
   ],
   "source": [
    "x = -1 \n",
    "assert x>= 0, \"x must be positive\"\n",
    "\n",
    "# assert will show AssertionError\n",
    "# when to use? dont want programme to go beyond a certain range "
   ]
  },
  {
   "cell_type": "code",
   "execution_count": 14,
   "id": "a2aa586c-e0de-4fec-8743-cffbe3d891c1",
   "metadata": {},
   "outputs": [
    {
     "name": "stdout",
     "output_type": "stream",
     "text": [
      "0\n",
      "1\n",
      "2\n",
      "3\n",
      "4\n",
      "5\n"
     ]
    },
    {
     "ename": "AssertionError",
     "evalue": "i is too big",
     "output_type": "error",
     "traceback": [
      "\u001b[0;31m---------------------------------------------------------------------------\u001b[0m",
      "\u001b[0;31mAssertionError\u001b[0m                            Traceback (most recent call last)",
      "Cell \u001b[0;32mIn[14], line 3\u001b[0m\n\u001b[1;32m      1\u001b[0m \u001b[38;5;28;01mfor\u001b[39;00m i \u001b[38;5;129;01min\u001b[39;00m \u001b[38;5;28mrange\u001b[39m(\u001b[38;5;241m10\u001b[39m):\n\u001b[1;32m      2\u001b[0m     \u001b[38;5;66;03m#print(i)    \u001b[39;00m\n\u001b[0;32m----> 3\u001b[0m     \u001b[38;5;28;01massert\u001b[39;00m i\u001b[38;5;241m<\u001b[39m\u001b[38;5;241m=\u001b[39m\u001b[38;5;241m5\u001b[39m, \u001b[38;5;124m\"\u001b[39m\u001b[38;5;124mi is too big\u001b[39m\u001b[38;5;124m\"\u001b[39m\n\u001b[1;32m      4\u001b[0m     \u001b[38;5;28mprint\u001b[39m(i)\n\u001b[1;32m      6\u001b[0m \u001b[38;5;66;03m# when print is placed in front, i will get incremented until 6 first, before assert stops it \u001b[39;00m\n",
      "\u001b[0;31mAssertionError\u001b[0m: i is too big"
     ]
    }
   ],
   "source": [
    "for i in range(10):\n",
    "    #print(i)    \n",
    "    assert i<=5, \"i is too big\"\n",
    "    print(i)\n",
    "\n",
    "# when print is placed in front, i will get incremented until 6 first, before assert stops it "
   ]
  },
  {
   "cell_type": "code",
   "execution_count": 16,
   "id": "2fed78bc-125a-4342-879d-83e7cae5b796",
   "metadata": {},
   "outputs": [
    {
     "ename": "ZeroDivisionError",
     "evalue": "division by zero",
     "output_type": "error",
     "traceback": [
      "\u001b[0;31m---------------------------------------------------------------------------\u001b[0m",
      "\u001b[0;31mZeroDivisionError\u001b[0m                         Traceback (most recent call last)",
      "Cell \u001b[0;32mIn[16], line 2\u001b[0m\n\u001b[1;32m      1\u001b[0m \u001b[38;5;28;01mfor\u001b[39;00m i \u001b[38;5;129;01min\u001b[39;00m \u001b[38;5;28mrange\u001b[39m(\u001b[38;5;241m10\u001b[39m):\n\u001b[0;32m----> 2\u001b[0m     \u001b[38;5;28mprint\u001b[39m(\u001b[38;5;241;43m1\u001b[39;49m\u001b[38;5;241;43m/\u001b[39;49m\u001b[43mi\u001b[49m) \n\u001b[1;32m      3\u001b[0m     \u001b[38;5;66;03m# this will begin with 1/0 which leads to zerodivisionerror\u001b[39;00m\n",
      "\u001b[0;31mZeroDivisionError\u001b[0m: division by zero"
     ]
    }
   ],
   "source": [
    "for i in range(10):\n",
    "    print(1/i) \n",
    "    # this will begin with 1/0 which leads to zerodivisionerror"
   ]
  },
  {
   "cell_type": "code",
   "execution_count": 21,
   "id": "8e973084-2576-465d-9dbf-ffc107c15626",
   "metadata": {},
   "outputs": [
    {
     "name": "stdout",
     "output_type": "stream",
     "text": [
      "divided by 0\n",
      "1.0\n",
      "0.5\n",
      "0.3333333333333333\n",
      "0.25\n",
      "0.2\n",
      "0.16666666666666666\n",
      "0.14285714285714285\n",
      "0.125\n",
      "0.1111111111111111\n"
     ]
    }
   ],
   "source": [
    "for i in range (10):\n",
    "    try:\n",
    "        print(1/i)\n",
    "    except ZeroDivisionError:\n",
    "        print(\"divided by 0\")"
   ]
  },
  {
   "cell_type": "code",
   "execution_count": 35,
   "id": "de9a1473-96a5-475f-a180-8e09dd7f2fd6",
   "metadata": {},
   "outputs": [
    {
     "name": "stdin",
     "output_type": "stream",
     "text": [
      "Tell me your age 10\n"
     ]
    }
   ],
   "source": [
    "found = False \n",
    "while found == False:  #continue the loop as long as found is not true \n",
    "    try: \n",
    "        x = input(\"Tell me your age\") #this is a string\n",
    "        x = int(x) #this converts string to integer \n",
    "        found = True  \n",
    "    except ValueError:\n",
    "        print(\"input a number\")"
   ]
  },
  {
   "cell_type": "code",
   "execution_count": 4,
   "id": "046b95ea-6043-4448-95d9-830e2a73246f",
   "metadata": {},
   "outputs": [
    {
     "name": "stdin",
     "output_type": "stream",
     "text": [
      "tell me your age 1\n"
     ]
    }
   ],
   "source": [
    "while True:  \n",
    "    try:\n",
    "        x = input(\"tell me your age\")\n",
    "        x = int(x)\n",
    "        break \n",
    "    except ValueError:\n",
    "        print(\"input a number\")\n",
    "\n",
    "# while loop is risky bc if 'break' is missing the loop runs forever "
   ]
  },
  {
   "cell_type": "code",
   "execution_count": 5,
   "id": "2b18405e-82fb-435e-8728-18b2c8cc87f3",
   "metadata": {},
   "outputs": [],
   "source": [
    "def volume_cuboid(length, width, height=5): \n",
    "    return(length * height * width)"
   ]
  },
  {
   "cell_type": "code",
   "execution_count": 6,
   "id": "969fc561-a72f-4195-a31a-cf0fdcf6230d",
   "metadata": {},
   "outputs": [
    {
     "data": {
      "text/plain": [
       "210"
      ]
     },
     "execution_count": 6,
     "metadata": {},
     "output_type": "execute_result"
    }
   ],
   "source": [
    "volume_cuboid(5,6,7) #pass l,w,h as arugments "
   ]
  },
  {
   "cell_type": "code",
   "execution_count": 9,
   "id": "ca0c6f37-c373-4d07-bfd3-de6757a375d4",
   "metadata": {},
   "outputs": [
    {
     "data": {
      "text/plain": [
       "150"
      ]
     },
     "execution_count": 9,
     "metadata": {},
     "output_type": "execute_result"
    }
   ],
   "source": [
    "volume_cuboid(5,6) #python assign l=5, w=6, since h is already declared to be 5"
   ]
  },
  {
   "cell_type": "code",
   "execution_count": 16,
   "id": "52a59323-d50a-4a5f-8d97-dafb1a965e2d",
   "metadata": {},
   "outputs": [
    {
     "ename": "SyntaxError",
     "evalue": "positional argument follows keyword argument (328612918.py, line 1)",
     "output_type": "error",
     "traceback": [
      "\u001b[0;36m  Cell \u001b[0;32mIn[16], line 1\u001b[0;36m\u001b[0m\n\u001b[0;31m    volume_cuboid(width=5, 6) # This will give an error\u001b[0m\n\u001b[0m                            ^\u001b[0m\n\u001b[0;31mSyntaxError\u001b[0m\u001b[0;31m:\u001b[0m positional argument follows keyword argument\n"
     ]
    }
   ],
   "source": [
    "volume_cuboid(width=5, 6) # This will give an error \n",
    "\n",
    "#python is confused if 6 is the length or the height. it might also mean 6 should be the height, when height is already 5"
   ]
  },
  {
   "cell_type": "code",
   "execution_count": 17,
   "id": "73a669b8-2680-40ab-bc57-37767866a743",
   "metadata": {},
   "outputs": [
    {
     "data": {
      "text/plain": [
       "150"
      ]
     },
     "execution_count": 17,
     "metadata": {},
     "output_type": "execute_result"
    }
   ],
   "source": [
    "volume_cuboid(6,width=5) # this will work. "
   ]
  },
  {
   "cell_type": "code",
   "execution_count": 20,
   "id": "e85e0221-2577-4df5-9abf-2815b380512a",
   "metadata": {},
   "outputs": [],
   "source": [
    "def calculator(value,func):\n",
    "    '''This is something we created in SP2273 to calculate stuff.''' #this is a doc string. good practice to allow people to unds ur code\n",
    "    return func(value)"
   ]
  },
  {
   "cell_type": "markdown",
   "id": "7c492011-772d-43c5-b8de-f8b5794a8ce2",
   "metadata": {},
   "source": [
    "calculator(0,np.sin) #sin0=0"
   ]
  },
  {
   "cell_type": "code",
   "execution_count": 27,
   "id": "cb1fe1f7-4d95-4e83-a8d8-4482ae841b9d",
   "metadata": {},
   "outputs": [
    {
     "data": {
      "text/plain": [
       "np.float64(1.0)"
      ]
     },
     "execution_count": 27,
     "metadata": {},
     "output_type": "execute_result"
    }
   ],
   "source": [
    "calculator(np.pi/2,np.sin)"
   ]
  },
  {
   "cell_type": "code",
   "execution_count": 30,
   "id": "c8a97e28-948f-44d4-8c60-a77886ee1cfd",
   "metadata": {},
   "outputs": [
    {
     "data": {
      "text/plain": [
       "array([ True,  True,  True])"
      ]
     },
     "execution_count": 30,
     "metadata": {},
     "output_type": "execute_result"
    }
   ],
   "source": [
    "x = np.array([0,0.1,0.2])\n",
    "calculator(x,np.sin) == np.sin(x)"
   ]
  },
  {
   "cell_type": "code",
   "execution_count": 28,
   "id": "c5ff20cf-fd20-4cf6-b103-0dd5d034023f",
   "metadata": {},
   "outputs": [
    {
     "name": "stdout",
     "output_type": "stream",
     "text": [
      "Help on function calculator in module __main__:\n",
      "\n",
      "calculator(value, func)\n",
      "    This is something we created in SP2273 to calculate stuff.\n",
      "\n"
     ]
    }
   ],
   "source": [
    "help(calculator)"
   ]
  },
  {
   "cell_type": "markdown",
   "id": "eb3f1a41-3efa-40bc-bc3e-51ec26d0bfc3",
   "metadata": {},
   "source": [
    "## Return items from array"
   ]
  },
  {
   "cell_type": "code",
   "execution_count": 39,
   "id": "c9035339-8540-4909-b61f-e8cfcf388337",
   "metadata": {},
   "outputs": [
    {
     "data": {
      "text/plain": [
       "[100, 5, 5, 4]"
      ]
     },
     "execution_count": 39,
     "metadata": {},
     "output_type": "execute_result"
    }
   ],
   "source": [
    "def volume_cuboid_mod(length,width,height=5):\n",
    "    return([length * height * width, length, height, width])\n",
    "\n",
    "volume_cuboid_mod(5,4) #this will return the volume & numbers that created the volume "
   ]
  },
  {
   "cell_type": "code",
   "execution_count": 40,
   "id": "a0329ca7-cff6-4751-86b5-a67c7a6d4fb2",
   "metadata": {},
   "outputs": [],
   "source": [
    "def volume_cuboid_mod(length,width,height=5):\n",
    "    return([length * height * width, length, height, width])"
   ]
  },
  {
   "cell_type": "code",
   "execution_count": 42,
   "id": "42a02b30-cab7-4d9d-bc30-4ba1bf74fd75",
   "metadata": {},
   "outputs": [],
   "source": [
    "vol=volume_cuboid_mod(5,4)"
   ]
  },
  {
   "cell_type": "code",
   "execution_count": 43,
   "id": "4d60b18b-fbad-47cf-adc5-9be8e8701103",
   "metadata": {},
   "outputs": [
    {
     "data": {
      "text/plain": [
       "[5, 5]"
      ]
     },
     "execution_count": 43,
     "metadata": {},
     "output_type": "execute_result"
    }
   ],
   "source": [
    "vol = vol[0]\n",
    "dimensions"
   ]
  },
  {
   "cell_type": "markdown",
   "id": "5701e9ba-882a-4e5e-badf-2ece4706407c",
   "metadata": {},
   "source": [
    "## Creating functions - when?"
   ]
  },
  {
   "cell_type": "code",
   "execution_count": 47,
   "id": "1c33911d-a313-4c23-851d-5b744322844f",
   "metadata": {},
   "outputs": [],
   "source": [
    "def print_me(y):\n",
    "    print(y)\n",
    "# do not make functions for functions that already exist\n",
    "# this will also take a longer time for the made function to run "
   ]
  },
  {
   "cell_type": "raw",
   "id": "ff4e8a0f-a754-49d9-8f1c-6ec7b301f26c",
   "metadata": {},
   "source": []
  },
  {
   "cell_type": "code",
   "execution_count": null,
   "id": "fe60a6b2-4db8-4122-ad9f-bf9b89705679",
   "metadata": {},
   "outputs": [],
   "source": []
  }
 ],
 "metadata": {
  "kernelspec": {
   "display_name": "Python 3 (ipykernel)",
   "language": "python",
   "name": "python3"
  },
  "language_info": {
   "codemirror_mode": {
    "name": "ipython",
    "version": 3
   },
   "file_extension": ".py",
   "mimetype": "text/x-python",
   "name": "python",
   "nbconvert_exporter": "python",
   "pygments_lexer": "ipython3",
   "version": "3.12.2"
  },
  "toc": {
   "base_numbering": 1,
   "nav_menu": {},
   "number_sections": true,
   "sideBar": true,
   "skip_h1_title": false,
   "title_cell": "Table of Contents",
   "title_sidebar": "Contents",
   "toc_cell": false,
   "toc_position": {},
   "toc_section_display": true,
   "toc_window_display": false
  },
  "vscode": {
   "interpreter": {
    "hash": "31f2aee4e71d21fbe5cf8b01ff0e069b9275f58929596ceb00d14d90e3e16cd6"
   }
  }
 },
 "nbformat": 4,
 "nbformat_minor": 5
}
