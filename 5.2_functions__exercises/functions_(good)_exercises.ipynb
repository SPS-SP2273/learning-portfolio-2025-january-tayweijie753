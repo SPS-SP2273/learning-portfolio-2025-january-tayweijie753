{
 "cells": [
  {
   "attachments": {},
   "cell_type": "markdown",
   "id": "123456",
   "metadata": {},
   "source": [
    "<div style=\"text-align:left;font-size:2em\"><span style=\"font-weight:bolder;font-size:1.25em\">SP2273 | Learning Portfolio</span><br><br><span style=\"font-weight:bold;color:darkred\">Functions (Good) Exercises</span></div>"
   ]
  },
  {
   "cell_type": "markdown",
   "id": "897268a2-0ed0-4d91-87a6-dc1c06c6ba16",
   "metadata": {},
   "source": [
    "# Exercise 1 (Celsius to Fahrenheit or Kelvin)"
   ]
  },
  {
   "cell_type": "code",
   "execution_count": 7,
   "id": "d31070bd-a757-44ae-8bdc-dd09ac1fd1bb",
   "metadata": {},
   "outputs": [],
   "source": [
    "def convert_celsius(temperature_celsius,target_scale='Farenheit'):\n",
    "    if target_scale == 'Kelvin':\n",
    "        return temperature_celsius + 273.15\n",
    "    else:\n",
    "        return (temperature_celsius * 9/5) +32   \n",
    "    "
   ]
  },
  {
   "cell_type": "code",
   "execution_count": 8,
   "id": "00867da7-ab21-4925-86bb-449d05987a12",
   "metadata": {},
   "outputs": [
    {
     "data": {
      "text/plain": [
       "305.15"
      ]
     },
     "execution_count": 8,
     "metadata": {},
     "output_type": "execute_result"
    }
   ],
   "source": [
    "convert_celsius(32, 'Kelvin')"
   ]
  },
  {
   "cell_type": "markdown",
   "id": "169f60c0-0469-446d-b5e4-3524dc5e62ed",
   "metadata": {},
   "source": [
    "# Exercise 2 (Fahrenheit to Celsius or Kelvin)"
   ]
  },
  {
   "cell_type": "code",
   "execution_count": 12,
   "id": "5fd98e5d-750b-49af-856f-383e8f4c9ddc",
   "metadata": {},
   "outputs": [],
   "source": [
    "def convert_fahrenheit(temperature_fahrenheit,target_scale='Celsius'):\n",
    "    if target_scale == 'Kelvin': #K = (F − 32) × 5 ⁄ 9 + 273.15\n",
    "        return (temperature_fahrenheit-32) * 5/9 + 273.15\n",
    "    else: \n",
    "        return (temperature_fahrenheit-32) * 5/9"
   ]
  },
  {
   "cell_type": "code",
   "execution_count": 15,
   "id": "4bab7915-046e-43f3-bd97-85608c2f954d",
   "metadata": {},
   "outputs": [
    {
     "data": {
      "text/plain": [
       "37.77777777777778"
      ]
     },
     "execution_count": 15,
     "metadata": {},
     "output_type": "execute_result"
    }
   ],
   "source": [
    "convert_fahrenheit(100)"
   ]
  },
  {
   "cell_type": "markdown",
   "id": "5eeabfda-a195-4ab1-91c7-df5f5488c9e9",
   "metadata": {},
   "source": [
    "# Exercise 3 (General Temperature Conversion)"
   ]
  },
  {
   "cell_type": "code",
   "execution_count": 68,
   "id": "d91934fa-938e-4297-8810-8c7c01c54a3c",
   "metadata": {},
   "outputs": [],
   "source": [
    "def convert_temperature(temperature,source_scale,target_scale): #eg. (32,celsius,farenheit)\n",
    "    if source_scale == 'Celsius' and target_scale == 'Fahrenheit':\n",
    "        return temperature * 9/5 +32\n",
    "    elif source_scale == 'Celsius' and target_scale == 'Kelvin':\n",
    "        return temperature + 273.15\n",
    "    elif source_scale == 'Fahrenheit' and target_scale == 'Kelvin':\n",
    "        return (temperature -32) * 5/9 + 273.15\n",
    "    elif source_scale == 'Fahrenheit' and target_scale == 'Celsius':\n",
    "        return (temperature - 32) * 5/9\n",
    "    elif source_scale == 'Kelvin' and target_scale == 'Celsius':\n",
    "        return temperature - 273.15\n",
    "    elif source_scale == 'Kelvin' and target_scale == 'Fahrenheit':\n",
    "        return (temperature - 273.15) * 9/5 + 32"
   ]
  },
  {
   "cell_type": "code",
   "execution_count": 69,
   "id": "ce922366-5a52-4787-8022-bb860ff9ea88",
   "metadata": {},
   "outputs": [
    {
     "data": {
      "text/plain": [
       "-402.07"
      ]
     },
     "execution_count": 69,
     "metadata": {},
     "output_type": "execute_result"
    }
   ],
   "source": [
    "convert_temperature(32,'Kelvin','Fahrenheit')"
   ]
  },
  {
   "cell_type": "code",
   "execution_count": null,
   "id": "97adcf39-6d9b-4211-bec4-a0381fa77209",
   "metadata": {},
   "outputs": [],
   "source": []
  },
  {
   "cell_type": "code",
   "execution_count": null,
   "id": "ffb12271-feca-4714-8ab9-6c0832ab510b",
   "metadata": {},
   "outputs": [],
   "source": []
  }
 ],
 "metadata": {
  "kernelspec": {
   "display_name": "Python 3 (ipykernel)",
   "language": "python",
   "name": "python3"
  },
  "language_info": {
   "codemirror_mode": {
    "name": "ipython",
    "version": 3
   },
   "file_extension": ".py",
   "mimetype": "text/x-python",
   "name": "python",
   "nbconvert_exporter": "python",
   "pygments_lexer": "ipython3",
   "version": "3.12.2"
  },
  "toc": {
   "base_numbering": 1,
   "nav_menu": {},
   "number_sections": true,
   "sideBar": true,
   "skip_h1_title": false,
   "title_cell": "Table of Contents",
   "title_sidebar": "Contents",
   "toc_cell": false,
   "toc_position": {},
   "toc_section_display": true,
   "toc_window_display": false
  },
  "vscode": {
   "interpreter": {
    "hash": "31f2aee4e71d21fbe5cf8b01ff0e069b9275f58929596ceb00d14d90e3e16cd6"
   }
  }
 },
 "nbformat": 4,
 "nbformat_minor": 5
}
