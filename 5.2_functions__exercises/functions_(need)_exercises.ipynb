{
 "cells": [
  {
   "attachments": {},
   "cell_type": "markdown",
   "id": "123456",
   "metadata": {},
   "source": [
    "<div style=\"text-align:left;font-size:2em\"><span style=\"font-weight:bolder;font-size:1.25em\">SP2273 | Learning Portfolio</span><br><br><span style=\"font-weight:bold;color:darkred\">Functions (Need) Exercises</span></div>"
   ]
  },
  {
   "cell_type": "markdown",
   "id": "c5d3ca64-e305-4914-b015-799c4d90dc12",
   "metadata": {},
   "source": [
    "# Exercise 1 "
   ]
  },
  {
   "cell_type": "code",
   "execution_count": 2,
   "id": "47431f04-3e09-45f5-a879-fa1cee8dbd35",
   "metadata": {},
   "outputs": [],
   "source": [
    "#The following code works as expected despite not having an else statement. Please use a Markdown cell to explain why?\n",
    "\n",
    "def greeting(name):\n",
    "    if name == 'Batman':\n",
    "        return 'Hello Batman! So, nice to meet you!'\n",
    "    return f'Hello {name}!'"
   ]
  },
  {
   "cell_type": "markdown",
   "id": "56974809-a9c6-4ee4-8599-49d51c7de5b3",
   "metadata": {},
   "source": [
    "When the code is runned, if the input name is not 'Batman', the loop then skips the indented return function ('Hello Batman!... meet you!'), and instead enters the next return function, which returns Hello {name}"
   ]
  },
  {
   "cell_type": "markdown",
   "id": "6f703f12-420a-472a-990b-4d7f42970bba",
   "metadata": {},
   "source": [
    "# Exericse 2"
   ]
  },
  {
   "cell_type": "code",
   "execution_count": 45,
   "id": "107f4ed7-6a14-4495-8270-4297eb4ce7ec",
   "metadata": {},
   "outputs": [],
   "source": [
    "# write a function to take 2 parameters, weight (kg) and height(m)\n",
    "# Calculate BMI using BMI = weight/(height**2)\n",
    "# return BMI according to the following criteria \n",
    "\n",
    "def calculate_bmi(weight, height):\n",
    "    bmi = weight/ (height**2) #bmi calculation \n",
    "    if bmi < 18.5:\n",
    "        return 'Underweight'\n",
    "    if 18.5<= bmi < 25: \n",
    "        return 'Normal Weight'\n",
    "    if 25 <= bmi < 30: \n",
    "        return 'Overweight'\n",
    "    if bmi >= 30:\n",
    "        return 'Obese'"
   ]
  },
  {
   "cell_type": "code",
   "execution_count": 46,
   "id": "50788fde-eb0c-437f-bfab-76e614c99f4b",
   "metadata": {},
   "outputs": [
    {
     "data": {
      "text/plain": [
       "'Normal Weight'"
      ]
     },
     "execution_count": 46,
     "metadata": {},
     "output_type": "execute_result"
    }
   ],
   "source": [
    "# test \n",
    "calculate_bmi(67,1.65)"
   ]
  },
  {
   "cell_type": "markdown",
   "id": "b4bed3d2-ff24-4616-a222-5422aa37872b",
   "metadata": {},
   "source": [
    "# Exercise 3 (Factorials) Write a function that accepts an integer n and returns its factorial. Ensure that your function gracefully handles negative numbers."
   ]
  },
  {
   "cell_type": "code",
   "execution_count": 58,
   "id": "4d3c2705-52b1-45fc-8aec-7515947e6547",
   "metadata": {},
   "outputs": [],
   "source": [
    "def factorial(n):\n",
    "    if n < 0:\n",
    "        return \"invalid input\"\n",
    "    if n == 0: #factorial 0 = 1\n",
    "        return \"1\"\n",
    "    else: \n",
    "        result = 1\n",
    "        for i in range (1, n+1): #eg. if n =5, i will iterate from 1 to 5 \n",
    "            result = result*i\n",
    "        return(result)"
   ]
  },
  {
   "cell_type": "code",
   "execution_count": 60,
   "id": "f5e8eb2c-d466-4b77-8fa2-417f6512bb2b",
   "metadata": {},
   "outputs": [
    {
     "data": {
      "text/plain": [
       "6"
      ]
     },
     "execution_count": 60,
     "metadata": {},
     "output_type": "execute_result"
    }
   ],
   "source": [
    "factorial(3)"
   ]
  },
  {
   "cell_type": "code",
   "execution_count": null,
   "id": "c199c180-b89b-4775-b55f-39f66f7a887b",
   "metadata": {},
   "outputs": [],
   "source": []
  }
 ],
 "metadata": {
  "kernelspec": {
   "display_name": "Python 3 (ipykernel)",
   "language": "python",
   "name": "python3"
  },
  "language_info": {
   "codemirror_mode": {
    "name": "ipython",
    "version": 3
   },
   "file_extension": ".py",
   "mimetype": "text/x-python",
   "name": "python",
   "nbconvert_exporter": "python",
   "pygments_lexer": "ipython3",
   "version": "3.12.2"
  },
  "toc": {
   "base_numbering": 1,
   "nav_menu": {},
   "number_sections": true,
   "sideBar": true,
   "skip_h1_title": false,
   "title_cell": "Table of Contents",
   "title_sidebar": "Contents",
   "toc_cell": false,
   "toc_position": {},
   "toc_section_display": true,
   "toc_window_display": false
  },
  "vscode": {
   "interpreter": {
    "hash": "31f2aee4e71d21fbe5cf8b01ff0e069b9275f58929596ceb00d14d90e3e16cd6"
   }
  }
 },
 "nbformat": 4,
 "nbformat_minor": 5
}
