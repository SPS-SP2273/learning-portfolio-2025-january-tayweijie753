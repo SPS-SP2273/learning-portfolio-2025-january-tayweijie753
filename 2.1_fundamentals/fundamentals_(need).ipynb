{
 "cells": [
  {
   "attachments": {},
   "cell_type": "markdown",
   "id": "123456",
   "metadata": {},
   "source": [
    "<div style=\"text-align:left;font-size:2em\"><span style=\"font-weight:bolder;font-size:1.25em\">SP2273 | Learning Portfolio</span><br><br><span style=\"font-weight:bold;color:darkred\">Fundamentals (Need)</span></div>"
   ]
  },
  {
   "cell_type": "markdown",
   "id": "bbd7cfca-6d00-45b7-96be-52f9aa9aa51b",
   "metadata": {},
   "source": [
    "# What to expect in this chapter"
   ]
  },
  {
   "attachments": {},
   "cell_type": "markdown",
   "id": "9fd9377b",
   "metadata": {},
   "source": [
    "# 1 Functions"
   ]
  },
  {
   "attachments": {},
   "cell_type": "markdown",
   "id": "ce1e8c2b",
   "metadata": {},
   "source": [
    "# 2 Python is interpreted"
   ]
  },
  {
   "attachments": {},
   "cell_type": "markdown",
   "id": "a2bb104a",
   "metadata": {},
   "source": [
    "# 3 Python is sensitive."
   ]
  },
  {
   "attachments": {},
   "cell_type": "markdown",
   "id": "6bb5ebf6",
   "metadata": {},
   "source": [
    "# 4 Comments"
   ]
  },
  {
   "attachments": {},
   "cell_type": "markdown",
   "id": "546548a3",
   "metadata": {},
   "source": [
    "# 5 = is not the same as =="
   ]
  },
  {
   "cell_type": "code",
   "execution_count": 43,
   "id": "ac662da3-90ee-4d4b-b63c-005763a73ba8",
   "metadata": {},
   "outputs": [
    {
     "name": "stdout",
     "output_type": "stream",
     "text": [
      "9\n"
     ]
    }
   ],
   "source": [
    "x = 9 #assign the value of 10 to x \n",
    "print(x)"
   ]
  },
  {
   "cell_type": "code",
   "execution_count": 44,
   "id": "c32a0c8a-29cb-4df5-9286-19f82e5213bf",
   "metadata": {},
   "outputs": [
    {
     "data": {
      "text/plain": [
       "False"
      ]
     },
     "execution_count": 44,
     "metadata": {},
     "output_type": "execute_result"
    }
   ],
   "source": [
    "x == 10 #check if x is 10 "
   ]
  },
  {
   "attachments": {},
   "cell_type": "raw",
   "id": "9dcc6efe-46dd-47d2-9c5b-8d763a276da5",
   "metadata": {},
   "source": [
    "# 6 Use if to make decisions"
   ]
  },
  {
   "attachments": {},
   "cell_type": "markdown",
   "id": "b5a84acd",
   "metadata": {},
   "source": [
    "# 7 Indentations (spaces) are sooo IMPORTANT!"
   ]
  },
  {
   "cell_type": "code",
   "execution_count": 37,
   "id": "8c0cd328-7c89-4cd4-baee-d600fe795293",
   "metadata": {},
   "outputs": [
    {
     "name": "stdout",
     "output_type": "stream",
     "text": [
      "Equal to 10\n",
      "equal to madness\n"
     ]
    }
   ],
   "source": [
    "x = 10\n",
    "if x == 10:\n",
    "    print ('Equal to 10') #controlled by the if statement \n",
    "\n",
    "print ('equal to madness') #not controled by if statement as there is no indentation "
   ]
  },
  {
   "cell_type": "code",
   "execution_count": 38,
   "id": "88e43550-da29-4a26-9488-cdd5e65c0283",
   "metadata": {},
   "outputs": [
    {
     "name": "stdout",
     "output_type": "stream",
     "text": [
      "equal to madness\n"
     ]
    }
   ],
   "source": [
    "x = 9\n",
    "if x == 10:\n",
    "    print ('Equal to 10') #controlled by the if statement \n",
    "\n",
    "print ('equal to madness') #not controled by if statement as there is no indentation "
   ]
  },
  {
   "attachments": {},
   "cell_type": "markdown",
   "id": "b798ae26",
   "metadata": {},
   "source": [
    "# 8 ‘age’ is English, age is a variable."
   ]
  },
  {
   "cell_type": "code",
   "execution_count": 39,
   "id": "87be8c7b-a364-4550-9d34-0a24ac11c3a9",
   "metadata": {},
   "outputs": [
    {
     "name": "stdout",
     "output_type": "stream",
     "text": [
      "10\n"
     ]
    }
   ],
   "source": [
    "age = 10 \n",
    "print(age) "
   ]
  },
  {
   "cell_type": "code",
   "execution_count": 40,
   "id": "bcc06b82-5494-48c6-8166-e8ed86b4b969",
   "metadata": {},
   "outputs": [
    {
     "name": "stdout",
     "output_type": "stream",
     "text": [
      "age\n"
     ]
    }
   ],
   "source": [
    "age = 10 \n",
    "print('age') #inverted commas make it English while age without inverted comma prints the value of the variable "
   ]
  },
  {
   "attachments": {},
   "cell_type": "markdown",
   "id": "2a57c19b",
   "metadata": {},
   "source": [
    "# 9 Brackets"
   ]
  },
  {
   "cell_type": "code",
   "execution_count": 45,
   "id": "e6f848e6-27e2-4cf5-a897-c91ba18486b3",
   "metadata": {},
   "outputs": [
    {
     "name": "stdout",
     "output_type": "stream",
     "text": [
      "7\n"
     ]
    }
   ],
   "source": [
    "print(1+2*3)"
   ]
  },
  {
   "cell_type": "code",
   "execution_count": 47,
   "id": "2a3357f7-1572-4b8a-9340-c1fd2654c907",
   "metadata": {},
   "outputs": [
    {
     "data": {
      "text/plain": [
       "{'testhaha'}"
      ]
     },
     "execution_count": 47,
     "metadata": {},
     "output_type": "execute_result"
    }
   ],
   "source": [
    "[10, 11, 12] #for list \n",
    "{'test' 'haha'} #for dictionary "
   ]
  },
  {
   "attachments": {},
   "cell_type": "markdown",
   "id": "c9396882",
   "metadata": {},
   "source": [
    "# 10 Giving Python superpowers with Packages"
   ]
  },
  {
   "cell_type": "code",
   "execution_count": 50,
   "id": "870326dc-f8a4-4c0f-8af1-822bf8d44e2a",
   "metadata": {},
   "outputs": [
    {
     "ename": "NameError",
     "evalue": "name 'sqrt' is not defined",
     "output_type": "error",
     "traceback": [
      "\u001b[0;31m---------------------------------------------------------------------------\u001b[0m",
      "\u001b[0;31mNameError\u001b[0m                                 Traceback (most recent call last)",
      "Cell \u001b[0;32mIn[50], line 1\u001b[0m\n\u001b[0;32m----> 1\u001b[0m \u001b[43msqrt\u001b[49m(\u001b[38;5;241m4\u001b[39m) \u001b[38;5;66;03m#this does not work as sqrt is not defined \u001b[39;00m\n",
      "\u001b[0;31mNameError\u001b[0m: name 'sqrt' is not defined"
     ]
    }
   ],
   "source": [
    "sqrt(4) #this does not work as sqrt is not defined. Base python cannot do complex math. Need to import package that allows math function "
   ]
  },
  {
   "cell_type": "code",
   "execution_count": 10,
   "id": "ce369dd9-f597-42cb-9c3e-928d5b296b6e",
   "metadata": {},
   "outputs": [],
   "source": [
    "import math #import math package \n",
    "import numpy as np"
   ]
  },
  {
   "cell_type": "code",
   "execution_count": 11,
   "id": "3e9fd627-09bb-430b-a289-d19460a8b1ce",
   "metadata": {},
   "outputs": [
    {
     "data": {
      "text/plain": [
       "2.0"
      ]
     },
     "execution_count": 11,
     "metadata": {},
     "output_type": "execute_result"
    }
   ],
   "source": [
    "math.sqrt(4) \n",
    "#the sqrt function that is imported from the math package. The dot '.' shows that sqrt refers to math package\n",
    "#sqrt fxn only works for a single number, not a list "
   ]
  },
  {
   "cell_type": "code",
   "execution_count": 15,
   "id": "f383acaa-1fde-4622-9d6e-88590549570f",
   "metadata": {},
   "outputs": [
    {
     "data": {
      "text/plain": [
       "array([2., 3., 4.])"
      ]
     },
     "execution_count": 15,
     "metadata": {},
     "output_type": "execute_result"
    }
   ],
   "source": [
    "np.sqrt([4,9,16])\n",
    "#numpy package allows us to do math with many numbers. "
   ]
  },
  {
   "cell_type": "code",
   "execution_count": 13,
   "id": "cbc977be-2929-41e3-9cb1-ae82a7b46e33",
   "metadata": {},
   "outputs": [
    {
     "data": {
      "text/plain": [
       "'HAHAHA'"
      ]
     },
     "execution_count": 13,
     "metadata": {},
     "output_type": "execute_result"
    }
   ],
   "source": [
    "'hahaha'.upper()"
   ]
  },
  {
   "cell_type": "code",
   "execution_count": 14,
   "id": "29bbee48-7f97-401a-9336-32dc4d895e7c",
   "metadata": {},
   "outputs": [
    {
     "data": {
      "text/plain": [
       "'Hahaha'"
      ]
     },
     "execution_count": 14,
     "metadata": {},
     "output_type": "execute_result"
    }
   ],
   "source": [
    "'hahaha'.title()"
   ]
  },
  {
   "cell_type": "code",
   "execution_count": 8,
   "id": "741c2a70-f2da-40e3-8e1a-7346917ed0e4",
   "metadata": {},
   "outputs": [
    {
     "data": {
      "text/plain": [
       "'hxhxhx'"
      ]
     },
     "execution_count": 8,
     "metadata": {},
     "output_type": "execute_result"
    }
   ],
   "source": [
    "'hahaha'.replace('a','x')"
   ]
  },
  {
   "cell_type": "code",
   "execution_count": 20,
   "id": "8ecda45a-6574-4708-a598-112b237d165d",
   "metadata": {},
   "outputs": [
    {
     "name": "stdout",
     "output_type": "stream",
     "text": [
      "10.0\n"
     ]
    },
    {
     "data": {
      "text/plain": [
       "numpy.float64"
      ]
     },
     "execution_count": 20,
     "metadata": {},
     "output_type": "execute_result"
    }
   ],
   "source": [
    "x32 = np.sqrt(100, dtype=np.float32)\n",
    "x64 = np.sqrt(100, dtype=np.float64)\n",
    "\n",
    "print(x64)\n",
    "type(x64)"
   ]
  },
  {
   "cell_type": "code",
   "execution_count": 23,
   "id": "d0f5b30b-968f-48f3-80b0-402427dbf656",
   "metadata": {},
   "outputs": [
    {
     "name": "stdout",
     "output_type": "stream",
     "text": [
      "larger\n"
     ]
    }
   ],
   "source": [
    "x = 9 \n",
    "if x==10:\n",
    "    #TRUE BLOCK \n",
    "    print('small')\n",
    "else:\n",
    "    #FALSE BLOCK \n",
    "    print('larger')"
   ]
  },
  {
   "cell_type": "code",
   "execution_count": 25,
   "id": "de443568-340a-484a-b7d0-bf7447a2dcb9",
   "metadata": {},
   "outputs": [
    {
     "data": {
      "text/plain": [
       "True"
      ]
     },
     "execution_count": 25,
     "metadata": {},
     "output_type": "execute_result"
    }
   ],
   "source": [
    "'apple' in ['apple', 'pear', 'chocolate'] #check if apple is in the list "
   ]
  },
  {
   "cell_type": "code",
   "execution_count": 32,
   "id": "81813909-76d9-43fe-a585-138d50389ac8",
   "metadata": {},
   "outputs": [
    {
     "data": {
      "text/plain": [
       "True"
      ]
     },
     "execution_count": 32,
     "metadata": {},
     "output_type": "execute_result"
    }
   ],
   "source": [
    "'apple' < 'orange' \n",
    "#python compares the numerical character of 'a' vs 'o', Each letter has a character value "
   ]
  },
  {
   "attachments": {},
   "cell_type": "markdown",
   "id": "72538bf7",
   "metadata": {},
   "source": [
    "## 10.1 Some Context"
   ]
  },
  {
   "attachments": {},
   "cell_type": "markdown",
   "id": "bfd5270a",
   "metadata": {},
   "source": [
    "## 10.2 Importing the math package"
   ]
  },
  {
   "attachments": {},
   "cell_type": "markdown",
   "id": "ba475487",
   "metadata": {},
   "source": [
    "## 10.3 Importing the numpy package"
   ]
  },
  {
   "attachments": {},
   "cell_type": "markdown",
   "id": "43f55ca6",
   "metadata": {},
   "source": [
    "## 10.4 Why so many packages?"
   ]
  },
  {
   "attachments": {},
   "cell_type": "markdown",
   "id": "e898876f",
   "metadata": {},
   "source": [
    "# 11 The dot (.)"
   ]
  },
  {
   "attachments": {},
   "cell_type": "markdown",
   "id": "89fcc905",
   "metadata": {},
   "source": [
    "## Footnotes"
   ]
  },
  {
   "cell_type": "code",
   "execution_count": 12,
   "id": "05fd5251-763b-4d53-8b16-dd1f59387252",
   "metadata": {},
   "outputs": [
    {
     "name": "stdout",
     "output_type": "stream",
     "text": [
      "AA\n",
      "B\n",
      "C\n",
      "D\n"
     ]
    }
   ],
   "source": [
    "print ('A'*2)\n",
    "print ('B')\n",
    "print ('C')\n",
    "print ('D')"
   ]
  },
  {
   "cell_type": "code",
   "execution_count": 40,
   "id": "edb41566-51b0-4b7c-ab4c-cc4260a9920b",
   "metadata": {},
   "outputs": [
    {
     "name": "stdout",
     "output_type": "stream",
     "text": [
      "0.29999999999999999\n"
     ]
    }
   ],
   "source": [
    "a = .1 \n",
    "a3 = .3 \n",
    "\n",
    "print(f'{a3:0.17f}')"
   ]
  },
  {
   "cell_type": "code",
   "execution_count": 41,
   "id": "c3a96906-a583-47eb-8138-857742db19df",
   "metadata": {},
   "outputs": [
    {
     "data": {
      "text/plain": [
       "False"
      ]
     },
     "execution_count": 41,
     "metadata": {},
     "output_type": "execute_result"
    }
   ],
   "source": [
    "a3 == 3*a\n",
    "\n",
    "#in this case, 0.3 should equal to 0.1*3 = 0.3. However, python takes stores a3 as 2.9999 after many decimal places (17)\n",
    "#0.1*3 may not be stored as such. \n",
    "#computer has a limited number of bits only to store values \n",
    "#how to check for difference? substract both values to find if the difference is small "
   ]
  },
  {
   "cell_type": "code",
   "execution_count": 42,
   "id": "ee9cde53-0525-45aa-9418-83c88aea84f8",
   "metadata": {},
   "outputs": [
    {
     "data": {
      "text/plain": [
       "True"
      ]
     },
     "execution_count": 42,
     "metadata": {},
     "output_type": "execute_result"
    }
   ],
   "source": [
    "abs (a3-3*a) < 1e-6"
   ]
  },
  {
   "cell_type": "code",
   "execution_count": 43,
   "id": "6c5dbafa-70a1-4949-8eed-04d8e658d5e4",
   "metadata": {},
   "outputs": [
    {
     "data": {
      "text/plain": [
       "np.False_"
      ]
     },
     "execution_count": 43,
     "metadata": {},
     "output_type": "execute_result"
    }
   ],
   "source": [
    "np.isclose(a3,a)"
   ]
  },
  {
   "cell_type": "code",
   "execution_count": null,
   "id": "5d0b6afe-ea06-4f28-912d-ceb6bf2d43af",
   "metadata": {},
   "outputs": [],
   "source": []
  }
 ],
 "metadata": {
  "kernelspec": {
   "display_name": "Python 3 (ipykernel)",
   "language": "python",
   "name": "python3"
  },
  "language_info": {
   "codemirror_mode": {
    "name": "ipython",
    "version": 3
   },
   "file_extension": ".py",
   "mimetype": "text/x-python",
   "name": "python",
   "nbconvert_exporter": "python",
   "pygments_lexer": "ipython3",
   "version": "3.12.2"
  },
  "toc": {
   "base_numbering": 1,
   "nav_menu": {},
   "number_sections": true,
   "sideBar": true,
   "skip_h1_title": false,
   "title_cell": "Table of Contents",
   "title_sidebar": "Contents",
   "toc_cell": false,
   "toc_position": {},
   "toc_section_display": true,
   "toc_window_display": false
  },
  "vscode": {
   "interpreter": {
    "hash": "31f2aee4e71d21fbe5cf8b01ff0e069b9275f58929596ceb00d14d90e3e16cd6"
   }
  }
 },
 "nbformat": 4,
 "nbformat_minor": 5
}
