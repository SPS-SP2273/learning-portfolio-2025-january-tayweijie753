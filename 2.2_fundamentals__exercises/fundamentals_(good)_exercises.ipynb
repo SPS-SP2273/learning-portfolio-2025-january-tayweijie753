{
 "cells": [
  {
   "attachments": {},
   "cell_type": "markdown",
   "id": "123456",
   "metadata": {},
   "source": [
    "<div style=\"text-align:left;font-size:2em\"><span style=\"font-weight:bolder;font-size:1.25em\">SP2273 | Learning Portfolio</span><br><br><span style=\"font-weight:bold;color:darkred\">Fundamentals (Good) Exercises</span></div>"
   ]
  },
  {
   "cell_type": "markdown",
   "id": "e9c3587f-4519-41a1-878a-ba5e52fa67b3",
   "metadata": {},
   "source": [
    "# Exercise 1 (f-strings to the rescue)  "
   ]
  },
  {
   "cell_type": "markdown",
   "id": "a668ab6f-c6e1-4a62-b7bb-2d62c287237d",
   "metadata": {},
   "source": [
    "## Task 1: Ask for the name of the user and then print out the greeting:\n",
    "\n",
    "“How you doin NAME!”"
   ]
  },
  {
   "cell_type": "code",
   "execution_count": 15,
   "id": "79c6a935-d161-4617-9c37-2c748d250925",
   "metadata": {},
   "outputs": [
    {
     "name": "stdin",
     "output_type": "stream",
     "text": [
      "Enter your name Wei Jie\n"
     ]
    },
    {
     "name": "stdout",
     "output_type": "stream",
     "text": [
      "How you doin, Wei Jie!\n"
     ]
    }
   ],
   "source": [
    "#Ask for the name of the user and then print out the greeting:\n",
    "\n",
    "user_name = input('Enter your name')\n",
    "print(f\"How you doin, {user_name}!\")"
   ]
  },
  {
   "cell_type": "markdown",
   "id": "11b478fa-09c6-4633-9c1c-0b266656eaf2",
   "metadata": {},
   "source": [
    "## Task 2: Ask for the name of the user, then ask for the age of the user and print out the introduction:\n",
    "\n",
    "“My name is NAME and I am AGE years old.”"
   ]
  },
  {
   "cell_type": "code",
   "execution_count": 16,
   "id": "39283e96-86ec-481e-97fa-7ba0bb98583f",
   "metadata": {},
   "outputs": [
    {
     "name": "stdin",
     "output_type": "stream",
     "text": [
      "Enter your name Wei Jie\n",
      "Enter your age 25\n"
     ]
    },
    {
     "name": "stdout",
     "output_type": "stream",
     "text": [
      "My name is Wei Jie, and I am 25 years old.\n"
     ]
    }
   ],
   "source": [
    "# Ask for the name of the user, then ask for the age of the user and print out the introduction:\n",
    "user_name = input('Enter your name')\n",
    "user_age = input ('Enter your age')\n",
    "print(f\"My name is {user_name}, and I am {user_age} years old.\")"
   ]
  },
  {
   "cell_type": "markdown",
   "id": "a45defcc-64d6-49f5-b63d-d6be419b26a1",
   "metadata": {},
   "source": [
    "## Task 3: changing value of pi to respective decimal places"
   ]
  },
  {
   "cell_type": "code",
   "execution_count": 18,
   "id": "f3381086-d86e-42a3-b9c7-9b5beb62a266",
   "metadata": {},
   "outputs": [],
   "source": [
    "pi = 3.141592653589793"
   ]
  },
  {
   "cell_type": "code",
   "execution_count": 27,
   "id": "c10d2963-527e-4e87-a963-4b53db484989",
   "metadata": {},
   "outputs": [
    {
     "name": "stdout",
     "output_type": "stream",
     "text": [
      "The value of pi to 2 decimal places is 3.14\n",
      "The value of pi to 2 decimal places is 3.142\n",
      "The value of pi to 2 decimal places is 3.1416\n"
     ]
    }
   ],
   "source": [
    "print(f\"The value of pi to 2 decimal places is {pi:.02f}\")\n",
    "print(f\"The value of pi to 2 decimal places is {pi:.03f}\")\n",
    "print(f\"The value of pi to 2 decimal places is {pi:.04f}\")"
   ]
  },
  {
   "cell_type": "markdown",
   "id": "7d6daaab-5c19-4625-a31a-3b0f833e52dd",
   "metadata": {},
   "source": [
    "## Task 4"
   ]
  },
  {
   "cell_type": "code",
   "execution_count": 74,
   "id": "36f48b1d-0efa-4e42-861c-a15b74035fa0",
   "metadata": {},
   "outputs": [
    {
     "name": "stdout",
     "output_type": "stream",
     "text": [
      "Apple      $ 0.99\n",
      "Banana     $ 0.59\n",
      "Orange     $ 1.29\n"
     ]
    }
   ],
   "source": [
    "print(f\"{'Apple':<10} ${0.99:>5}\")\n",
    "print(f\"{'Banana':<10} ${0.59:>5}\")\n",
    "print(f\"{'Orange':<10} ${1.29:>5}\")"
   ]
  },
  {
   "cell_type": "markdown",
   "id": "f7785357-76b7-419a-a8e2-38e2ae9a96d0",
   "metadata": {},
   "source": [
    "# Exercise 2 (What is your grade?)"
   ]
  },
  {
   "cell_type": "code",
   "execution_count": 123,
   "id": "fe322260-37a4-432b-8a58-1d1b70ee4b71",
   "metadata": {},
   "outputs": [
    {
     "name": "stdin",
     "output_type": "stream",
     "text": [
      "Enter the student's score:  32\n"
     ]
    },
    {
     "name": "stdout",
     "output_type": "stream",
     "text": [
      "The student's letter grade is Fail\n"
     ]
    }
   ],
   "source": [
    "student_grade = int (input(\"Enter the student's score: \"))\n",
    "\n",
    "if student_grade >100 or student_grade <0: #to exclude invalid scores \n",
    "    print (\"Please enter a valid score from 0 to 100\")\n",
    "\n",
    "else: \n",
    "    if student_grade >=70: #to capture scores ranging 70-100 \n",
    "        grade = 'A'\n",
    "    \n",
    "    elif 50 <= student_grade <= 69:  \n",
    "        grade = 'B'\n",
    "    \n",
    "    elif 35 <= student_grade <=49:\n",
    "        grade = 'C'    \n",
    "        \n",
    "    elif 0<= student_grade <= 34:\n",
    "        grade = 'Fail'\n",
    "    \n",
    "    print (f\"The student's letter grade is {grade}\")"
   ]
  },
  {
   "cell_type": "markdown",
   "id": "6dbb983d-593a-4218-9c78-801b6eac27c8",
   "metadata": {},
   "source": [
    "# Exercise 3 (Debugging Code) "
   ]
  },
  {
   "cell_type": "code",
   "execution_count": 137,
   "id": "07ef51a8-c89a-40ad-bb3c-26c3e52c3929",
   "metadata": {},
   "outputs": [],
   "source": [
    "def factorial(n):\n",
    "    if n > 0: #eg. n = 1,2,3... \n",
    "        return \"Invalid input\"\n",
    "    elif n != 0: #when n is not equal to 0, means n can be > 0 or < 0 \n",
    "        return 1\n",
    "    else:\n",
    "        result = 1\n",
    "        for number in range(1, n+1):\n",
    "            result += number\n",
    "        return result"
   ]
  },
  {
   "cell_type": "code",
   "execution_count": 182,
   "id": "e4e9aa1a-a7a5-4490-9aca-8b0940d991c6",
   "metadata": {},
   "outputs": [
    {
     "name": "stdout",
     "output_type": "stream",
     "text": [
      "Invalid input\n",
      "20\n"
     ]
    }
   ],
   "source": [
    "print(factorial(-1)) #this should print invalid input but output is '1' \n",
    "print (factorial(5)) #this should print 120, but output is now 'invalid input'"
   ]
  },
  {
   "cell_type": "markdown",
   "id": "57e637b1-3d4f-4ed3-bd1a-13bde7c8f390",
   "metadata": {},
   "source": [
    "Errors\n",
    "1. \"if n > 0' is not appropriate as this blocks positive numbers. It should be changed to 'if n < 0' to returns 'invalid input' in negative numbers. \n",
    "2. 'elif n != 0' 'return 1' is not appropriate. This means that all positive inputs eg. factorial(5) will return 1 as the final output \n",
    "3. Instead of result += number, it should be result *= number to multiply the previous result with the next number of the factorial, until the last number is reached."
   ]
  },
  {
   "cell_type": "code",
   "execution_count": 185,
   "id": "8350bac8-1980-44e7-bc3e-3e64d9248dce",
   "metadata": {},
   "outputs": [],
   "source": [
    "def factorial(n):\n",
    "    if n < 0:  \n",
    "        return \"Invalid input\"\n",
    "    elif n == 0: #to account for 0 factorial = 1 \n",
    "        return 1\n",
    "    else:\n",
    "        result = 1\n",
    "        for number in range(1, n+1):\n",
    "            result *= number\n",
    "        return result"
   ]
  },
  {
   "cell_type": "code",
   "execution_count": 184,
   "id": "db3cb7e5-5827-4649-a7e0-5ed4e169000b",
   "metadata": {},
   "outputs": [
    {
     "name": "stdout",
     "output_type": "stream",
     "text": [
      "Invalid input\n",
      "120\n"
     ]
    }
   ],
   "source": [
    "print(factorial(-1))\n",
    "print (factorial(5))"
   ]
  },
  {
   "cell_type": "code",
   "execution_count": null,
   "id": "c65cf8f5-0285-4400-bf3d-a08b01c3ffa4",
   "metadata": {},
   "outputs": [],
   "source": []
  }
 ],
 "metadata": {
  "kernelspec": {
   "display_name": "Python 3 (ipykernel)",
   "language": "python",
   "name": "python3"
  },
  "language_info": {
   "codemirror_mode": {
    "name": "ipython",
    "version": 3
   },
   "file_extension": ".py",
   "mimetype": "text/x-python",
   "name": "python",
   "nbconvert_exporter": "python",
   "pygments_lexer": "ipython3",
   "version": "3.12.2"
  },
  "toc": {
   "base_numbering": 1,
   "nav_menu": {},
   "number_sections": true,
   "sideBar": true,
   "skip_h1_title": false,
   "title_cell": "Table of Contents",
   "title_sidebar": "Contents",
   "toc_cell": false,
   "toc_position": {},
   "toc_section_display": true,
   "toc_window_display": false
  },
  "vscode": {
   "interpreter": {
    "hash": "31f2aee4e71d21fbe5cf8b01ff0e069b9275f58929596ceb00d14d90e3e16cd6"
   }
  }
 },
 "nbformat": 4,
 "nbformat_minor": 5
}
