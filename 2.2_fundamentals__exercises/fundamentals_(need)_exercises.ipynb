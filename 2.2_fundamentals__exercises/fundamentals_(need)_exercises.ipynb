{
 "cells": [
  {
   "attachments": {},
   "cell_type": "markdown",
   "id": "123456",
   "metadata": {},
   "source": [
    "<div style=\"text-align:left;font-size:2em\"><span style=\"font-weight:bolder;font-size:1.25em\">SP2273 | Learning Portfolio</span><br><br><span style=\"font-weight:bold;color:darkred\">Fundamentals (Need) Exercises</span></div>"
   ]
  },
  {
   "cell_type": "markdown",
   "id": "2f049041-0cec-4142-b704-06776394a812",
   "metadata": {},
   "source": [
    "# Exercise 1 (Total recall?)"
   ]
  },
  {
   "cell_type": "markdown",
   "id": "983b44d9-5b91-474d-ad22-29672bf7f8b9",
   "metadata": {},
   "source": [
    "## Purely from memory, list as many of the basic Python features I mentioned in my notes as you remember.\n",
    "\n",
    "- functions eg. print. *functions take in an argument in the form of (). Some functions like exit() do not take arugments*\n",
    "- *Python is intepreted sequentially, at one command at a time*\n",
    "- *Case sensitivity of python eg. print('hi') vs Print('hi') is crucial*\n",
    "- packages can be imported to 'teach' python how to do certain tasks such as math functions \n",
    "- conditional statements eg. if, else for decision making \n",
    "- lists and dictionary\n",
    "- indentation is important when for code order execution\n",
    "- *comments can be written using '#' which will be ignored by the interpreter*\n",
    "- *dot(.) is used to assign ownership to the package the function belongs to*"
   ]
  },
  {
   "cell_type": "markdown",
   "id": "52388415-6fc6-4958-8063-f73b054b832a",
   "metadata": {},
   "source": [
    "# Exercise 2 (Debug me) \n",
    "\n",
    "Fix (debug) the following code to create a Pythagorean triple 3, 4, 5 (because 3^2 + 4^2 = 5^2)."
   ]
  },
  {
   "cell_type": "code",
   "execution_count": 3,
   "id": "7cd67f27-3d28-4867-8813-160fb479c7ee",
   "metadata": {},
   "outputs": [
    {
     "name": "stdout",
     "output_type": "stream",
     "text": [
      "3 4 5.0\n"
     ]
    }
   ],
   "source": [
    "import math\n",
    "\n",
    "x, y = 3, 4\n",
    "z = math.sqrt(x**2 +y**2)\n",
    "print(x,y,z)"
   ]
  },
  {
   "cell_type": "markdown",
   "id": "94f820c2-f47d-459d-9d28-f49f6f45d832",
   "metadata": {},
   "source": [
    "# Exercise 3 (In your own words)"
   ]
  },
  {
   "cell_type": "markdown",
   "id": "ff5338c9-f1c4-4f07-a6f4-8826fb02d4cf",
   "metadata": {},
   "source": [
    "| #    | Term   | Description |\n",
    "| :--- | :--: | :---: |\n",
    "| 1   |  Function  | A command that performs a specific task when used   |\n",
    "| 2   |  Arguments  |A value that is passed into the function to produce an output  |\n",
    "| 3   |  Comments  |To write additional information inside the code cell to eg. make remarks about the code   |\n",
    "| 4   |  Indentations  |Spaces inside the code space to help decide the order that the code will be executed |\n",
    "| 5   |  Packages  |Files that are imported to 'teach' python new functions    |\n",
    "| 6   |  .  |Provides ownership to the function from the imported package (append) |\n",
    "| 7   |  :  | Colon is used to indicate start of an indented block or separate key pair values in dictionaries   |\n",
    "| 8   |  []  |Used to store lists|\n",
    "| 9   |  [ [],[] ]  |2 different lists stored in the same main list|\n",
    "| 10   |  {}  |Represent items stored in a dictionary|\n"
   ]
  },
  {
   "cell_type": "markdown",
   "id": "ae697eeb-5edf-46c5-9a24-0c92e7ecee6c",
   "metadata": {},
   "source": [
    "# Exercise 4 (More than one way to divide) "
   ]
  },
  {
   "cell_type": "code",
   "execution_count": 47,
   "id": "0bf37fdf-ea27-468b-8b8e-bfa8b57b7717",
   "metadata": {},
   "outputs": [
    {
     "data": {
      "text/plain": [
       "2.5"
      ]
     },
     "execution_count": 47,
     "metadata": {},
     "output_type": "execute_result"
    }
   ],
   "source": [
    "5/2 \n",
    "\n",
    "#returns the full, exact value of the division, including decimal points (division)"
   ]
  },
  {
   "cell_type": "code",
   "execution_count": 48,
   "id": "fc517946-a78c-49dd-9d46-3dfe3b1b564c",
   "metadata": {},
   "outputs": [
    {
     "data": {
      "text/plain": [
       "2"
      ]
     },
     "execution_count": 48,
     "metadata": {},
     "output_type": "execute_result"
    }
   ],
   "source": [
    "5//2\n",
    "\n",
    "#returns the first whole number obtained from the division. Decimal points obtained are omitted (floor division)"
   ]
  },
  {
   "cell_type": "code",
   "execution_count": 49,
   "id": "19ce1fad-3e8b-41d0-9269-85f460a9c2a0",
   "metadata": {},
   "outputs": [
    {
     "data": {
      "text/plain": [
       "1"
      ]
     },
     "execution_count": 49,
     "metadata": {},
     "output_type": "execute_result"
    }
   ],
   "source": [
    "5%2\n",
    "\n",
    "# The % sign means 5 modulu 2. This takes the remainder when 5 is divided by 2 which is 1"
   ]
  }
 ],
 "metadata": {
  "kernelspec": {
   "display_name": "Python 3 (ipykernel)",
   "language": "python",
   "name": "python3"
  },
  "language_info": {
   "codemirror_mode": {
    "name": "ipython",
    "version": 3
   },
   "file_extension": ".py",
   "mimetype": "text/x-python",
   "name": "python",
   "nbconvert_exporter": "python",
   "pygments_lexer": "ipython3",
   "version": "3.12.2"
  },
  "toc": {
   "base_numbering": 1,
   "nav_menu": {},
   "number_sections": true,
   "sideBar": true,
   "skip_h1_title": false,
   "title_cell": "Table of Contents",
   "title_sidebar": "Contents",
   "toc_cell": false,
   "toc_position": {},
   "toc_section_display": true,
   "toc_window_display": false
  },
  "vscode": {
   "interpreter": {
    "hash": "31f2aee4e71d21fbe5cf8b01ff0e069b9275f58929596ceb00d14d90e3e16cd6"
   }
  }
 },
 "nbformat": 4,
 "nbformat_minor": 5
}
