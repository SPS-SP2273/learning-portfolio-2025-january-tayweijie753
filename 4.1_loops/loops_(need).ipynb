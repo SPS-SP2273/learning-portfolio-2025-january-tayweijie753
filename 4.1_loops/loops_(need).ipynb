{
 "cells": [
  {
   "attachments": {},
   "cell_type": "markdown",
   "id": "123456",
   "metadata": {},
   "source": [
    "<div style=\"text-align:left;font-size:2em\"><span style=\"font-weight:bolder;font-size:1.25em\">SP2273 | Learning Portfolio</span><br><br><span style=\"font-weight:bold;color:darkred\">Loops (Need)</span></div>"
   ]
  },
  {
   "attachments": {},
   "cell_type": "markdown",
   "id": "757d32d1",
   "metadata": {},
   "source": [
    "# What to expect in this chapter"
   ]
  },
  {
   "attachments": {},
   "cell_type": "markdown",
   "id": "3ee2ba96",
   "metadata": {},
   "source": [
    "# 1 The for iterator"
   ]
  },
  {
   "attachments": {},
   "cell_type": "markdown",
   "id": "42944a2f",
   "metadata": {},
   "source": [
    "## 1.2 for with enumerate"
   ]
  },
  {
   "cell_type": "code",
   "execution_count": null,
   "id": "8560d191-fd5c-4bd0-9450-6dabae3a59f8",
   "metadata": {},
   "outputs": [],
   "source": []
  },
  {
   "attachments": {},
   "cell_type": "markdown",
   "id": "9e9c11a2",
   "metadata": {},
   "source": [
    "## 1.1 for with a list"
   ]
  },
  {
   "attachments": {},
   "cell_type": "markdown",
   "id": "ab66ca23",
   "metadata": {},
   "source": [
    "## 1.3 for with range"
   ]
  },
  {
   "attachments": {},
   "cell_type": "markdown",
   "id": "2fd7e817",
   "metadata": {},
   "source": [
    "# 2 while"
   ]
  },
  {
   "cell_type": "code",
   "execution_count": 1,
   "id": "e645e194-09b8-4465-a1fc-4fd663d4c11d",
   "metadata": {},
   "outputs": [
    {
     "name": "stdout",
     "output_type": "stream",
     "text": [
      "0\n",
      "1\n",
      "2\n",
      "3\n",
      "4\n"
     ]
    }
   ],
   "source": [
    "number = 0\n",
    "\n",
    "while number < 5:\n",
    "    print(number)\n",
    "    number += 1"
   ]
  },
  {
   "cell_type": "code",
   "execution_count": 3,
   "id": "bfc7107b-6324-49cf-bb91-6d76eb0790a9",
   "metadata": {},
   "outputs": [
    {
     "ename": "IndentationError",
     "evalue": "unexpected indent (453995290.py, line 4)",
     "output_type": "error",
     "traceback": [
      "\u001b[0;36m  Cell \u001b[0;32mIn[3], line 4\u001b[0;36m\u001b[0m\n\u001b[0;31m    print (number)\u001b[0m\n\u001b[0m    ^\u001b[0m\n\u001b[0;31mIndentationError\u001b[0m\u001b[0;31m:\u001b[0m unexpected indent\n"
     ]
    }
   ],
   "source": [
    "#number = 0 \n",
    "\n",
    "# while number < 10: \n",
    "    print (number)"
   ]
  },
  {
   "cell_type": "markdown",
   "id": "51080171-af90-47af-8abb-097ac1e1d352",
   "metadata": {},
   "source": [
    "x = 10 \n",
    "\n",
    "while x >= 0:\n",
    "    print(x)\n",
    "    x-=1"
   ]
  },
  {
   "cell_type": "code",
   "execution_count": 54,
   "id": "a1ed27b8-5a64-493b-a28b-9e07eda98a68",
   "metadata": {},
   "outputs": [],
   "source": [
    "names = [\"Jolene\", \"Joelle\", \"bobby\", \"Yuen Xuan\", \"Wei Jie\", \"Jun Hean\", \"Ming Rong\", \"Kendra\", \"Vanessa\", \"Joey\", \"Caitlin\", \"Ryan\"]\n",
    "\n",
    "majors = [\"Chem\", \"Pharmacy\", \"Pharmacy\", \"Life Sciences\", \"Pharmacy\", \"Pharmacy\", \"Life Science\", \"Life Science\", \"Pharmacy\", \"Pharmacy\", \"Business and Psychology\", \"Biz Real Estate\"]\n",
    "\n",
    "years = [\"1st Year\", \"4th Year\", \"4th Year\", \"1st Year\", \"4th Year\", \"4th Year\", \"1st Year\", \"2nd Year\", \"4th Year\", \"4th Year\", \"4th Year\", \"4th Year\"]"
   ]
  },
  {
   "cell_type": "markdown",
   "id": "d581e2d4-21ee-4966-87fb-70f1368db495",
   "metadata": {},
   "source": [
    "replace_info"
   ]
  },
  {
   "cell_type": "code",
   "execution_count": 56,
   "id": "e74acabe-f55a-47fc-ab7d-9155bff25bac",
   "metadata": {},
   "outputs": [
    {
     "name": "stdout",
     "output_type": "stream",
     "text": [
      "Life Science\n",
      "Life Sciences\n",
      "Life Sciences\n"
     ]
    }
   ],
   "source": [
    "def clean_majors(major):\n",
    "    replace_info ={\n",
    "        'chem': 'Chemistry',\n",
    "        'Life Science': 'Life Sciences',\n",
    "        'Biz Real Estate': 'Bussiness Real Estate',\n",
    "    }\n",
    "    \n",
    "major = 'Life Science'\n",
    "\n",
    "for old_major, new_major in replace_info.items():\n",
    "    major = major.replace(old_major, new_major)\n",
    "    print(major)"
   ]
  },
  {
   "cell_type": "code",
   "execution_count": 57,
   "id": "b211ef05-0358-40c2-92a2-24068d2a9bb6",
   "metadata": {},
   "outputs": [],
   "source": [
    "def clean_majors(major):\n",
    "    replace_info ={\n",
    "        'Chem': 'Chemistry',\n",
    "        'Life Science': 'Life Sciences',\n",
    "        'Biz Real Estate': 'Bussiness Real Estate',\n",
    "    }\n",
    "    \n",
    "    for old_major, new_major in replace_info.items():\n",
    "        major = major.replace(old_major, new_major)\n",
    "\n",
    "    return major"
   ]
  },
  {
   "cell_type": "code",
   "execution_count": 58,
   "id": "43b73ebf-008a-409c-af16-799d49f9100b",
   "metadata": {},
   "outputs": [
    {
     "data": {
      "text/plain": [
       "'Life Sciencess'"
      ]
     },
     "execution_count": 58,
     "metadata": {},
     "output_type": "execute_result"
    }
   ],
   "source": [
    "clean_majors('Life Sciences')"
   ]
  },
  {
   "cell_type": "code",
   "execution_count": null,
   "id": "c8488108-8a1b-492e-b0c7-d04524e37a24",
   "metadata": {},
   "outputs": [],
   "source": []
  },
  {
   "cell_type": "code",
   "execution_count": null,
   "id": "d8cfd775-d7fe-4a00-80d0-846b53f4ddec",
   "metadata": {},
   "outputs": [],
   "source": []
  }
 ],
 "metadata": {
  "kernelspec": {
   "display_name": "Python 3 (ipykernel)",
   "language": "python",
   "name": "python3"
  },
  "language_info": {
   "codemirror_mode": {
    "name": "ipython",
    "version": 3
   },
   "file_extension": ".py",
   "mimetype": "text/x-python",
   "name": "python",
   "nbconvert_exporter": "python",
   "pygments_lexer": "ipython3",
   "version": "3.12.2"
  },
  "toc": {
   "base_numbering": 1,
   "nav_menu": {},
   "number_sections": true,
   "sideBar": true,
   "skip_h1_title": false,
   "title_cell": "Table of Contents",
   "title_sidebar": "Contents",
   "toc_cell": false,
   "toc_position": {},
   "toc_section_display": true,
   "toc_window_display": false
  },
  "vscode": {
   "interpreter": {
    "hash": "31f2aee4e71d21fbe5cf8b01ff0e069b9275f58929596ceb00d14d90e3e16cd6"
   }
  }
 },
 "nbformat": 4,
 "nbformat_minor": 5
}
