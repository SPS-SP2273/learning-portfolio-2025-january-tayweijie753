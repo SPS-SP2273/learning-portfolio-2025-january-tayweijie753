{
 "cells": [
  {
   "attachments": {},
   "cell_type": "markdown",
   "id": "123456",
   "metadata": {},
   "source": [
    "<div style=\"text-align:left;font-size:2em\"><span style=\"font-weight:bolder;font-size:1.25em\">SP2273 | Learning Portfolio</span><br><br><span style=\"font-weight:bold;color:darkred\">Storing Data (Need) Exercises</span></div>"
   ]
  },
  {
   "cell_type": "markdown",
   "id": "cb832740-ced7-45e3-8d5e-39d4985c55f6",
   "metadata": {},
   "source": [
    "# Excercise 1 (Total Recall)"
   ]
  },
  {
   "cell_type": "markdown",
   "id": "06e5aa12-079b-4803-a305-f14717c19b11",
   "metadata": {
    "jp-MarkdownHeadingCollapsed": true
   },
   "source": [
    "## Two similarities between lists and arrays. \n",
    "\n",
    "- List and arrays require the same order for things to work. \n",
    "- Lists and arrays are zero-based index that can be accessed "
   ]
  },
  {
   "cell_type": "markdown",
   "id": "8a35d5f2-1541-42cc-b768-6e2485dc5c32",
   "metadata": {},
   "source": [
    "## Two differences between lists and arrays.\n",
    "\n",
    "- Lists allow different variable types to be stored, while arrays only allow for 1 type to be stored.\n",
    "- Lists cannot handle arithmetic operations, while arithmetic is possible in arrays. "
   ]
  },
  {
   "cell_type": "markdown",
   "id": "ea62d03a-cb9c-401f-acad-80e27805f1c3",
   "metadata": {},
   "source": [
    "### What is a dictionary?\n",
    "\n",
    "- A dictionary is a way used to store and manipulate data.\n",
    "- A dictionary is presented as {key:value}, in which the key holds the corresponding value.\n",
    "- For example John is 20 years old, can be written as {john:20}\n",
    "- This reduces the need to have 2 lists "
   ]
  },
  {
   "cell_type": "markdown",
   "id": "a81ba1fb-1cf3-401a-bb75-53e709fe72fd",
   "metadata": {},
   "source": [
    "# Excerise 2 (Indexing)\n",
    "## Modify the following code to print out all elements with an odd number. I have done the one corresponding to i9 for you.\n"
   ]
  },
  {
   "cell_type": "code",
   "execution_count": 4,
   "id": "53c9e6b9-d213-40fe-b757-54e3e1db5e85",
   "metadata": {},
   "outputs": [],
   "source": [
    "py_list = [\"a1\", \"b2\", \"c3\", \"d4\", \"e5\", \"f6\", \"g7\", \"h8\", \"i9\", \"j10\"]\n",
    "                    # Prints 'a1'\n",
    "                    # Prints 'c3'\n",
    "                    # Prints 'e5'\n",
    "                    # Prints 'g7'\n",
    "                    # Prints 'i9'"
   ]
  },
  {
   "cell_type": "code",
   "execution_count": 5,
   "id": "30dabd4c-e36b-4761-aa54-e185869fb620",
   "metadata": {},
   "outputs": [
    {
     "name": "stdout",
     "output_type": "stream",
     "text": [
      "a1\n",
      "c3\n",
      "e5\n",
      "g7\n",
      "i9\n"
     ]
    }
   ],
   "source": [
    "print(py_list[0])\n",
    "print(py_list[2])\n",
    "print(py_list[4])\n",
    "print(py_list[6])\n",
    "print(py_list[8])"
   ]
  },
  {
   "cell_type": "markdown",
   "id": "fbdc5701-e7e9-4718-82eb-8663bbc16786",
   "metadata": {},
   "source": [
    "# Exercise 3 (Index again)"
   ]
  },
  {
   "cell_type": "code",
   "execution_count": 6,
   "id": "71efd398-bad1-4762-a450-ffb7aecfc635",
   "metadata": {},
   "outputs": [],
   "source": [
    "elements = ['Hydrogen',\n",
    "            'Helium', 'Lithium',\n",
    "            'Beryllium', 'Boron', 'Carbon',\n",
    "            'Nitrogen', 'Oxygen',\n",
    "            'Fluorine',\n",
    "            'Neon']"
   ]
  },
  {
   "cell_type": "code",
   "execution_count": 7,
   "id": "2bcaae43-3196-45fa-a403-66a92eb7d6b6",
   "metadata": {},
   "outputs": [
    {
     "name": "stdout",
     "output_type": "stream",
     "text": [
      "Boron\n"
     ]
    }
   ],
   "source": [
    "print(elements[4])"
   ]
  },
  {
   "cell_type": "code",
   "execution_count": 8,
   "id": "62597c87-21da-4109-a722-8c4e31bfab84",
   "metadata": {},
   "outputs": [
    {
     "name": "stdout",
     "output_type": "stream",
     "text": [
      "Boron\n"
     ]
    }
   ],
   "source": [
    "print(elements[-6])"
   ]
  },
  {
   "cell_type": "markdown",
   "id": "7283b20f-58dd-48dd-9cfa-69bae8eeaa75",
   "metadata": {},
   "source": [
    "# Exercise 4 (How many ones)"
   ]
  },
  {
   "cell_type": "code",
   "execution_count": 9,
   "id": "529caa21-d745-4a36-a1be-524d264ed648",
   "metadata": {},
   "outputs": [],
   "source": [
    "#Use the concepts you learned in this chapter to determine the number of 1’s in the following list of numbers.\n",
    "\n",
    "numbers=[45, 60, 1, 30, 96, 1, 96, 57, 16, 1,\n",
    "        99, 62, 86, 43, 42, 60, 59, 1, 1, 35,\n",
    "        83, 47, 34, 28, 68, 23, 22, 92, 1, 79,\n",
    "        1, 29, 94, 72, 46, 47, 1, 74, 32, 20,\n",
    "        8, 37, 35, 1, 89, 29, 86, 19, 43, 61]  "
   ]
  },
  {
   "cell_type": "code",
   "execution_count": 10,
   "id": "3ed340db-9044-4d93-bea3-6f9fdf070d8c",
   "metadata": {},
   "outputs": [
    {
     "name": "stdout",
     "output_type": "stream",
     "text": [
      "Number of ones = 9\n"
     ]
    }
   ],
   "source": [
    "import numpy as np\n",
    "\n",
    "number_array = np.array(numbers)\n",
    "mask = (number_array==1)\n",
    "number_array[mask]\n",
    "\n",
    "count_ones = mask.sum()\n",
    "print(f'Number of ones = {count_ones}')"
   ]
  },
  {
   "cell_type": "markdown",
   "id": "1eb8737d-d137-4126-9833-6806b4f5434f",
   "metadata": {},
   "source": [
    "# Exercise 5 (A Matter of Statistics)"
   ]
  },
  {
   "cell_type": "code",
   "execution_count": 11,
   "id": "41aceaf0-abc0-4881-b063-c4c163415f66",
   "metadata": {},
   "outputs": [],
   "source": [
    "x_1 = [1, 4, 9, 16, 25, 36, 49, 64, 81, 100]\n",
    "x_2 = [1, 8, 27, 64, 125, 216, 343, 512, 729, 1000]"
   ]
  },
  {
   "cell_type": "markdown",
   "id": "c19224d4-b8d8-4764-8f1f-f6810d2f33ae",
   "metadata": {},
   "source": [
    "## Determine the means of X1 and X2"
   ]
  },
  {
   "cell_type": "code",
   "execution_count": 12,
   "id": "8dd3b53b-869b-46d3-ba0b-5d0e0148971f",
   "metadata": {},
   "outputs": [
    {
     "name": "stdout",
     "output_type": "stream",
     "text": [
      "Mean of x_1 = 38.5\n",
      "Mean of x_2 = 302.5\n"
     ]
    }
   ],
   "source": [
    "import numpy as np\n",
    "\n",
    "mean_x_1 = np.mean(x_1)\n",
    "print(f'Mean of x_1 = {mean_x_1}')\n",
    "\n",
    "mean_x_2 = np.mean(x_2)\n",
    "print(f'Mean of x_2 = {mean_x_2}')"
   ]
  },
  {
   "cell_type": "markdown",
   "id": "cd5e34e4-a496-48ef-9d8c-3bacb033303b",
   "metadata": {},
   "source": [
    "## Determine the standard deviations of X1 and X2"
   ]
  },
  {
   "cell_type": "code",
   "execution_count": 13,
   "id": "5ce1c573-798b-4710-9c4a-acdaa6e07a5f",
   "metadata": {},
   "outputs": [
    {
     "name": "stdout",
     "output_type": "stream",
     "text": [
      "SD of x_1 = 32.41990129534635\n",
      "SD of x_2 = 326.0893282522444\n"
     ]
    }
   ],
   "source": [
    "SD_x_1 = np.std(x_1)\n",
    "print(f'SD of x_1 = {SD_x_1}')\n",
    "\n",
    "SD_x_2 = np.std(x_2)\n",
    "print(f'SD of x_2 = {SD_x_2}')"
   ]
  },
  {
   "cell_type": "markdown",
   "id": "f74d905e-ba8f-4513-abf9-09fd0e500387",
   "metadata": {},
   "source": [
    "## Determine the Pearson correlation coefficient for the two datasets. "
   ]
  },
  {
   "cell_type": "code",
   "execution_count": 14,
   "id": "f14b682f-0ffe-4b99-b9e1-8af79ff0ab5a",
   "metadata": {},
   "outputs": [
    {
     "ename": "NameError",
     "evalue": "name 'x_2_deviations' is not defined",
     "output_type": "error",
     "traceback": [
      "\u001b[0;31m---------------------------------------------------------------------------\u001b[0m",
      "\u001b[0;31mNameError\u001b[0m                                 Traceback (most recent call last)",
      "Cell \u001b[0;32mIn[14], line 15\u001b[0m\n\u001b[1;32m     12\u001b[0m x2_deviations \u001b[38;5;241m=\u001b[39m x_2_array \u001b[38;5;241m-\u001b[39m mean_x_2\n\u001b[1;32m     13\u001b[0m \u001b[38;5;66;03m#print(x_2_deviations)\u001b[39;00m\n\u001b[0;32m---> 15\u001b[0m multiplied_numerator \u001b[38;5;241m=\u001b[39m x1_deviations \u001b[38;5;241m*\u001b[39m \u001b[43mx_2_deviations\u001b[49m\n\u001b[1;32m     16\u001b[0m \u001b[38;5;66;03m#print(summation_numerator)\u001b[39;00m\n\u001b[1;32m     17\u001b[0m total_numerator \u001b[38;5;241m=\u001b[39m np\u001b[38;5;241m.\u001b[39msum(multiplied_numerator)\n",
      "\u001b[0;31mNameError\u001b[0m: name 'x_2_deviations' is not defined"
     ]
    }
   ],
   "source": [
    "import numpy as np \n",
    "import math\n",
    "\n",
    "#convert into arrays for arithmethic \n",
    "x_1_array = np.array(x_1)\n",
    "x_2_array = np.array(x_2)\n",
    "\n",
    "#numerator: \n",
    "#calculate deviations \n",
    "x1_deviations = x_1_array - mean_x_1\n",
    "#print(x_1_deviations)\n",
    "x2_deviations = x_2_array - mean_x_2\n",
    "#print(x_2_deviations)\n",
    "\n",
    "multiplied_numerator = x1_deviations * x_2_deviations\n",
    "#print(summation_numerator)\n",
    "total_numerator = np.sum(multiplied_numerator)\n",
    "print(total_numerator) #this is the numerator \n",
    "\n",
    "# Denominator\n",
    "# find x_1 deviation squared & x_2 deviation squared & their sums \n",
    "\n",
    "x1_deviations_squared_sum = np.sum(x1_deviations**2)\n",
    "#print(x1_deviations_squared_sum)\n",
    "\n",
    "x2_deviations_squared_sum = np.sum(x2_deviations**2)\n",
    "#print(x2_deviations_squared_sum)\n",
    "\n",
    "#to find the sqrt of the denomintor \n",
    "total_denominator = math.sqrt(x1_deviations_squared_sum * x2_deviations_squared_sum) #sqrt the sum of deviations squared \n",
    "\n",
    "r = total_numerator/total_denominator\n",
    "print(r)"
   ]
  },
  {
   "cell_type": "markdown",
   "id": "8a499cf6-5cc9-452b-a1b8-8e08e645b41f",
   "metadata": {},
   "source": [
    "## Compare your results to np.corrcoef()"
   ]
  },
  {
   "cell_type": "code",
   "execution_count": 15,
   "id": "0cba4cfe-43d6-4221-bfed-3d1ec6f9aedf",
   "metadata": {},
   "outputs": [
    {
     "name": "stdout",
     "output_type": "stream",
     "text": [
      "[[1.         0.98717966]\n",
      " [0.98717966 1.        ]]\n"
     ]
    }
   ],
   "source": [
    "import numpy as np\n",
    "\n",
    "np.corrcoef(x_1)\n",
    "print(np.corrcoef(x_1,x_2))\n",
    "\n",
    "#x1,x1 | x2,1\n",
    "#x2,x2 | x1,2"
   ]
  },
  {
   "cell_type": "code",
   "execution_count": 17,
   "id": "a533067e-abff-4aae-9b40-1ee23709dc50",
   "metadata": {},
   "outputs": [
    {
     "data": {
      "text/plain": [
       "\u001b[0;31mSignature:\u001b[0m      \n",
       "\u001b[0mnp\u001b[0m\u001b[0;34m.\u001b[0m\u001b[0mcorrcoef\u001b[0m\u001b[0;34m(\u001b[0m\u001b[0;34m\u001b[0m\n",
       "\u001b[0;34m\u001b[0m    \u001b[0mx\u001b[0m\u001b[0;34m,\u001b[0m\u001b[0;34m\u001b[0m\n",
       "\u001b[0;34m\u001b[0m    \u001b[0my\u001b[0m\u001b[0;34m=\u001b[0m\u001b[0;32mNone\u001b[0m\u001b[0;34m,\u001b[0m\u001b[0;34m\u001b[0m\n",
       "\u001b[0;34m\u001b[0m    \u001b[0mrowvar\u001b[0m\u001b[0;34m=\u001b[0m\u001b[0;32mTrue\u001b[0m\u001b[0;34m,\u001b[0m\u001b[0;34m\u001b[0m\n",
       "\u001b[0;34m\u001b[0m    \u001b[0mbias\u001b[0m\u001b[0;34m=\u001b[0m\u001b[0;34m<\u001b[0m\u001b[0mno\u001b[0m \u001b[0mvalue\u001b[0m\u001b[0;34m>\u001b[0m\u001b[0;34m,\u001b[0m\u001b[0;34m\u001b[0m\n",
       "\u001b[0;34m\u001b[0m    \u001b[0mddof\u001b[0m\u001b[0;34m=\u001b[0m\u001b[0;34m<\u001b[0m\u001b[0mno\u001b[0m \u001b[0mvalue\u001b[0m\u001b[0;34m>\u001b[0m\u001b[0;34m,\u001b[0m\u001b[0;34m\u001b[0m\n",
       "\u001b[0;34m\u001b[0m    \u001b[0;34m*\u001b[0m\u001b[0;34m,\u001b[0m\u001b[0;34m\u001b[0m\n",
       "\u001b[0;34m\u001b[0m    \u001b[0mdtype\u001b[0m\u001b[0;34m=\u001b[0m\u001b[0;32mNone\u001b[0m\u001b[0;34m,\u001b[0m\u001b[0;34m\u001b[0m\n",
       "\u001b[0;34m\u001b[0m\u001b[0;34m)\u001b[0m\u001b[0;34m\u001b[0m\u001b[0;34m\u001b[0m\u001b[0m\n",
       "\u001b[0;31mCall signature:\u001b[0m  \u001b[0mnp\u001b[0m\u001b[0;34m.\u001b[0m\u001b[0mcorrcoef\u001b[0m\u001b[0;34m(\u001b[0m\u001b[0;34m*\u001b[0m\u001b[0margs\u001b[0m\u001b[0;34m,\u001b[0m \u001b[0;34m**\u001b[0m\u001b[0mkwargs\u001b[0m\u001b[0;34m)\u001b[0m\u001b[0;34m\u001b[0m\u001b[0;34m\u001b[0m\u001b[0m\n",
       "\u001b[0;31mType:\u001b[0m            _ArrayFunctionDispatcher\n",
       "\u001b[0;31mString form:\u001b[0m     <function corrcoef at 0x106c68540>\n",
       "\u001b[0;31mFile:\u001b[0m            /opt/miniconda3/lib/python3.12/site-packages/numpy/lib/_function_base_impl.py\n",
       "\u001b[0;31mDocstring:\u001b[0m      \n",
       "Return Pearson product-moment correlation coefficients.\n",
       "\n",
       "Please refer to the documentation for `cov` for more detail.  The\n",
       "relationship between the correlation coefficient matrix, `R`, and the\n",
       "covariance matrix, `C`, is\n",
       "\n",
       ".. math:: R_{ij} = \\frac{ C_{ij} } { \\sqrt{ C_{ii} C_{jj} } }\n",
       "\n",
       "The values of `R` are between -1 and 1, inclusive.\n",
       "\n",
       "Parameters\n",
       "----------\n",
       "x : array_like\n",
       "    A 1-D or 2-D array containing multiple variables and observations.\n",
       "    Each row of `x` represents a variable, and each column a single\n",
       "    observation of all those variables. Also see `rowvar` below.\n",
       "y : array_like, optional\n",
       "    An additional set of variables and observations. `y` has the same\n",
       "    shape as `x`.\n",
       "rowvar : bool, optional\n",
       "    If `rowvar` is True (default), then each row represents a\n",
       "    variable, with observations in the columns. Otherwise, the relationship\n",
       "    is transposed: each column represents a variable, while the rows\n",
       "    contain observations.\n",
       "bias : _NoValue, optional\n",
       "    Has no effect, do not use.\n",
       "\n",
       "    .. deprecated:: 1.10.0\n",
       "ddof : _NoValue, optional\n",
       "    Has no effect, do not use.\n",
       "\n",
       "    .. deprecated:: 1.10.0\n",
       "dtype : data-type, optional\n",
       "    Data-type of the result. By default, the return data-type will have\n",
       "    at least `numpy.float64` precision.\n",
       "\n",
       "    .. versionadded:: 1.20\n",
       "\n",
       "Returns\n",
       "-------\n",
       "R : ndarray\n",
       "    The correlation coefficient matrix of the variables.\n",
       "\n",
       "See Also\n",
       "--------\n",
       "cov : Covariance matrix\n",
       "\n",
       "Notes\n",
       "-----\n",
       "Due to floating point rounding the resulting array may not be Hermitian,\n",
       "the diagonal elements may not be 1, and the elements may not satisfy the\n",
       "inequality abs(a) <= 1. The real and imaginary parts are clipped to the\n",
       "interval [-1,  1] in an attempt to improve on that situation but is not\n",
       "much help in the complex case.\n",
       "\n",
       "This function accepts but discards arguments `bias` and `ddof`.  This is\n",
       "for backwards compatibility with previous versions of this function.  These\n",
       "arguments had no effect on the return values of the function and can be\n",
       "safely ignored in this and previous versions of numpy.\n",
       "\n",
       "Examples\n",
       "--------\n",
       ">>> import numpy as np\n",
       "\n",
       "In this example we generate two random arrays, ``xarr`` and ``yarr``, and\n",
       "compute the row-wise and column-wise Pearson correlation coefficients,\n",
       "``R``. Since ``rowvar`` is  true by  default, we first find the row-wise\n",
       "Pearson correlation coefficients between the variables of ``xarr``.\n",
       "\n",
       ">>> import numpy as np\n",
       ">>> rng = np.random.default_rng(seed=42)\n",
       ">>> xarr = rng.random((3, 3))\n",
       ">>> xarr\n",
       "array([[0.77395605, 0.43887844, 0.85859792],\n",
       "       [0.69736803, 0.09417735, 0.97562235],\n",
       "       [0.7611397 , 0.78606431, 0.12811363]])\n",
       ">>> R1 = np.corrcoef(xarr)\n",
       ">>> R1\n",
       "array([[ 1.        ,  0.99256089, -0.68080986],\n",
       "       [ 0.99256089,  1.        , -0.76492172],\n",
       "       [-0.68080986, -0.76492172,  1.        ]])\n",
       "\n",
       "If we add another set of variables and observations ``yarr``, we can\n",
       "compute the row-wise Pearson correlation coefficients between the\n",
       "variables in ``xarr`` and ``yarr``.\n",
       "\n",
       ">>> yarr = rng.random((3, 3))\n",
       ">>> yarr\n",
       "array([[0.45038594, 0.37079802, 0.92676499],\n",
       "       [0.64386512, 0.82276161, 0.4434142 ],\n",
       "       [0.22723872, 0.55458479, 0.06381726]])\n",
       ">>> R2 = np.corrcoef(xarr, yarr)\n",
       ">>> R2\n",
       "array([[ 1.        ,  0.99256089, -0.68080986,  0.75008178, -0.934284  ,\n",
       "        -0.99004057],\n",
       "       [ 0.99256089,  1.        , -0.76492172,  0.82502011, -0.97074098,\n",
       "        -0.99981569],\n",
       "       [-0.68080986, -0.76492172,  1.        , -0.99507202,  0.89721355,\n",
       "         0.77714685],\n",
       "       [ 0.75008178,  0.82502011, -0.99507202,  1.        , -0.93657855,\n",
       "        -0.83571711],\n",
       "       [-0.934284  , -0.97074098,  0.89721355, -0.93657855,  1.        ,\n",
       "         0.97517215],\n",
       "       [-0.99004057, -0.99981569,  0.77714685, -0.83571711,  0.97517215,\n",
       "         1.        ]])\n",
       "\n",
       "Finally if we use the option ``rowvar=False``, the columns are now\n",
       "being treated as the variables and we will find the column-wise Pearson\n",
       "correlation coefficients between variables in ``xarr`` and ``yarr``.\n",
       "\n",
       ">>> R3 = np.corrcoef(xarr, yarr, rowvar=False)\n",
       ">>> R3\n",
       "array([[ 1.        ,  0.77598074, -0.47458546, -0.75078643, -0.9665554 ,\n",
       "         0.22423734],\n",
       "       [ 0.77598074,  1.        , -0.92346708, -0.99923895, -0.58826587,\n",
       "        -0.44069024],\n",
       "       [-0.47458546, -0.92346708,  1.        ,  0.93773029,  0.23297648,\n",
       "         0.75137473],\n",
       "       [-0.75078643, -0.99923895,  0.93773029,  1.        ,  0.55627469,\n",
       "         0.47536961],\n",
       "       [-0.9665554 , -0.58826587,  0.23297648,  0.55627469,  1.        ,\n",
       "        -0.46666491],\n",
       "       [ 0.22423734, -0.44069024,  0.75137473,  0.47536961, -0.46666491,\n",
       "         1.        ]])\n",
       "\u001b[0;31mClass docstring:\u001b[0m\n",
       "Class to wrap functions with checks for __array_function__ overrides.\n",
       "\n",
       "All arguments are required, and can only be passed by position.\n",
       "\n",
       "Parameters\n",
       "----------\n",
       "dispatcher : function or None\n",
       "    The dispatcher function that returns a single sequence-like object\n",
       "    of all arguments relevant.  It must have the same signature (except\n",
       "    the default values) as the actual implementation.\n",
       "    If ``None``, this is a ``like=`` dispatcher and the\n",
       "    ``_ArrayFunctionDispatcher`` must be called with ``like`` as the\n",
       "    first (additional and positional) argument.\n",
       "implementation : function\n",
       "    Function that implements the operation on NumPy arrays without\n",
       "    overrides.  Arguments passed calling the ``_ArrayFunctionDispatcher``\n",
       "    will be forwarded to this (and the ``dispatcher``) as if using\n",
       "    ``*args, **kwargs``.\n",
       "\n",
       "Attributes\n",
       "----------\n",
       "_implementation : function\n",
       "    The original implementation passed in."
      ]
     },
     "metadata": {},
     "output_type": "display_data"
    }
   ],
   "source": [
    "?np.corrcoef"
   ]
  },
  {
   "cell_type": "code",
   "execution_count": null,
   "id": "9ab885af-7832-4ae0-9c78-560a9a890cc8",
   "metadata": {},
   "outputs": [],
   "source": []
  }
 ],
 "metadata": {
  "kernelspec": {
   "display_name": "Python 3 (ipykernel)",
   "language": "python",
   "name": "python3"
  },
  "language_info": {
   "codemirror_mode": {
    "name": "ipython",
    "version": 3
   },
   "file_extension": ".py",
   "mimetype": "text/x-python",
   "name": "python",
   "nbconvert_exporter": "python",
   "pygments_lexer": "ipython3",
   "version": "3.12.2"
  },
  "toc": {
   "base_numbering": 1,
   "nav_menu": {},
   "number_sections": true,
   "sideBar": true,
   "skip_h1_title": false,
   "title_cell": "Table of Contents",
   "title_sidebar": "Contents",
   "toc_cell": false,
   "toc_position": {},
   "toc_section_display": true,
   "toc_window_display": false
  },
  "vscode": {
   "interpreter": {
    "hash": "31f2aee4e71d21fbe5cf8b01ff0e069b9275f58929596ceb00d14d90e3e16cd6"
   }
  }
 },
 "nbformat": 4,
 "nbformat_minor": 5
}
