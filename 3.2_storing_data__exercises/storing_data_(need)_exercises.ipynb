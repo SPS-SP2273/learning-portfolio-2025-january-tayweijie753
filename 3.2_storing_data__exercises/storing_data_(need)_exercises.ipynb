{
 "cells": [
  {
   "attachments": {},
   "cell_type": "markdown",
   "id": "123456",
   "metadata": {},
   "source": [
    "<div style=\"text-align:left;font-size:2em\"><span style=\"font-weight:bolder;font-size:1.25em\">SP2273 | Learning Portfolio</span><br><br><span style=\"font-weight:bold;color:darkred\">Storing Data (Need) Exercises</span></div>"
   ]
  },
  {
   "cell_type": "markdown",
   "id": "cb832740-ced7-45e3-8d5e-39d4985c55f6",
   "metadata": {},
   "source": [
    "# Excercise 1 (Total Recall)"
   ]
  },
  {
   "cell_type": "markdown",
   "id": "06e5aa12-079b-4803-a305-f14717c19b11",
   "metadata": {
    "jp-MarkdownHeadingCollapsed": true
   },
   "source": [
    "## Two similarities between lists and arrays. \n",
    "\n",
    "- List and arrays require the same order for things to work. \n",
    "- Lists and arrays are zero-based index that can be accessed "
   ]
  },
  {
   "cell_type": "markdown",
   "id": "8a35d5f2-1541-42cc-b768-6e2485dc5c32",
   "metadata": {},
   "source": [
    "## Two differences between lists and arrays.\n",
    "\n",
    "- Lists allow different variable types to be stored, while arrays only allow for 1 type to be stored.\n",
    "- Lists cannot handle arithmetic operations, while arithmetic is possible in arrays. "
   ]
  },
  {
   "cell_type": "markdown",
   "id": "ea62d03a-cb9c-401f-acad-80e27805f1c3",
   "metadata": {},
   "source": [
    "### What is a dictionary?\n",
    "\n",
    "- A dictionary is a way used to store and manipulate data.\n",
    "- A dictionary is presented as {key:value}, in which the key holds the corresponding value.\n",
    "- For example John is 20 years old, can be written as {john:20}\n",
    "- This reduces the need to have 2 lists "
   ]
  },
  {
   "cell_type": "markdown",
   "id": "a81ba1fb-1cf3-401a-bb75-53e709fe72fd",
   "metadata": {},
   "source": [
    "# Excerise 2 (Indexing)\n",
    "## Modify the following code to print out all elements with an odd number. I have done the one corresponding to i9 for you.\n"
   ]
  },
  {
   "cell_type": "code",
   "execution_count": 24,
   "id": "53c9e6b9-d213-40fe-b757-54e3e1db5e85",
   "metadata": {},
   "outputs": [],
   "source": [
    "py_list = [\"a1\", \"b2\", \"c3\", \"d4\", \"e5\", \"f6\", \"g7\", \"h8\", \"i9\", \"j10\"]\n",
    "                    # Prints 'a1'\n",
    "                    # Prints 'c3'\n",
    "                    # Prints 'e5'\n",
    "                    # Prints 'g7'\n",
    "                    # Prints 'i9'"
   ]
  },
  {
   "cell_type": "code",
   "execution_count": 25,
   "id": "30dabd4c-e36b-4761-aa54-e185869fb620",
   "metadata": {},
   "outputs": [
    {
     "name": "stdout",
     "output_type": "stream",
     "text": [
      "a1\n",
      "c3\n",
      "e5\n",
      "g7\n",
      "i9\n"
     ]
    }
   ],
   "source": [
    "print(py_list[0])\n",
    "print(py_list[2])\n",
    "print(py_list[4])\n",
    "print(py_list[6])\n",
    "print(py_list[8])"
   ]
  },
  {
   "cell_type": "markdown",
   "id": "fbdc5701-e7e9-4718-82eb-8663bbc16786",
   "metadata": {},
   "source": [
    "# Exercise 3 (Index again)"
   ]
  },
  {
   "cell_type": "code",
   "execution_count": 14,
   "id": "71efd398-bad1-4762-a450-ffb7aecfc635",
   "metadata": {},
   "outputs": [],
   "source": [
    "elements = ['Hydrogen',\n",
    "            'Helium', 'Lithium',\n",
    "            'Beryllium', 'Boron', 'Carbon',\n",
    "            'Nitrogen', 'Oxygen',\n",
    "            'Fluorine',\n",
    "            'Neon']"
   ]
  },
  {
   "cell_type": "code",
   "execution_count": 15,
   "id": "2bcaae43-3196-45fa-a403-66a92eb7d6b6",
   "metadata": {},
   "outputs": [
    {
     "name": "stdout",
     "output_type": "stream",
     "text": [
      "Boron\n"
     ]
    }
   ],
   "source": [
    "print(elements[4])"
   ]
  },
  {
   "cell_type": "code",
   "execution_count": 18,
   "id": "62597c87-21da-4109-a722-8c4e31bfab84",
   "metadata": {},
   "outputs": [
    {
     "name": "stdout",
     "output_type": "stream",
     "text": [
      "Boron\n"
     ]
    }
   ],
   "source": [
    "print(elements[-6])"
   ]
  },
  {
   "cell_type": "markdown",
   "id": "7283b20f-58dd-48dd-9cfa-69bae8eeaa75",
   "metadata": {},
   "source": [
    "# Exercise 4 (How many ones)"
   ]
  },
  {
   "cell_type": "code",
   "execution_count": 28,
   "id": "529caa21-d745-4a36-a1be-524d264ed648",
   "metadata": {},
   "outputs": [],
   "source": [
    "#Use the concepts you learned in this chapter to determine the number of 1’s in the following list of numbers.\n",
    "\n",
    "numbers=[45, 60, 1, 30, 96, 1, 96, 57, 16, 1,\n",
    "        99, 62, 86, 43, 42, 60, 59, 1, 1, 35,\n",
    "        83, 47, 34, 28, 68, 23, 22, 92, 1, 79,\n",
    "        1, 29, 94, 72, 46, 47, 1, 74, 32, 20,\n",
    "        8, 37, 35, 1, 89, 29, 86, 19, 43, 61]  "
   ]
  },
  {
   "cell_type": "code",
   "execution_count": 65,
   "id": "3ed340db-9044-4d93-bea3-6f9fdf070d8c",
   "metadata": {},
   "outputs": [
    {
     "name": "stdout",
     "output_type": "stream",
     "text": [
      "Number of ones = 9\n"
     ]
    }
   ],
   "source": [
    "import numpy as np\n",
    "\n",
    "number_array = np.array(numbers)\n",
    "mask = (number_array==1)\n",
    "number_array[mask]\n",
    "\n",
    "count_ones = mask.sum()\n",
    "print(f'Number of ones = {count_ones}')"
   ]
  },
  {
   "cell_type": "markdown",
   "id": "1eb8737d-d137-4126-9833-6806b4f5434f",
   "metadata": {},
   "source": [
    "# Exercise 5 (A Matter of Statistics)"
   ]
  },
  {
   "cell_type": "code",
   "execution_count": 66,
   "id": "41aceaf0-abc0-4881-b063-c4c163415f66",
   "metadata": {},
   "outputs": [],
   "source": [
    "x_1 = [1, 4, 9, 16, 25, 36, 49, 64, 81, 100]\n",
    "x_2 = [1, 8, 27, 64, 125, 216, 343, 512, 729, 1000]"
   ]
  },
  {
   "cell_type": "markdown",
   "id": "c19224d4-b8d8-4764-8f1f-f6810d2f33ae",
   "metadata": {},
   "source": [
    "## Determine the means of X1 and X2"
   ]
  },
  {
   "cell_type": "code",
   "execution_count": 84,
   "id": "8dd3b53b-869b-46d3-ba0b-5d0e0148971f",
   "metadata": {},
   "outputs": [
    {
     "name": "stdout",
     "output_type": "stream",
     "text": [
      "Mean of x_1 = 38.5\n",
      "Mean of x_2 = 302.5\n"
     ]
    }
   ],
   "source": [
    "import numpy as np\n",
    "\n",
    "mean_x_1 = np.mean(x_1)\n",
    "print(f'Mean of x_1 = {mean_x_1}')\n",
    "\n",
    "mean_x_2 = np.mean(x_2)\n",
    "print(f'Mean of x_2 = {mean_x_2}')"
   ]
  },
  {
   "cell_type": "markdown",
   "id": "cd5e34e4-a496-48ef-9d8c-3bacb033303b",
   "metadata": {},
   "source": [
    "## Determine the standard deviations of X1 and X2"
   ]
  },
  {
   "cell_type": "code",
   "execution_count": 85,
   "id": "5ce1c573-798b-4710-9c4a-acdaa6e07a5f",
   "metadata": {},
   "outputs": [
    {
     "name": "stdout",
     "output_type": "stream",
     "text": [
      "SD of x_1 = 32.41990129534635\n",
      "SD of x_2 = 326.0893282522444\n"
     ]
    }
   ],
   "source": [
    "SD_x_1 = np.std(x_1)\n",
    "print(f'SD of x_1 = {SD_x_1}')\n",
    "\n",
    "SD_x_2 = np.std(x_2)\n",
    "print(f'SD of x_2 = {SD_x_2}')"
   ]
  },
  {
   "cell_type": "markdown",
   "id": "f74d905e-ba8f-4513-abf9-09fd0e500387",
   "metadata": {},
   "source": [
    "## Determine the Pearson correlation coefficient for the two datasets. "
   ]
  },
  {
   "cell_type": "code",
   "execution_count": null,
   "id": "f14b682f-0ffe-4b99-b9e1-8af79ff0ab5a",
   "metadata": {},
   "outputs": [],
   "source": []
  },
  {
   "cell_type": "markdown",
   "id": "8a499cf6-5cc9-452b-a1b8-8e08e645b41f",
   "metadata": {},
   "source": [
    "## Compare your results to np.corrcoef()"
   ]
  },
  {
   "cell_type": "code",
   "execution_count": 90,
   "id": "0cba4cfe-43d6-4221-bfed-3d1ec6f9aedf",
   "metadata": {},
   "outputs": [
    {
     "name": "stdout",
     "output_type": "stream",
     "text": [
      "1.0\n",
      "1.0\n"
     ]
    }
   ],
   "source": [
    "np.corrcoef(x_1)\n",
    "print(np.corrcoef(x_1))\n",
    "\n",
    "np.corrcoef(x_2)\n",
    "print(np.corrcoef(x_2))"
   ]
  },
  {
   "cell_type": "code",
   "execution_count": null,
   "id": "a533067e-abff-4aae-9b40-1ee23709dc50",
   "metadata": {},
   "outputs": [],
   "source": []
  }
 ],
 "metadata": {
  "kernelspec": {
   "display_name": "Python 3 (ipykernel)",
   "language": "python",
   "name": "python3"
  },
  "language_info": {
   "codemirror_mode": {
    "name": "ipython",
    "version": 3
   },
   "file_extension": ".py",
   "mimetype": "text/x-python",
   "name": "python",
   "nbconvert_exporter": "python",
   "pygments_lexer": "ipython3",
   "version": "3.12.2"
  },
  "toc": {
   "base_numbering": 1,
   "nav_menu": {},
   "number_sections": true,
   "sideBar": true,
   "skip_h1_title": false,
   "title_cell": "Table of Contents",
   "title_sidebar": "Contents",
   "toc_cell": false,
   "toc_position": {},
   "toc_section_display": true,
   "toc_window_display": false
  },
  "vscode": {
   "interpreter": {
    "hash": "31f2aee4e71d21fbe5cf8b01ff0e069b9275f58929596ceb00d14d90e3e16cd6"
   }
  }
 },
 "nbformat": 4,
 "nbformat_minor": 5
}
