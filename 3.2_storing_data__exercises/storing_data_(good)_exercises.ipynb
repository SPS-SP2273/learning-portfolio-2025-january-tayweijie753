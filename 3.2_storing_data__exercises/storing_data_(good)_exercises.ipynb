{
 "cells": [
  {
   "attachments": {},
   "cell_type": "markdown",
   "id": "123456",
   "metadata": {},
   "source": [
    "<div style=\"text-align:left;font-size:2em\"><span style=\"font-weight:bolder;font-size:1.25em\">SP2273 | Learning Portfolio</span><br><br><span style=\"font-weight:bold;color:darkred\">Storing Data (Good) Exercises</span></div>"
   ]
  },
  {
   "cell_type": "markdown",
   "id": "42dd1dda-b97a-430f-a3b0-0c53f590111f",
   "metadata": {},
   "source": [
    "# Exercise 1 "
   ]
  },
  {
   "cell_type": "markdown",
   "id": "5f10735a-8075-4ac3-a7a6-84a3d58a8603",
   "metadata": {},
   "source": [
    "- Subsetting: To select a portion of the data from the list and away \n",
    "- Indexing: To select a single item from the list/array \n",
    "- Slicing: To take a range of data from the list/array \n",
    "- Masking: _A feature that allows you to show values in a numpy array based on whether they are true or false for a particular condition_"
   ]
  },
  {
   "cell_type": "markdown",
   "id": "11d44e64-b65c-4214-9f2e-8cfb7d3a4ffe",
   "metadata": {},
   "source": [
    "# Exercise 2 "
   ]
  },
  {
   "cell_type": "code",
   "execution_count": 80,
   "id": "2d0ff059-0bd6-4739-9097-76060a1a2f19",
   "metadata": {},
   "outputs": [
    {
     "name": "stdout",
     "output_type": "stream",
     "text": [
      "[ True  True False False  True  True False False False  True]\n"
     ]
    }
   ],
   "source": [
    "np_array_2d = np.array([[1, \"A\"], [3, \"C\"], [2, \"B\"], [4, \"D\"],\n",
    "                        [5, \"E\"], [7, \"G\"], [6, \"F\"], [8, \"H\"],\n",
    "                        [10, \"J\"], [9, \"I\"]])\n",
    "\n",
    "\n",
    "import numpy as np \n",
    "\n",
    "np_array_2d[:,0] # subset all first elements\n",
    "array_integer = np_array_2d[:,0].astype(int) \n",
    "remainder_array = array_integer%2\n",
    "#print(remainder_array)\n",
    "#Create a mask that checks if the remainder is 0 or not. If remainder = 1(odd), return True, else return False (even)\n",
    "odd_mask = remainder_array == 1 \n",
    "print(odd_mask)"
   ]
  },
  {
   "cell_type": "code",
   "execution_count": 102,
   "id": "0944b4b9-e35b-4715-b334-680242381332",
   "metadata": {},
   "outputs": [
    {
     "data": {
      "text/plain": [
       "array(['A', 'C', 'E', 'G', 'I'], dtype='<U21')"
      ]
     },
     "execution_count": 102,
     "metadata": {},
     "output_type": "execute_result"
    }
   ],
   "source": [
    "np_array_2d[odd_mask,1] #index elements that are odd, AND return the alphabet in index 1"
   ]
  },
  {
   "cell_type": "markdown",
   "id": "6d1d2b3a-0252-4b16-83eb-0f19a3fa4f7e",
   "metadata": {},
   "source": [
    "# Exercise 3"
   ]
  },
  {
   "cell_type": "code",
   "execution_count": 153,
   "id": "12577683-b472-4499-9de1-a7661ad9c922",
   "metadata": {},
   "outputs": [
    {
     "name": "stdout",
     "output_type": "stream",
     "text": [
      "[[66 50 57 -1 -1]\n",
      " [92 -1 88 -1 -1]\n",
      " [75 -1 -1 76 -1]\n",
      " [-1 51 87 -1 -1]\n",
      " [71 -1 67 -1 69]]\n"
     ]
    }
   ],
   "source": [
    "import numpy as np \n",
    "\n",
    "numbers_2d_array = np.array ([[66, 50, 57, -1, -1],\n",
    "                              [92, -1, 88, -1, -1],\n",
    "                              [75, -1, -1, 76, -1],\n",
    "                              [-1, 51, 87, -1, -1],\n",
    "                              [71, -1, 67, -1, 69]])\n",
    "integer_2d_array = numbers_2d_array.astype(int)\n",
    "print(integer_2d_array)"
   ]
  },
  {
   "cell_type": "code",
   "execution_count": 154,
   "id": "460262da-9f92-4c5f-b125-a66ecfed4636",
   "metadata": {},
   "outputs": [],
   "source": [
    "#mask numbers accordingly \n",
    "integer_2d_array[integer_2d_array <50] = -1 \n",
    "integer_2d_array[integer_2d_array >50] = +1 \n",
    "integer_2d_array[integer_2d_array ==50] = 0"
   ]
  },
  {
   "cell_type": "code",
   "execution_count": 155,
   "id": "eea00cbe-f932-47da-8d0c-e8d9b1a06eec",
   "metadata": {},
   "outputs": [
    {
     "name": "stdout",
     "output_type": "stream",
     "text": [
      "[[ 1  0  1 -1 -1]\n",
      " [ 1 -1  1 -1 -1]\n",
      " [ 1 -1 -1  1 -1]\n",
      " [-1  1  1 -1 -1]\n",
      " [ 1 -1  1 -1  1]]\n"
     ]
    }
   ],
   "source": [
    "print(integer_2d_array)"
   ]
  },
  {
   "cell_type": "code",
   "execution_count": null,
   "id": "fa376026-04a3-4d0b-a92f-5decf7ab3a1e",
   "metadata": {},
   "outputs": [],
   "source": []
  }
 ],
 "metadata": {
  "kernelspec": {
   "display_name": "Python 3 (ipykernel)",
   "language": "python",
   "name": "python3"
  },
  "language_info": {
   "codemirror_mode": {
    "name": "ipython",
    "version": 3
   },
   "file_extension": ".py",
   "mimetype": "text/x-python",
   "name": "python",
   "nbconvert_exporter": "python",
   "pygments_lexer": "ipython3",
   "version": "3.12.2"
  },
  "toc": {
   "base_numbering": 1,
   "nav_menu": {},
   "number_sections": true,
   "sideBar": true,
   "skip_h1_title": false,
   "title_cell": "Table of Contents",
   "title_sidebar": "Contents",
   "toc_cell": false,
   "toc_position": {},
   "toc_section_display": true,
   "toc_window_display": false
  },
  "vscode": {
   "interpreter": {
    "hash": "31f2aee4e71d21fbe5cf8b01ff0e069b9275f58929596ceb00d14d90e3e16cd6"
   }
  }
 },
 "nbformat": 4,
 "nbformat_minor": 5
}
