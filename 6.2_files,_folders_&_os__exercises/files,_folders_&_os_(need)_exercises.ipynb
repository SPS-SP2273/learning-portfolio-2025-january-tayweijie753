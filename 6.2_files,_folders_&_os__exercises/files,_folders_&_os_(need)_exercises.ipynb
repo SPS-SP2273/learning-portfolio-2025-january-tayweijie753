{
 "cells": [
  {
   "attachments": {},
   "cell_type": "markdown",
   "id": "123456",
   "metadata": {},
   "source": [
    "<div style=\"text-align:left;font-size:2em\"><span style=\"font-weight:bolder;font-size:1.25em\">SP2273 | Learning Portfolio</span><br><br><span style=\"font-weight:bold;color:darkred\">Files, Folders & OS (Need) Exercises</span></div>"
   ]
  },
  {
   "cell_type": "markdown",
   "id": "38262ee1-0278-4b89-84b7-d5ad4086b646",
   "metadata": {},
   "source": [
    "# Task 1 "
   ]
  },
  {
   "cell_type": "code",
   "execution_count": 5,
   "id": "fa8cd96f-e14b-40c9-93e3-263fc8d2f6ff",
   "metadata": {},
   "outputs": [],
   "source": [
    "#We like to convert the filename to a more useful numerical format. Specifically, we want to convert month-date-city.txt. (i.e. may-10-singapore.txt) to a mm-dd-city.txt (i.e. 05-10-singapore.txt) format.\n",
    "#Using the following dictionary (or otherwise), write a snippet of Python code to convert 'oct-08_singapore.txt' to 10-08-singapore.txt."
   ]
  },
  {
   "cell_type": "code",
   "execution_count": 23,
   "id": "ebdd1c5d-6115-4df9-98a3-e893f84909ce",
   "metadata": {},
   "outputs": [
    {
     "name": "stdout",
     "output_type": "stream",
     "text": [
      "\u001b[34m0.1_hello,_github!\u001b[m\u001b[m                 \u001b[34m4.2_loops__exercises\u001b[m\u001b[m\n",
      "\u001b[34m0.2_hello,_jupyter!\u001b[m\u001b[m                \u001b[34m5.1_functions\u001b[m\u001b[m\n",
      "\u001b[34m0.3_Virtual_Environments_(Nice!)\u001b[m\u001b[m   \u001b[34m5.2_functions__exercises\u001b[m\u001b[m\n",
      "\u001b[34m1.1_using_jupyter\u001b[m\u001b[m                  \u001b[34m6.1_files,_folders_&_os\u001b[m\u001b[m\n",
      "\u001b[34m1.2_using_jupyter_,_exercises\u001b[m\u001b[m      \u001b[34m6.2_files,_folders_&_os__exercises\u001b[m\u001b[m\n",
      "\u001b[34m2.1_fundamentals\u001b[m\u001b[m                   \u001b[34m7.1_plotting\u001b[m\u001b[m\n",
      "\u001b[34m2.2_fundamentals__exercises\u001b[m\u001b[m        \u001b[34m7.2_plotting__exercises\u001b[m\u001b[m\n",
      "\u001b[34m3.1_storing_data\u001b[m\u001b[m                   README.md\n",
      "\u001b[34m3.2_storing_data__exercises\u001b[m\u001b[m        Untitled.rtf\n",
      "\u001b[34m4.1_loops\u001b[m\u001b[m                          hehehehe.rtf\n"
     ]
    }
   ],
   "source": [
    " !ls ~/Desktop/Y4S2/SP2273/learning-portfolio-2025-january-tayweijie753"
   ]
  },
  {
   "cell_type": "code",
   "execution_count": 24,
   "id": "62c7963d-a324-4eb4-895a-de85b98f47da",
   "metadata": {},
   "outputs": [],
   "source": [
    "import glob"
   ]
  },
  {
   "cell_type": "code",
   "execution_count": 29,
   "id": "64e76245-ef82-417a-9cf4-2efb06c35390",
   "metadata": {},
   "outputs": [
    {
     "data": {
      "text/plain": [
       "['../6.2_files,_folders_&_os__exercises/files,_folders_&_os_(need)_exercises.ipynb',\n",
       " '../6.2_files,_folders_&_os__exercises/os-collaboration-exercise-data.zip']"
      ]
     },
     "execution_count": 29,
     "metadata": {},
     "output_type": "execute_result"
    }
   ],
   "source": [
    "glob.glob('../6.2*/*')"
   ]
  },
  {
   "cell_type": "code",
   "execution_count": 11,
   "id": "f47857e0-a97e-4cbe-8e5a-89837b2353bc",
   "metadata": {},
   "outputs": [],
   "source": [
    "month_dict = {\n",
    "'jan': '01', 'feb': '02', 'mar': '03',\n",
    "'apr': '04', 'may': '05', 'jun': '06',\n",
    "'jul': '07', 'aug': '08', 'sep': '09',\n",
    "'oct': '10', 'nov': '11', 'dec': '12'\n",
    "}"
   ]
  },
  {
   "cell_type": "code",
   "execution_count": null,
   "id": "8b9f4b47-30d1-4370-b5bd-7b499cc392fe",
   "metadata": {},
   "outputs": [],
   "source": []
  },
  {
   "cell_type": "code",
   "execution_count": null,
   "id": "edec195c-48b6-4a11-bfdf-79e36db5e446",
   "metadata": {},
   "outputs": [],
   "source": []
  }
 ],
 "metadata": {
  "kernelspec": {
   "display_name": "Python 3 (ipykernel)",
   "language": "python",
   "name": "python3"
  },
  "language_info": {
   "codemirror_mode": {
    "name": "ipython",
    "version": 3
   },
   "file_extension": ".py",
   "mimetype": "text/x-python",
   "name": "python",
   "nbconvert_exporter": "python",
   "pygments_lexer": "ipython3",
   "version": "3.12.2"
  },
  "toc": {
   "base_numbering": 1,
   "nav_menu": {},
   "number_sections": true,
   "sideBar": true,
   "skip_h1_title": false,
   "title_cell": "Table of Contents",
   "title_sidebar": "Contents",
   "toc_cell": false,
   "toc_position": {},
   "toc_section_display": true,
   "toc_window_display": false
  },
  "vscode": {
   "interpreter": {
    "hash": "31f2aee4e71d21fbe5cf8b01ff0e069b9275f58929596ceb00d14d90e3e16cd6"
   }
  }
 },
 "nbformat": 4,
 "nbformat_minor": 5
}
