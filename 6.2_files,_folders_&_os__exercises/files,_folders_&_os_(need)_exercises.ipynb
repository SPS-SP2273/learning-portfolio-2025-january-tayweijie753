{
 "cells": [
  {
   "attachments": {},
   "cell_type": "markdown",
   "id": "123456",
   "metadata": {},
   "source": [
    "<div style=\"text-align:left;font-size:2em\"><span style=\"font-weight:bolder;font-size:1.25em\">SP2273 | Learning Portfolio</span><br><br><span style=\"font-weight:bold;color:darkred\">Files, Folders & OS (Need) Exercises</span></div>"
   ]
  },
  {
   "cell_type": "markdown",
   "id": "38262ee1-0278-4b89-84b7-d5ad4086b646",
   "metadata": {},
   "source": [
    "# Task 1 "
   ]
  },
  {
   "cell_type": "code",
   "execution_count": 76,
   "id": "ea50238e-135f-42b1-a3ad-a5129b74bbbd",
   "metadata": {},
   "outputs": [],
   "source": [
    "import glob #allows u to search \n",
    "import os\n",
    "import shutil"
   ]
  },
  {
   "cell_type": "code",
   "execution_count": 77,
   "id": "f47857e0-a97e-4cbe-8e5a-89837b2353bc",
   "metadata": {},
   "outputs": [],
   "source": [
    "import os\n",
    "month_dict = {\n",
    "'jan': '01', 'feb': '02', 'mar': '03',\n",
    "'apr': '04', 'may': '05', 'jun': '06',\n",
    "'jul': '07', 'aug': '08', 'sep': '09',\n",
    "'oct': '10', 'nov': '11', 'dec': '12'\n",
    "}"
   ]
  },
  {
   "cell_type": "code",
   "execution_count": 78,
   "id": "4dc2684b-c630-4af1-ace6-75dc7c4060c5",
   "metadata": {},
   "outputs": [
    {
     "name": "stdout",
     "output_type": "stream",
     "text": [
      "10-08-singapore.txt\n"
     ]
    }
   ],
   "source": [
    "old_file = 'oct-08_singapore.txt'\n",
    "new_file = old_file.replace('oct','10').replace('_','-')\n",
    "print(new_file)"
   ]
  },
  {
   "cell_type": "markdown",
   "id": "cc8c254e-8b85-423b-8e2f-7f08bb825403",
   "metadata": {},
   "source": [
    "# Task 2"
   ]
  },
  {
   "cell_type": "code",
   "execution_count": 79,
   "id": "2fcef720-8f96-4f6a-9720-53c8da8b5050",
   "metadata": {},
   "outputs": [],
   "source": [
    "def rename_my_file(old_file_name): \n",
    "    month_dict = {'jan': '01', 'feb': '02', 'mar': '03', 'apr': '04', 'may': '05', 'jun': '06','jul': '07', 'aug': '08', 'sep': '09',\n",
    "                  'oct': '10', 'nov': '11', 'dec': '12'}\n",
    "\n",
    "#change the mth to numeric\n",
    "    mth_only = old_file_name.split('-') #separate into 'oct', '08_singapore.txt'\n",
    "    #print(mth_only) \n",
    "    mth = mth_only[0] #mth is oct aka index 0 of list \n",
    "    #print(mth)\n",
    "    if mth in month_dict: #if oct is in the dictionary\n",
    "        numeric_mth = month_dict[mth]  #the numeric mth is the value \n",
    "        #print(numeric_mth) \n",
    "        mth_only[0] = numeric_mth #swap abbrieviated mth to be numerical \n",
    "        #print(mth_only[0])\n",
    "        updated_mth = '-'.join(mth_only)\n",
    "        #print(updated_mth)\n",
    "        updated_file = updated_mth.replace('_','-')\n",
    "        return updated_file\n",
    "    else:\n",
    "        return(old_file_name)\n",
    "\n",
    "#replace _ to -\n",
    "#    updated_file = updated_mth.replace('_','-')\n",
    "#    return updated_file"
   ]
  },
  {
   "cell_type": "code",
   "execution_count": 122,
   "id": "fa183920-4833-4418-b4cf-344434ff9d16",
   "metadata": {},
   "outputs": [
    {
     "data": {
      "text/plain": [
       "'10-18-singapore.txt'"
      ]
     },
     "execution_count": 122,
     "metadata": {},
     "output_type": "execute_result"
    }
   ],
   "source": [
    "rename_my_file(\"oct-18_singapore.txt\")\n",
    "#rename_my_file(\"abc-18_singapore.txt\")"
   ]
  },
  {
   "cell_type": "markdown",
   "id": "cb13691c-b765-4b6b-a588-20575f5ef2a0",
   "metadata": {},
   "source": [
    "# Task 3"
   ]
  },
  {
   "cell_type": "code",
   "execution_count": 81,
   "id": "eec1a639-626f-40fd-9318-f28e0cd9ef41",
   "metadata": {},
   "outputs": [
    {
     "name": "stdout",
     "output_type": "stream",
     "text": [
      "oct-08_singapore.txt---> 10-08-singapore.txt\n",
      "jul-10_cairo.txt--->     07-10-cairo.txt\n",
      "may-15_dhaka.txt--->     05-15-dhaka.txt\n",
      "may-13_cairo.txt--->     05-13-cairo.txt\n",
      "oct-21_cairo.txt--->     10-21-cairo.txt\n",
      "jan-10_singapore.txt---> 01-10-singapore.txt\n",
      "jun-20_tokyo.txt--->     06-20-tokyo.txt\n",
      "aug-06_jakarta.txt--->   08-06-jakarta.txt\n",
      "dec-21_karachi.txt--->   12-21-karachi.txt\n",
      "jan-01_tokyo.txt--->     01-01-tokyo.txt\n"
     ]
    }
   ],
   "source": [
    "date_list = ['oct-08_singapore.txt', 'jul-10_cairo.txt', 'may-15_dhaka.txt',\n",
    " 'may-13_cairo.txt', 'oct-21_cairo.txt', 'jan-10_singapore.txt',\n",
    " 'jun-20_tokyo.txt', 'aug-06_jakarta.txt', 'dec-21_karachi.txt',\n",
    " 'jan-01_tokyo.txt']\n",
    "    \n",
    "for i in date_list:\n",
    "    new_file_name = rename_my_file(i)\n",
    "    print(f'{i}--->{new_file_name:>20}')"
   ]
  },
  {
   "cell_type": "markdown",
   "id": "8fd9bdde-8584-4404-a3dc-b3906a61304d",
   "metadata": {},
   "source": [
    "# Task 4"
   ]
  },
  {
   "cell_type": "code",
   "execution_count": 82,
   "id": "593228ea-9a18-445d-be7d-39c24d144e25",
   "metadata": {},
   "outputs": [],
   "source": [
    "import shutil \n",
    "import os\n",
    "  \n",
    "filename = \"os-collaboration-exercise-data.zip\"\n",
    "shutil.unpack_archive(filename)  \n",
    "#print(\"Archive file unpacked successfully.\")  #https://www.geeksforgeeks.org/python-shutil-unpack_archive-method/"
   ]
  },
  {
   "cell_type": "code",
   "execution_count": 83,
   "id": "3f17e202-9ccc-45e0-a1e9-9f09d5b0a5cd",
   "metadata": {},
   "outputs": [],
   "source": [
    "#rename_my_file(txt_files[0])"
   ]
  },
  {
   "cell_type": "code",
   "execution_count": 87,
   "id": "971fdf4d-6982-4b4b-908a-d096abb1e785",
   "metadata": {},
   "outputs": [],
   "source": [
    "#glob.glob('*.txt', recursive=True)"
   ]
  },
  {
   "cell_type": "code",
   "execution_count": 130,
   "id": "56295372-f358-457e-987f-417262ca5747",
   "metadata": {},
   "outputs": [],
   "source": [
    "def rename_my_file(old_file_name): \n",
    "    month_dict = {'jan': '01', 'feb': '02', 'mar': '03', 'apr': '04', 'may': '05', 'jun': '06','jul': '07', 'aug': '08', 'sep': '09',\n",
    "                  'oct': '10', 'nov': '11', 'dec': '12'}\n",
    "\n",
    "    part_2 = old_file_name.split('-') #separate into 'oct', '08_singapore.txt'\n",
    "    #print(mth_only)\n",
    "    mth = part_2[0] #mth is oct aka index 0 of list \n",
    "    # mth_only = mth.split('-')[0]\n",
    "    \n",
    "    \n",
    "    if mth in month_dict.keys(): #if oct is in the dictionary\n",
    "        numeric_mth = month_dict[mth]  #the numeric mth is the value \n",
    "        #print(numeric_mth) \n",
    "        updated_file = old_file_name.replace(mth,numeric_mth)\n",
    "        updated_file = updated_file.replace('_','-')\n",
    "        return updated_file\n",
    "    else:\n",
    "        return(old_file_name)"
   ]
  },
  {
   "cell_type": "code",
   "execution_count": 137,
   "id": "0106d1a0-eae5-4aec-9223-5bdc6a295ea1",
   "metadata": {},
   "outputs": [],
   "source": [
    "glob.glob('os-collaboration-exercise-data/**/*.txt', recursive=True)\n",
    "for i in glob.glob('os-collaboration-exercise-data/**/*.txt', recursive=True):\n",
    "    filename = i.split(os.path.sep)[-1] #split i by the slash and take the last element aka date\n",
    "    updated_file = rename_my_file(filename)\n",
    "    \n",
    "    os.rename(i, os.path.join('os-collaboration-exercise-data',updated_file))"
   ]
  },
  {
   "cell_type": "code",
   "execution_count": 138,
   "id": "cb5e27e0-3c69-4f1d-9972-a3e5d1bd49c9",
   "metadata": {},
   "outputs": [],
   "source": [
    "#os.path.join('os-collaboration-exercise-data',updated_file)\n",
    "\n"
   ]
  },
  {
   "cell_type": "code",
   "execution_count": 133,
   "id": "1d6f8fae-23f4-4fd4-be95-05e2e85e5afd",
   "metadata": {},
   "outputs": [
    {
     "data": {
      "text/plain": [
       "'os-collaboration-exercise-data/07-28-dhaka.txt'"
      ]
     },
     "execution_count": 133,
     "metadata": {},
     "output_type": "execute_result"
    }
   ],
   "source": [
    "#glob.glob('os-collaboration-exercise-data/**/*.txt', recursive=True)[0]"
   ]
  },
  {
   "cell_type": "markdown",
   "id": "1a6f6868-efea-4e7e-bb43-b65e581e916e",
   "metadata": {},
   "source": [
    "# Task 5"
   ]
  },
  {
   "cell_type": "code",
   "execution_count": 134,
   "id": "28f6d14c-9bba-4ef8-a838-b383a68712b7",
   "metadata": {},
   "outputs": [
    {
     "ename": "FileExistsError",
     "evalue": "[Errno 17] File exists: 'Cairo'",
     "output_type": "error",
     "traceback": [
      "\u001b[0;31m---------------------------------------------------------------------------\u001b[0m",
      "\u001b[0;31mFileExistsError\u001b[0m                           Traceback (most recent call last)",
      "Cell \u001b[0;32mIn[134], line 9\u001b[0m\n\u001b[1;32m      5\u001b[0m cities_list \u001b[38;5;241m=\u001b[39m [\u001b[38;5;124m'\u001b[39m\u001b[38;5;124mCairo\u001b[39m\u001b[38;5;124m'\u001b[39m, \u001b[38;5;124m'\u001b[39m\u001b[38;5;124mDhaka\u001b[39m\u001b[38;5;124m'\u001b[39m, \u001b[38;5;124m'\u001b[39m\u001b[38;5;124mJakarta\u001b[39m\u001b[38;5;124m'\u001b[39m, \u001b[38;5;124m'\u001b[39m\u001b[38;5;124mKarachi\u001b[39m\u001b[38;5;124m'\u001b[39m, \u001b[38;5;124m'\u001b[39m\u001b[38;5;124mManila\u001b[39m\u001b[38;5;124m'\u001b[39m,\n\u001b[1;32m      6\u001b[0m  \u001b[38;5;124m'\u001b[39m\u001b[38;5;124mMelbourne\u001b[39m\u001b[38;5;124m'\u001b[39m, \u001b[38;5;124m'\u001b[39m\u001b[38;5;124mOsaka\u001b[39m\u001b[38;5;124m'\u001b[39m, \u001b[38;5;124m'\u001b[39m\u001b[38;5;124mShanghai\u001b[39m\u001b[38;5;124m'\u001b[39m, \u001b[38;5;124m'\u001b[39m\u001b[38;5;124mSingapore\u001b[39m\u001b[38;5;124m'\u001b[39m, \u001b[38;5;124m'\u001b[39m\u001b[38;5;124mTokyo\u001b[39m\u001b[38;5;124m'\u001b[39m]\n\u001b[1;32m      8\u001b[0m \u001b[38;5;28;01mfor\u001b[39;00m city \u001b[38;5;129;01min\u001b[39;00m cities_list: \n\u001b[0;32m----> 9\u001b[0m     \u001b[43mos\u001b[49m\u001b[38;5;241;43m.\u001b[39;49m\u001b[43mmkdir\u001b[49m\u001b[43m(\u001b[49m\u001b[43mcity\u001b[49m\u001b[43m)\u001b[49m \u001b[38;5;66;03m#loop thru city, make a directory each city from index 0 to -1 \u001b[39;00m\n\u001b[1;32m     10\u001b[0m     \u001b[38;5;28mprint\u001b[39m(\u001b[38;5;124mf\u001b[39m\u001b[38;5;124m'\u001b[39m\u001b[38;5;124mCreating \u001b[39m\u001b[38;5;132;01m{\u001b[39;00mpath\u001b[38;5;132;01m}\u001b[39;00m\u001b[38;5;124m'\u001b[39m)\n",
      "\u001b[0;31mFileExistsError\u001b[0m: [Errno 17] File exists: 'Cairo'"
     ]
    }
   ],
   "source": [
    "import glob\n",
    "import os\n",
    "glob.glob('os-collab*/**/*cairo.*',recursive=True)\n",
    "\n",
    "cities_list = ['Cairo', 'Dhaka', 'Jakarta', 'Karachi', 'Manila',\n",
    " 'Melbourne', 'Osaka', 'Shanghai', 'Singapore', 'Tokyo']\n",
    "\n",
    "for city in cities_list: \n",
    "    os.mkdir(city) #loop thru city, make a directory each city from index 0 to -1 \n",
    "    print(f'Creating {path}')"
   ]
  },
  {
   "cell_type": "markdown",
   "id": "cd96c488-54a6-4f0a-bc3f-32a8ad8ee786",
   "metadata": {},
   "source": [
    "# Task 6"
   ]
  },
  {
   "cell_type": "code",
   "execution_count": 135,
   "id": "6fbad548-03a5-419c-b34a-e61a287b600e",
   "metadata": {},
   "outputs": [],
   "source": [
    "import glob\n",
    "import shutil\n",
    "\n",
    "for files in glob.glob('os-collab*/*cairo.*',recursive=True):\n",
    "    #print(files)\n",
    "    shutil.copy(files, 'Cairo')\n",
    "    #print(f'Copying {files} files to Cairo')"
   ]
  },
  {
   "cell_type": "markdown",
   "id": "e0360312-0635-4bc0-810e-91d97cb8ec7b",
   "metadata": {},
   "source": [
    "# Task 7"
   ]
  },
  {
   "cell_type": "code",
   "execution_count": 136,
   "id": "b2358748-6acb-448c-a300-6a1997528699",
   "metadata": {},
   "outputs": [
    {
     "name": "stdout",
     "output_type": "stream",
     "text": [
      "Error moving os-collaboration-exercise-data/09-18-cairo.txt to cairo\n",
      "Error moving os-collaboration-exercise-data/sep-23_cairo.pdf to cairo\n",
      "Error moving os-collaboration-exercise-data/04-06-cairo.txt to cairo\n",
      "Error moving os-collaboration-exercise-data/03-06-cairo.txt to cairo\n",
      "Error moving os-collaboration-exercise-data/01-03-cairo.txt to cairo\n",
      "Error moving os-collaboration-exercise-data/03-12-cairo.txt to cairo\n",
      "Error moving os-collaboration-exercise-data/jan-12_cairo.pdf to cairo\n",
      "Error moving os-collaboration-exercise-data/04-12-cairo.txt to cairo\n",
      "Error moving os-collaboration-exercise-data/mar-05_cairo.pdf to cairo\n",
      "Error moving os-collaboration-exercise-data/may-25_cairo.png to cairo\n",
      "Error moving os-collaboration-exercise-data/jul-27_cairo.png to cairo\n",
      "Error moving os-collaboration-exercise-data/dec-07_cairo.jpg to cairo\n",
      "Error moving os-collaboration-exercise-data/mar-24_cairo.pdf to cairo\n",
      "Error moving os-collaboration-exercise-data/12-05-cairo.txt to cairo\n",
      "Error moving os-collaboration-exercise-data/07-30-cairo.txt to cairo\n",
      "Error moving os-collaboration-exercise-data/07-24-cairo.txt to cairo\n",
      "Error moving os-collaboration-exercise-data/07-08-cairo.txt to cairo\n",
      "Error moving os-collaboration-exercise-data/sep-16_cairo.png to cairo\n",
      "Error moving os-collaboration-exercise-data/jan-27_cairo.jpg to cairo\n",
      "Error moving os-collaboration-exercise-data/sep-02_cairo.png to cairo\n",
      "Error moving os-collaboration-exercise-data/dec-13_cairo.pdf to cairo\n",
      "Error moving os-collaboration-exercise-data/nov-14_cairo.pdf to cairo\n",
      "Error moving os-collaboration-exercise-data/12-29-cairo.txt to cairo\n",
      "Error moving os-collaboration-exercise-data/08-07-cairo.txt to cairo\n",
      "Error moving os-collaboration-exercise-data/09-20-cairo.txt to cairo\n",
      "Error moving os-collaboration-exercise-data/08-26-cairo.txt to cairo\n",
      "Error moving os-collaboration-exercise-data/aug-12_cairo.jpg to cairo\n",
      "Error moving os-collaboration-exercise-data/07-29-cairo.txt to cairo\n",
      "Error moving os-collaboration-exercise-data/apr-10_cairo.png to cairo\n",
      "Error moving os-collaboration-exercise-data/dec-26_cairo.pdf to cairo\n",
      "Error moving os-collaboration-exercise-data/nov-19_cairo.jpg to cairo\n",
      "Error moving os-collaboration-exercise-data/nov-21_cairo.pdf to cairo\n",
      "Error moving os-collaboration-exercise-data/mar-05_cairo.png to cairo\n",
      "Error moving os-collaboration-exercise-data/sep-28_cairo.jpg to cairo\n",
      "Error moving os-collaboration-exercise-data/may-02_cairo.png to cairo\n",
      "Error moving os-collaboration-exercise-data/12-03-cairo.txt to cairo\n",
      "Error moving os-collaboration-exercise-data/01-30-cairo.txt to cairo\n",
      "Error moving os-collaboration-exercise-data/sep-28_cairo.png to cairo\n",
      "Error moving os-collaboration-exercise-data/dec-01_cairo.jpg to cairo\n",
      "Error moving os-collaboration-exercise-data/jul-14_cairo.jpg to cairo\n",
      "Error moving os-collaboration-exercise-data/12-17-cairo.txt to cairo\n",
      "Error moving os-collaboration-exercise-data/05-27-cairo.txt to cairo\n",
      "Error moving os-collaboration-exercise-data/11-14-cairo.txt to cairo\n",
      "Error moving os-collaboration-exercise-data/aug-19_cairo.jpg to cairo\n",
      "Error moving os-collaboration-exercise-data/04-21-cairo.txt to cairo\n",
      "Error moving os-collaboration-exercise-data/sep-04_cairo.pdf to cairo\n",
      "Error moving os-collaboration-exercise-data/01-05-cairo.txt to cairo\n",
      "Error moving os-collaboration-exercise-data/sep-25_cairo.pdf to cairo\n",
      "Error moving os-collaboration-exercise-data/08-18-cairo.txt to cairo\n",
      "Error moving os-collaboration-exercise-data/04-14-cairo.txt to cairo\n",
      "Error moving os-collaboration-exercise-data/11-21-cairo.txt to cairo\n",
      "Error moving os-collaboration-exercise-data/12-22-cairo.txt to cairo\n",
      "Error moving os-collaboration-exercise-data/07-17-cairo.txt to cairo\n",
      "Error moving os-collaboration-exercise-data/05-12-cairo.txt to cairo\n",
      "Error moving os-collaboration-exercise-data/03-14-cairo.txt to cairo\n",
      "Error moving os-collaboration-exercise-data/01-11-cairo.txt to cairo\n",
      "Error moving os-collaboration-exercise-data/09-26-cairo.txt to cairo\n",
      "Error moving os-collaboration-exercise-data/apr-02_cairo.jpg to cairo\n",
      "Error moving os-collaboration-exercise-data/08-20-cairo.txt to cairo\n",
      "Error moving os-collaboration-exercise-data/sep-25_cairo.jpg to cairo\n",
      "Error moving os-collaboration-exercise-data/jul-19_cairo.jpg to cairo\n",
      "Error moving os-collaboration-exercise-data/aug-14_cairo.png to cairo\n",
      "Error moving os-collaboration-exercise-data/dec-18_cairo.jpg to cairo\n",
      "Error moving os-collaboration-exercise-data/11-19-cairo.txt to cairo\n",
      "Error moving os-collaboration-exercise-data/aug-14_cairo.jpg to cairo\n",
      "Error moving os-collaboration-exercise-data/01-08-cairo.txt to cairo\n",
      "Error moving os-collaboration-exercise-data/sep-28_cairo.pdf to cairo\n",
      "Error moving os-collaboration-exercise-data/09-13-cairo.txt to cairo\n",
      "Error moving os-collaboration-exercise-data/09-07-cairo.txt to cairo\n",
      "Error moving os-collaboration-exercise-data/apr-23_cairo.jpg to cairo\n",
      "Error moving os-collaboration-exercise-data/08-01-cairo.txt to cairo\n",
      "Error moving os-collaboration-exercise-data/jan-21_cairo.jpg to cairo\n",
      "Error moving os-collaboration-exercise-data/jan-19_cairo.pdf to cairo\n",
      "Error moving os-collaboration-exercise-data/03-19-cairo.txt to cairo\n",
      "Error moving os-collaboration-exercise-data/01-16-cairo.txt to cairo\n",
      "Error moving os-collaboration-exercise-data/04-13-cairo.txt to cairo\n",
      "Error moving os-collaboration-exercise-data/dec-27_cairo.png to cairo\n",
      "Error moving os-collaboration-exercise-data/jul-26_cairo.png to cairo\n",
      "Error moving os-collaboration-exercise-data/07-10-cairo.txt to cairo\n",
      "Error moving os-collaboration-exercise-data/07-04-cairo.txt to cairo\n",
      "Error moving os-collaboration-exercise-data/05-01-cairo.txt to cairo\n",
      "Error moving os-collaboration-exercise-data/may-30_cairo.png to cairo\n",
      "Error moving os-collaboration-exercise-data/sep-22_cairo.pdf to cairo\n",
      "Error moving os-collaboration-exercise-data/04-07-cairo.txt to cairo\n",
      "Error moving os-collaboration-exercise-data/may-30_cairo.jpg to cairo\n",
      "Error moving os-collaboration-exercise-data/01-02-cairo.txt to cairo\n",
      "Error moving os-collaboration-exercise-data/12-10-cairo.txt to cairo\n",
      "Error moving os-collaboration-exercise-data/jul-13_cairo.png to cairo\n",
      "Error moving os-collaboration-exercise-data/02-20-cairo.txt to cairo\n",
      "Error moving os-collaboration-exercise-data/01-23-cairo.txt to cairo\n",
      "Error moving os-collaboration-exercise-data/may-29_cairo.pdf to cairo\n",
      "Error moving os-collaboration-exercise-data/12-04-cairo.txt to cairo\n",
      "Error moving os-collaboration-exercise-data/aug-26_cairo.png to cairo\n",
      "Error moving os-collaboration-exercise-data/apr-24_cairo.jpg to cairo\n",
      "Error moving os-collaboration-exercise-data/08-12-cairo.txt to cairo\n",
      "Error moving os-collaboration-exercise-data/jan-13_cairo.png to cairo\n",
      "Error moving os-collaboration-exercise-data/feb-26_cairo.png to cairo\n",
      "Error moving os-collaboration-exercise-data/aug-07_cairo.png to cairo\n",
      "Error moving os-collaboration-exercise-data/jan-07_cairo.jpg to cairo\n",
      "Error moving os-collaboration-exercise-data/12-09-cairo.txt to cairo\n",
      "Error moving os-collaboration-exercise-data/jan-20_cairo.pdf to cairo\n",
      "Error moving os-collaboration-exercise-data/02-26-cairo.txt to cairo\n",
      "Error moving os-collaboration-exercise-data/jun-28_cairo.pdf to cairo\n",
      "Error moving os-collaboration-exercise-data/apr-22_cairo.pdf to cairo\n",
      "Error moving os-collaboration-exercise-data/may-17_cairo.png to cairo\n",
      "Error moving os-collaboration-exercise-data/04-20-cairo.txt to cairo\n",
      "Error moving os-collaboration-exercise-data/aug-18_cairo.jpg to cairo\n",
      "Error moving os-collaboration-exercise-data/sep-05_cairo.pdf to cairo\n",
      "Error moving os-collaboration-exercise-data/dec-21_cairo.png to cairo\n",
      "Error moving os-collaboration-exercise-data/04-15-cairo.txt to cairo\n",
      "Error moving os-collaboration-exercise-data/07-16-cairo.txt to cairo\n",
      "Error moving os-collaboration-exercise-data/12-23-cairo.txt to cairo\n",
      "Error moving os-collaboration-exercise-data/apr-17_cairo.pdf to cairo\n",
      "Error moving os-collaboration-exercise-data/dec-19_cairo.pdf to cairo\n",
      "Error moving os-collaboration-exercise-data/01-04-cairo.txt to cairo\n",
      "Error moving os-collaboration-exercise-data/sep-24_cairo.pdf to cairo\n",
      "Error moving os-collaboration-exercise-data/08-19-cairo.txt to cairo\n",
      "Error moving os-collaboration-exercise-data/apr-17_cairo.png to cairo\n",
      "Error moving os-collaboration-exercise-data/feb-20_cairo.png to cairo\n",
      "Error moving os-collaboration-exercise-data/jan-15_cairo.jpg to cairo\n",
      "Error moving os-collaboration-exercise-data/sep-08_cairo.pdf to cairo\n",
      "Error moving os-collaboration-exercise-data/06-28-cairo.txt to cairo\n",
      "Error moving os-collaboration-exercise-data/jan-15_cairo.png to cairo\n",
      "Error moving os-collaboration-exercise-data/apr-17_cairo.jpg to cairo\n",
      "Error moving os-collaboration-exercise-data/aug-01_cairo.jpg to cairo\n",
      "Error moving os-collaboration-exercise-data/aug-01_cairo.png to cairo\n",
      "Error moving os-collaboration-exercise-data/aug-20_cairo.png to cairo\n",
      "Error moving os-collaboration-exercise-data/jul-15_cairo.pdf to cairo\n",
      "Error moving os-collaboration-exercise-data/01-09-cairo.txt to cairo\n",
      "Error moving os-collaboration-exercise-data/sep-11_cairo.png to cairo\n",
      "Error moving os-collaboration-exercise-data/08-14-cairo.txt to cairo\n",
      "Error moving os-collaboration-exercise-data/09-12-cairo.txt to cairo\n",
      "Error moving os-collaboration-exercise-data/jan-09_cairo.jpg to cairo\n",
      "Error moving os-collaboration-exercise-data/jul-04_cairo.jpg to cairo\n",
      "Error moving os-collaboration-exercise-data/12-07-cairo.txt to cairo\n",
      "Error moving os-collaboration-exercise-data/dec-05_cairo.png to cairo\n",
      "Error moving os-collaboration-exercise-data/11-04-cairo.txt to cairo\n",
      "Error moving os-collaboration-exercise-data/11-10-cairo.txt to cairo\n",
      "Error moving os-collaboration-exercise-data/feb-10_cairo.pdf to cairo\n",
      "Error moving os-collaboration-exercise-data/jul-10_cairo.png to cairo\n",
      "Error moving os-collaboration-exercise-data/may-12_cairo.png to cairo\n",
      "Error moving os-collaboration-exercise-data/12-13-cairo.txt to cairo\n",
      "Error moving os-collaboration-exercise-data/07-26-cairo.txt to cairo\n",
      "Error moving os-collaboration-exercise-data/01-20-cairo.txt to cairo\n",
      "Error moving os-collaboration-exercise-data/aug-04_cairo.pdf to cairo\n",
      "Error moving os-collaboration-exercise-data/05-02-cairo.txt to cairo\n",
      "Error moving os-collaboration-exercise-data/01-15-cairo.txt to cairo\n",
      "Error moving os-collaboration-exercise-data/07-13-cairo.txt to cairo\n",
      "Error moving os-collaboration-exercise-data/12-26-cairo.txt to cairo\n",
      "Error moving os-collaboration-exercise-data/10-23-cairo.txt to cairo\n",
      "Error moving os-collaboration-exercise-data/apr-12_cairo.pdf to cairo\n",
      "Error moving os-collaboration-exercise-data/feb-25_cairo.pdf to cairo\n",
      "Error moving os-collaboration-exercise-data/08-08-cairo.txt to cairo\n",
      "Error moving os-collaboration-exercise-data/04-10-cairo.txt to cairo\n",
      "Error moving os-collaboration-exercise-data/apr-06_cairo.png to cairo\n",
      "Error moving os-collaboration-exercise-data/jan-04_cairo.jpg to cairo\n",
      "Error moving os-collaboration-exercise-data/08-24-cairo.txt to cairo\n",
      "Error moving os-collaboration-exercise-data/aug-04_cairo.jpg to cairo\n",
      "Error moving os-collaboration-exercise-data/09-22-cairo.txt to cairo\n",
      "Error moving os-collaboration-exercise-data/feb-25_cairo.jpg to cairo\n",
      "Error moving os-collaboration-exercise-data/aug-10_cairo.png to cairo\n",
      "Error moving os-collaboration-exercise-data/may-27_cairo.pdf to cairo\n",
      "Error moving os-collaboration-exercise-data/apr-12_cairo.png to cairo\n",
      "Error moving os-collaboration-exercise-data/aug-25_cairo.png to cairo\n",
      "Error moving os-collaboration-exercise-data/dec-29_cairo.jpg to cairo\n",
      "Error moving os-collaboration-exercise-data/08-05-cairo.txt to cairo\n",
      "Error moving os-collaboration-exercise-data/dec-29_cairo.png to cairo\n",
      "Error moving os-collaboration-exercise-data/feb-10_cairo.jpg to cairo\n",
      "Error moving os-collaboration-exercise-data/01-07-cairo.txt to cairo\n",
      "Error moving os-collaboration-exercise-data/jan-02_cairo.pdf to cairo\n",
      "Error moving os-collaboration-exercise-data/04-02-cairo.txt to cairo\n",
      "Error moving os-collaboration-exercise-data/09-08-cairo.txt to cairo\n",
      "Error moving os-collaboration-exercise-data/07-15-cairo.txt to cairo\n",
      "Error moving os-collaboration-exercise-data/dec-22_cairo.jpg to cairo\n",
      "Error moving os-collaboration-exercise-data/02-10-cairo.txt to cairo\n",
      "Error moving os-collaboration-exercise-data/01-13-cairo.txt to cairo\n",
      "Error moving os-collaboration-exercise-data/12-01-cairo.txt to cairo\n",
      "Error moving os-collaboration-exercise-data/dec-03_cairo.png to cairo\n",
      "Error moving os-collaboration-exercise-data/dec-03_cairo.jpg to cairo\n",
      "Error moving os-collaboration-exercise-data/02-25-cairo.txt to cairo\n",
      "Error moving os-collaboration-exercise-data/dec-17_cairo.png to cairo\n",
      "Error moving os-collaboration-exercise-data/04-23-cairo.txt to cairo\n",
      "Error moving os-collaboration-exercise-data/05-25-cairo.txt to cairo\n",
      "Error moving os-collaboration-exercise-data/apr-21_cairo.pdf to cairo\n",
      "Error moving os-collaboration-exercise-data/jul-16_cairo.png to cairo\n",
      "Error moving os-collaboration-exercise-data/sep-12_cairo.png to cairo\n",
      "Error moving os-collaboration-exercise-data/nov-04_cairo.pdf to cairo\n",
      "Error moving os-collaboration-exercise-data/09-11-cairo.txt to cairo\n",
      "Error moving os-collaboration-exercise-data/08-03-cairo.txt to cairo\n",
      "Error moving os-collaboration-exercise-data/jan-23_cairo.png to cairo\n",
      "Error moving os-collaboration-exercise-data/09-05-cairo.txt to cairo\n",
      "Error moving os-collaboration-exercise-data/nov-10_cairo.pdf to cairo\n",
      "Error moving os-collaboration-exercise-data/09-24-cairo.txt to cairo\n",
      "Error moving os-collaboration-exercise-data/apr-14_cairo.png to cairo\n",
      "Error moving os-collaboration-exercise-data/apr-14_cairo.jpg to cairo\n",
      "Error moving os-collaboration-exercise-data/12-18-cairo.txt to cairo\n",
      "Error moving os-collaboration-exercise-data/jan-16_cairo.png to cairo\n",
      "Error moving os-collaboration-exercise-data/04-24-cairo.txt to cairo\n",
      "Error moving os-collaboration-exercise-data/aug-24_cairo.pdf to cairo\n",
      "Error moving os-collaboration-exercise-data/07-27-cairo.txt to cairo\n",
      "Error moving os-collaboration-exercise-data/03-24-cairo.txt to cairo\n",
      "Error moving os-collaboration-exercise-data/01-21-cairo.txt to cairo\n",
      "Error moving os-collaboration-exercise-data/dec-10_cairo.jpg to cairo\n",
      "Error moving os-collaboration-exercise-data/02-22-cairo.txt to cairo\n",
      "Error moving os-collaboration-exercise-data/jan-30_cairo.pdf to cairo\n",
      "Error moving os-collaboration-exercise-data/dec-04_cairo.jpg to cairo\n",
      "Error moving os-collaboration-exercise-data/11-05-cairo.txt to cairo\n",
      "Error moving os-collaboration-exercise-data/aug-08_cairo.jpg to cairo\n",
      "Error moving os-collaboration-exercise-data/jan-08_cairo.png to cairo\n",
      "Error moving os-collaboration-exercise-data/dec-04_cairo.png to cairo\n",
      "Error moving os-collaboration-exercise-data/nov-03_cairo.png to cairo\n",
      "Error moving os-collaboration-exercise-data/02-17-cairo.txt to cairo\n",
      "Error moving os-collaboration-exercise-data/12-27-cairo.txt to cairo\n",
      "Error moving os-collaboration-exercise-data/05-17-cairo.txt to cairo\n",
      "Error moving os-collaboration-exercise-data/mar-06_cairo.pdf to cairo\n",
      "Error moving os-collaboration-exercise-data/aug-05_cairo.pdf to cairo\n",
      "Error moving os-collaboration-exercise-data/jul-30_cairo.png to cairo\n",
      "Error moving os-collaboration-exercise-data/03-05-cairo.txt to cairo\n",
      "Error moving os-collaboration-exercise-data/jan-11_cairo.png to cairo\n",
      "Error moving os-collaboration-exercise-data/jul-24_cairo.pdf to cairo\n",
      "Error moving os-collaboration-exercise-data/apr-13_cairo.png to cairo\n",
      "Error moving os-collaboration-exercise-data/apr-07_cairo.png to cairo\n",
      "Error moving os-collaboration-exercise-data/jan-05_cairo.jpg to cairo\n",
      "Error moving os-collaboration-exercise-data/dec-09_cairo.png to cairo\n",
      "Error moving os-collaboration-exercise-data/08-25-cairo.txt to cairo\n",
      "Error moving os-collaboration-exercise-data/sep-20_cairo.jpg to cairo\n",
      "Error moving os-collaboration-exercise-data/mar-12_cairo.jpg to cairo\n",
      "Error moving os-collaboration-exercise-data/sep-18_cairo.pdf to cairo\n",
      "Error moving os-collaboration-exercise-data/09-23-cairo.txt to cairo\n",
      "Error moving os-collaboration-exercise-data/jul-08_cairo.png to cairo\n",
      "Error moving os-collaboration-exercise-data/01-19-cairo.txt to cairo\n",
      "Error moving os-collaboration-exercise-data/jul-29_cairo.jpg to cairo\n",
      "Error moving os-collaboration-exercise-data/dec-10_cairo.pdf to cairo\n",
      "Error moving os-collaboration-exercise-data/nov-17_cairo.pdf to cairo\n",
      "Error moving os-collaboration-exercise-data/11-29-cairo.txt to cairo\n",
      "Error moving os-collaboration-exercise-data/08-04-cairo.txt to cairo\n",
      "Error moving os-collaboration-exercise-data/09-02-cairo.txt to cairo\n",
      "Error moving os-collaboration-exercise-data/09-16-cairo.txt to cairo\n",
      "Error moving os-collaboration-exercise-data/08-10-cairo.txt to cairo\n",
      "Error moving os-collaboration-exercise-data/dec-04_cairo.pdf to cairo\n",
      "Error moving os-collaboration-exercise-data/07-14-cairo.txt to cairo\n",
      "Error moving os-collaboration-exercise-data/12-21-cairo.txt to cairo\n",
      "Error moving os-collaboration-exercise-data/feb-22_cairo.pdf to cairo\n",
      "Error moving os-collaboration-exercise-data/04-17-cairo.txt to cairo\n",
      "Error moving os-collaboration-exercise-data/01-12-cairo.txt to cairo\n",
      "Error moving os-collaboration-exercise-data/jan-03_cairo.pdf to cairo\n",
      "Error moving os-collaboration-exercise-data/sep-26_cairo.pdf to cairo\n",
      "Error moving os-collaboration-exercise-data/mar-14_cairo.pdf to cairo\n",
      "Error moving os-collaboration-exercise-data/01-27-cairo.txt to cairo\n",
      "Error moving os-collaboration-exercise-data/nov-29_cairo.pdf to cairo\n",
      "Error moving os-collaboration-exercise-data/04-22-cairo.txt to cairo\n",
      "Error moving os-collaboration-exercise-data/11-17-cairo.txt to cairo\n",
      "Error moving os-collaboration-exercise-data/09-28-cairo.txt to cairo\n",
      "Error moving os-collaboration-exercise-data/05-30-cairo.txt to cairo\n",
      "Error moving os-collaboration-exercise-data/may-01_cairo.png to cairo\n",
      "Error moving os-collaboration-exercise-data/nov-05_cairo.png to cairo\n",
      "Error moving os-collaboration-exercise-data/mar-19_cairo.jpg to cairo\n",
      "Error moving os-collaboration-exercise-data/11-03-cairo.txt to cairo\n",
      "Error moving os-collaboration-exercise-data/nov-05_cairo.jpg to cairo\n",
      "Error moving os-collaboration-exercise-data/sep-07_cairo.jpg to cairo\n",
      "Error moving os-collaboration-exercise-data/feb-17_cairo.jpg to cairo\n",
      "Error moving os-collaboration-exercise-data/apr-20_cairo.jpg to cairo\n",
      "Error moving os-collaboration-exercise-data/07-19-cairo.txt to cairo\n",
      "Error moving os-collaboration-exercise-data/09-04-cairo.txt to cairo\n",
      "Error moving os-collaboration-exercise-data/jul-17_cairo.pdf to cairo\n",
      "Error moving os-collaboration-exercise-data/sep-13_cairo.png to cairo\n",
      "Error moving os-collaboration-exercise-data/sep-13_cairo.jpg to cairo\n",
      "Error moving os-collaboration-exercise-data/dec-23_cairo.pdf to cairo\n",
      "Error moving os-collaboration-exercise-data/feb-22_cairo.png to cairo\n",
      "Error moving os-collaboration-exercise-data/12-19-cairo.txt to cairo\n",
      "Error moving os-collaboration-exercise-data/05-29-cairo.txt to cairo\n",
      "Error moving os-collaboration-exercise-data/apr-15_cairo.jpg to cairo\n",
      "Error moving os-collaboration-exercise-data/oct-23_cairo.jpg to cairo\n",
      "Error moving os-collaboration-exercise-data/09-25-cairo.txt to cairo\n",
      "Error moving os-collaboration-exercise-data/aug-03_cairo.png to cairo\n"
     ]
    }
   ],
   "source": [
    "cities_list = ['cairo', 'dhaka', 'jakarta', 'karachi', 'manila',\n",
    " 'melbourne', 'osaka', 'shanghai', 'singapore', 'tokyo']\n",
    "\n",
    "for city in cities_list:\n",
    "    path = city\n",
    "    \n",
    "    #city_folder = os.path.join(path,city)\n",
    "    #os.makedirs(city_folder, exist_ok=True)\n",
    "    for files in glob.glob(f'os-collab**/*{city}.*',recursive=True):\n",
    "        try:\n",
    "            shutil.move(files,path) #dest = shutil.move(source, destination) \n",
    "            #print(f'moved:{files} to {city}')\n",
    "        except Exception as error_message:\n",
    "            print(f'Error moving {files} to {city}')"
   ]
  },
  {
   "cell_type": "code",
   "execution_count": 30,
   "id": "192514b5-7863-4be7-9200-1cbe4762477b",
   "metadata": {},
   "outputs": [
    {
     "name": "stdout",
     "output_type": "stream",
     "text": [
      "/Users/weiji/Desktop/Y4S2/SP2273/learning-portfolio-2025-january-tayweijie753/6.2_files,_folders_&_os__exercises\n",
      "\n",
      "6.2_files,_folders_&_os__exercises/tokyo\n"
     ]
    }
   ],
   "source": [
    "print(os.getcwd())\n",
    "print()\n",
    "print(city_folder)"
   ]
  },
  {
   "cell_type": "code",
   "execution_count": null,
   "id": "e5d48fe7-7615-4424-a5ae-a074cc53938b",
   "metadata": {},
   "outputs": [],
   "source": []
  }
 ],
 "metadata": {
  "kernelspec": {
   "display_name": "Python 3 (ipykernel)",
   "language": "python",
   "name": "python3"
  },
  "language_info": {
   "codemirror_mode": {
    "name": "ipython",
    "version": 3
   },
   "file_extension": ".py",
   "mimetype": "text/x-python",
   "name": "python",
   "nbconvert_exporter": "python",
   "pygments_lexer": "ipython3",
   "version": "3.12.2"
  },
  "toc": {
   "base_numbering": 1,
   "nav_menu": {},
   "number_sections": true,
   "sideBar": true,
   "skip_h1_title": false,
   "title_cell": "Table of Contents",
   "title_sidebar": "Contents",
   "toc_cell": false,
   "toc_position": {},
   "toc_section_display": true,
   "toc_window_display": false
  },
  "vscode": {
   "interpreter": {
    "hash": "31f2aee4e71d21fbe5cf8b01ff0e069b9275f58929596ceb00d14d90e3e16cd6"
   }
  }
 },
 "nbformat": 4,
 "nbformat_minor": 5
}
