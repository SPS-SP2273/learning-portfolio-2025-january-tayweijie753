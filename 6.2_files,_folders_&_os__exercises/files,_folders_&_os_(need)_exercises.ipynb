{
 "cells": [
  {
   "attachments": {},
   "cell_type": "markdown",
   "id": "123456",
   "metadata": {},
   "source": [
    "<div style=\"text-align:left;font-size:2em\"><span style=\"font-weight:bolder;font-size:1.25em\">SP2273 | Learning Portfolio</span><br><br><span style=\"font-weight:bold;color:darkred\">Files, Folders & OS (Need) Exercises</span></div>"
   ]
  },
  {
   "cell_type": "markdown",
   "id": "38262ee1-0278-4b89-84b7-d5ad4086b646",
   "metadata": {},
   "source": [
    "# Task 1 "
   ]
  },
  {
   "cell_type": "code",
   "execution_count": 41,
   "id": "fa8cd96f-e14b-40c9-93e3-263fc8d2f6ff",
   "metadata": {},
   "outputs": [],
   "source": [
    "#We like to convert the filename to a more useful numerical format. Specifically, we want to convert month-date-city.txt. (i.e. may-10-singapore.txt) to a mm-dd-city.txt (i.e. 05-10-singapore.txt) format.\n",
    "#Using the following dictionary (or otherwise), write a snippet of Python code to convert 'oct-08_singapore.txt' to 10-08-singapore.txt."
   ]
  },
  {
   "cell_type": "code",
   "execution_count": 42,
   "id": "ea50238e-135f-42b1-a3ad-a5129b74bbbd",
   "metadata": {},
   "outputs": [],
   "source": [
    "import glob #allows u to search \n",
    "import os\n",
    "import shutil"
   ]
  },
  {
   "cell_type": "code",
   "execution_count": 43,
   "id": "f47857e0-a97e-4cbe-8e5a-89837b2353bc",
   "metadata": {},
   "outputs": [],
   "source": [
    "import os\n",
    "month_dict = {\n",
    "'jan': '01', 'feb': '02', 'mar': '03',\n",
    "'apr': '04', 'may': '05', 'jun': '06',\n",
    "'jul': '07', 'aug': '08', 'sep': '09',\n",
    "'oct': '10', 'nov': '11', 'dec': '12'\n",
    "}"
   ]
  },
  {
   "cell_type": "code",
   "execution_count": 44,
   "id": "4dc2684b-c630-4af1-ace6-75dc7c4060c5",
   "metadata": {},
   "outputs": [
    {
     "name": "stdout",
     "output_type": "stream",
     "text": [
      "10-08-singapore.txt\n"
     ]
    }
   ],
   "source": [
    "old_file = 'oct-08_singapore.txt'\n",
    "new_file = old_file.replace('oct','10').replace('_','-')\n",
    "print(new_file)"
   ]
  },
  {
   "cell_type": "markdown",
   "id": "cc8c254e-8b85-423b-8e2f-7f08bb825403",
   "metadata": {},
   "source": [
    "# Task 2"
   ]
  },
  {
   "cell_type": "code",
   "execution_count": 79,
   "id": "2fcef720-8f96-4f6a-9720-53c8da8b5050",
   "metadata": {},
   "outputs": [],
   "source": [
    "def rename_my_file(old_file_name): \n",
    "    month_dict = {'jan': '01', 'feb': '02', 'mar': '03', 'apr': '04', 'may': '05', 'jun': '06','jul': '07', 'aug': '08', 'sep': '09',\n",
    "                  'oct': '10', 'nov': '11', 'dec': '12'}\n",
    "\n",
    "#change the mth to numeric\n",
    "    mth_only = old_file_name.split('-') #separate into 'oct', '08_singapore.txt'\n",
    "    #print(mth_only) \n",
    "    mth = mth_only[0] #mth is oct aka index 0 of list \n",
    "    #print(mth)\n",
    "    if mth in month_dict: #if oct is in the dictionary\n",
    "        numeric_mth = month_dict[mth]  #the numeric mth is the value \n",
    "        #print(numeric_mth) \n",
    "        mth_only[0] = numeric_mth #swap abbrieviated mth to be numerical \n",
    "        #print(mth_only[0])\n",
    "        updated_mth = '-'.join(mth_only)\n",
    "        #print(updated_mth)\n",
    "\n",
    "#replace _ to -\n",
    "    updated_file = updated_mth.replace('_','-')\n",
    "    return updated_file"
   ]
  },
  {
   "cell_type": "code",
   "execution_count": 80,
   "id": "fa183920-4833-4418-b4cf-344434ff9d16",
   "metadata": {},
   "outputs": [
    {
     "data": {
      "text/plain": [
       "'01-18-singapore.txt'"
      ]
     },
     "execution_count": 80,
     "metadata": {},
     "output_type": "execute_result"
    }
   ],
   "source": [
    "rename_my_file(\"jan-18_singapore.txt\")"
   ]
  },
  {
   "cell_type": "markdown",
   "id": "cb13691c-b765-4b6b-a588-20575f5ef2a0",
   "metadata": {},
   "source": [
    "# Task 3"
   ]
  },
  {
   "cell_type": "code",
   "execution_count": 83,
   "id": "eec1a639-626f-40fd-9318-f28e0cd9ef41",
   "metadata": {},
   "outputs": [
    {
     "name": "stdout",
     "output_type": "stream",
     "text": [
      "oct-08_singapore.txt---> 10-08-singapore.txt\n",
      "jul-10_cairo.txt--->     07-10-cairo.txt\n",
      "may-15_dhaka.txt--->     05-15-dhaka.txt\n",
      "may-13_cairo.txt--->     05-13-cairo.txt\n",
      "oct-21_cairo.txt--->     10-21-cairo.txt\n",
      "jan-10_singapore.txt---> 01-10-singapore.txt\n",
      "jun-20_tokyo.txt--->     06-20-tokyo.txt\n",
      "aug-06_jakarta.txt--->   08-06-jakarta.txt\n",
      "dec-21_karachi.txt--->   12-21-karachi.txt\n",
      "jan-01_tokyo.txt--->     01-01-tokyo.txt\n"
     ]
    }
   ],
   "source": [
    "date_list = ['oct-08_singapore.txt', 'jul-10_cairo.txt', 'may-15_dhaka.txt',\n",
    " 'may-13_cairo.txt', 'oct-21_cairo.txt', 'jan-10_singapore.txt',\n",
    " 'jun-20_tokyo.txt', 'aug-06_jakarta.txt', 'dec-21_karachi.txt',\n",
    " 'jan-01_tokyo.txt']\n",
    "    \n",
    "for i in date_list:\n",
    "    new_file_name = rename_my_file(i)\n",
    "    print(f'{i}--->{new_file_name:>20}')"
   ]
  },
  {
   "cell_type": "markdown",
   "id": "8fd9bdde-8584-4404-a3dc-b3906a61304d",
   "metadata": {},
   "source": [
    "# Task 4"
   ]
  },
  {
   "cell_type": "code",
   "execution_count": 87,
   "id": "593228ea-9a18-445d-be7d-39c24d144e25",
   "metadata": {},
   "outputs": [],
   "source": [
    "import shutil \n",
    "  \n",
    "filename = \"os-collaboration-exercise-data.zip\"\n",
    "shutil.unpack_archive(filename)  \n",
    "#print(\"Archive file unpacked successfully.\")  #https://www.geeksforgeeks.org/python-shutil-unpack_archive-method/"
   ]
  },
  {
   "cell_type": "code",
   "execution_count": 94,
   "id": "433dd9bc-8569-4494-b884-6ed7e5cc6cb7",
   "metadata": {},
   "outputs": [],
   "source": [
    "def rename_my_file(old_file_name): \n",
    "    month_dict = {'jan': '01', 'feb': '02', 'mar': '03', 'apr': '04', 'may': '05', 'jun': '06','jul': '07', 'aug': '08', 'sep': '09',\n",
    "                  'oct': '10', 'nov': '11', 'dec': '12'}\n",
    "\n",
    "    mth_only = old_file_name.split('-') #separate into 'oct', '08_singapore.txt'\n",
    "    #print(mth_only) \n",
    "    mth = mth_only[0] #mth is oct aka index 0 of list \n",
    "    #print(mth)\n",
    "    if mth in month_dict:  # If the month abbreviation is in the dictionary\n",
    "        numeric_mth = month_dict[mth]  # Get the numeric month value\n",
    "        mth_only[0] = numeric_mth  # Replace the abbreviated month with the numeric month\n",
    "\n",
    "        updated_mth = '-'.join(mth_only)  # Join the parts back with hyphen\n",
    "        updated_file = updated_mth.replace('_', '-')  # Replace underscores with hyphens\n",
    "        return updated_file\n",
    "    else:\n",
    "        return old_file_name  # Return the original filename if the month isn't found in the dictionary\n",
    "\n",
    "txt_files = glob.glob('os-collab*/**/*.txt', recursive=True)\n",
    "for file in txt_files:\n",
    "    new_name = rename_my_file(file)"
   ]
  },
  {
   "cell_type": "code",
   "execution_count": null,
   "id": "6fb20ce2-32f3-41cb-85b9-e1f94e3336d8",
   "metadata": {},
   "outputs": [],
   "source": []
  },
  {
   "cell_type": "code",
   "execution_count": 22,
   "id": "ab4727ea-c9a2-42ea-ab58-01ac8927b1ed",
   "metadata": {},
   "outputs": [],
   "source": [
    "import os\n",
    "os.mkdir('cities')"
   ]
  },
  {
   "cell_type": "code",
   "execution_count": 24,
   "id": "28f6d14c-9bba-4ef8-a838-b383a68712b7",
   "metadata": {},
   "outputs": [
    {
     "name": "stdout",
     "output_type": "stream",
     "text": [
      "Creating cities/Cairo\n",
      "Creating cities/Dhaka\n",
      "Creating cities/Jakarta\n",
      "Creating cities/Karachi\n",
      "Creating cities/Manila\n",
      "Creating cities/Melbourne\n",
      "Creating cities/Osaka\n",
      "Creating cities/Shanghai\n",
      "Creating cities/Singapore\n",
      "Creating cities/Tokyo\n"
     ]
    }
   ],
   "source": [
    "cities_list = ['Cairo', 'Dhaka', 'Jakarta', 'Karachi', 'Manila',\n",
    " 'Melbourne', 'Osaka', 'Shanghai', 'Singapore', 'Tokyo']\n",
    "\n",
    "for city in cities_list: \n",
    "    path = os.path.join('cities', city)\n",
    "    print(f'Creating {path}')\n",
    "    os.mkdir(path)\n"
   ]
  },
  {
   "cell_type": "code",
   "execution_count": null,
   "id": "449e7fdf-f8e9-4694-90b8-15c7d20bf5e0",
   "metadata": {},
   "outputs": [],
   "source": []
  }
 ],
 "metadata": {
  "kernelspec": {
   "display_name": "Python 3 (ipykernel)",
   "language": "python",
   "name": "python3"
  },
  "language_info": {
   "codemirror_mode": {
    "name": "ipython",
    "version": 3
   },
   "file_extension": ".py",
   "mimetype": "text/x-python",
   "name": "python",
   "nbconvert_exporter": "python",
   "pygments_lexer": "ipython3",
   "version": "3.12.2"
  },
  "toc": {
   "base_numbering": 1,
   "nav_menu": {},
   "number_sections": true,
   "sideBar": true,
   "skip_h1_title": false,
   "title_cell": "Table of Contents",
   "title_sidebar": "Contents",
   "toc_cell": false,
   "toc_position": {},
   "toc_section_display": true,
   "toc_window_display": false
  },
  "vscode": {
   "interpreter": {
    "hash": "31f2aee4e71d21fbe5cf8b01ff0e069b9275f58929596ceb00d14d90e3e16cd6"
   }
  }
 },
 "nbformat": 4,
 "nbformat_minor": 5
}
