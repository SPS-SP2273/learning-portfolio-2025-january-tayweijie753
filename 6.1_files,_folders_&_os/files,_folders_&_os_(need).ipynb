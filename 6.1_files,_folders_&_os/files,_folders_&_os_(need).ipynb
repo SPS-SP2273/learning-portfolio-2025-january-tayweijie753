{
 "cells": [
  {
   "attachments": {},
   "cell_type": "markdown",
   "id": "123456",
   "metadata": {},
   "source": [
    "<div style=\"text-align:left;font-size:2em\"><span style=\"font-weight:bolder;font-size:1.25em\">SP2273 | Learning Portfolio</span><br><br><span style=\"font-weight:bold;color:darkred\">Files, Folders & OS (Need)</span></div>"
   ]
  },
  {
   "cell_type": "code",
   "execution_count": 12,
   "id": "96eea0c6-5e5a-451d-9b4b-4812cf1e7caf",
   "metadata": {},
   "outputs": [],
   "source": [
    "import glob #allows u to search \n",
    "import os\n",
    "import shutil"
   ]
  },
  {
   "cell_type": "code",
   "execution_count": 13,
   "id": "822498b4-9767-4c0c-82ee-d831dfa11cca",
   "metadata": {},
   "outputs": [
    {
     "data": {
      "text/plain": [
       "['files,_folders_&_os_(need).ipynb']"
      ]
     },
     "execution_count": 13,
     "metadata": {},
     "output_type": "execute_result"
    }
   ],
   "source": [
    "glob.glob('*') #* is a wildcard, and searches for anything"
   ]
  },
  {
   "cell_type": "code",
   "execution_count": 14,
   "id": "5283e2dd-2ec7-4458-be34-eca9a84a072c",
   "metadata": {},
   "outputs": [
    {
     "data": {
      "text/plain": [
       "['../2.2_fundamentals__exercises',\n",
       " '../3.1_storing_data',\n",
       " '../7.2_plotting__exercises',\n",
       " '../7.1_plotting',\n",
       " '../5.2_functions__exercises',\n",
       " '../1.1_using_jupyter',\n",
       " '../6.1_files,_folders_&_os',\n",
       " '../README.md',\n",
       " '../Untitled.rtf',\n",
       " '../0.1_hello,_github!',\n",
       " '../0.2_hello,_jupyter!',\n",
       " '../3.2_storing_data__exercises',\n",
       " '../1.2_using_jupyter_,_exercises',\n",
       " '../5.1_functions',\n",
       " '../0.3_Virtual_Environments_(Nice!)',\n",
       " '../4.2_loops__exercises',\n",
       " '../hehehehe.rtf',\n",
       " '../2.1_fundamentals',\n",
       " '../4.1_loops',\n",
       " '../6.2_files,_folders_&_os__exercises']"
      ]
     },
     "execution_count": 14,
     "metadata": {},
     "output_type": "execute_result"
    }
   ],
   "source": [
    "glob.glob('../*') #.. = means look above "
   ]
  },
  {
   "cell_type": "code",
   "execution_count": 15,
   "id": "28b14d10-d2e7-46c1-8ca7-3ff7e22c97d8",
   "metadata": {},
   "outputs": [
    {
     "data": {
      "text/plain": [
       "['../5.1_functions/functions_(good).ipynb',\n",
       " '../5.1_functions/functions_(nice).ipynb',\n",
       " '../5.1_functions/functions_(need).ipynb']"
      ]
     },
     "execution_count": 15,
     "metadata": {},
     "output_type": "execute_result"
    }
   ],
   "source": [
    "all_files = glob.glob('../5.1*/*')\n",
    "all_files"
   ]
  },
  {
   "cell_type": "code",
   "execution_count": 16,
   "id": "e8be058b-f285-47a5-9a36-30d3a90945af",
   "metadata": {},
   "outputs": [
    {
     "data": {
      "text/plain": [
       "['../5.1_functions/functions_(good).ipynb',\n",
       " '../5.1_functions/functions_(nice).ipynb',\n",
       " '../5.1_functions/functions_(need).ipynb']"
      ]
     },
     "execution_count": 16,
     "metadata": {},
     "output_type": "execute_result"
    }
   ],
   "source": [
    "#To search a file (eg. functions)\n",
    "glob.glob('../5.1*/*')  #go up ../, look for sth that starts with 5.1, and show me everything in that folder "
   ]
  },
  {
   "cell_type": "code",
   "execution_count": 17,
   "id": "9880ed7c-5fcb-42f1-8c5f-e7125abcfce8",
   "metadata": {},
   "outputs": [
    {
     "data": {
      "text/plain": [
       "['../7.1_plotting/xvsy.png']"
      ]
     },
     "execution_count": 17,
     "metadata": {},
     "output_type": "execute_result"
    }
   ],
   "source": [
    "# Recursive searches \n",
    "\n",
    "glob.glob(r'../**/*', recursive=True) #show all the files \n",
    "glob.glob(r'../**/*.png', recursive=True) #ONLY SHOW PNG files"
   ]
  },
  {
   "cell_type": "code",
   "execution_count": 26,
   "id": "6ed5e5c3-69f7-4b07-9a44-6ca0ff379fe2",
   "metadata": {},
   "outputs": [
    {
     "data": {
      "text/plain": [
       "'./xvsy.png'"
      ]
     },
     "execution_count": 26,
     "metadata": {},
     "output_type": "execute_result"
    }
   ],
   "source": [
    "#copying files \n",
    "\n",
    "shutil.copy('..//7.1_plotting/xvsy.png','.')"
   ]
  },
  {
   "cell_type": "code",
   "execution_count": 27,
   "id": "b3e7e94e-a7f3-45c9-bee9-8a36403156db",
   "metadata": {},
   "outputs": [
    {
     "name": "stdout",
     "output_type": "stream",
     "text": [
      "../6.1_files,_folders_&_os/xvsy.pngalready here\n"
     ]
    }
   ],
   "source": [
    "png_files = glob.glob('../**/*.png', recursive=True)\n",
    "\n",
    "for file in png_files:\n",
    "    try: \n",
    "        shutil.copy(file,'.')\n",
    "    except:\n",
    "        print(f'{file}already here')"
   ]
  },
  {
   "cell_type": "code",
   "execution_count": 35,
   "id": "25e9c798-817b-4919-8dc0-83f08a4f0cfe",
   "metadata": {},
   "outputs": [
    {
     "name": "stdout",
     "output_type": "stream",
     "text": [
      "Did not copyxvsy.png\n",
      "Did not copyxvsy.png\n"
     ]
    }
   ],
   "source": [
    "png_files = glob.glob('../**/*.png', recursive=True)\n",
    "\n",
    "for file in png_files:\n",
    "    filename = file.split(os.path.sep)[-1]\n",
    "\n",
    "    if not os.path.exists(filename):\n",
    "        shutil.copy(file,'.')\n",
    "    else:\n",
    "        print(f'Did not copy{filename}')"
   ]
  },
  {
   "cell_type": "code",
   "execution_count": 18,
   "id": "f0b8f0c1-ef9f-42e3-83b1-3be6a6722710",
   "metadata": {},
   "outputs": [
    {
     "name": "stdout",
     "output_type": "stream",
     "text": [
      "\u001b[34mlearning-portfolio-2025-january-tayweijie753\u001b[m\u001b[m\n"
     ]
    }
   ],
   "source": [
    "!ls ~/Desktop/Y4S2/SP2273/"
   ]
  },
  {
   "cell_type": "markdown",
   "id": "ec0bdc5c-0752-425d-af5e-f49aec738870",
   "metadata": {},
   "source": [
    "Absolute vs relative path \n",
    "- Relative: The above example glob.glob(). This is recommended over absolute path as they are more flexible and people can find your data more easily \n",
    "- Absolute: refers to inputting ur directory address eg. /Users/weiji/Desktop/Y4S2/SP2273/learning-portfolio-2025-january-tayweijie753\n",
    "\n",
    "Mac vs Windows\n",
    "- Slash differs. Windows uses '\\' while Mac uses '/'\n",
    "- Slash is known as path separator "
   ]
  },
  {
   "cell_type": "code",
   "execution_count": 38,
   "id": "8a01ac35-856a-4f4c-99a3-1bed5f1b9063",
   "metadata": {},
   "outputs": [
    {
     "name": "stdout",
     "output_type": "stream",
     "text": [
      "\u001b[34m0.1_hello,_github!\u001b[m\u001b[m                 \u001b[34m4.2_loops__exercises\u001b[m\u001b[m\n",
      "\u001b[34m0.2_hello,_jupyter!\u001b[m\u001b[m                \u001b[34m5.1_functions\u001b[m\u001b[m\n",
      "\u001b[34m0.3_Virtual_Environments_(Nice!)\u001b[m\u001b[m   \u001b[34m5.2_functions__exercises\u001b[m\u001b[m\n",
      "\u001b[34m1.1_using_jupyter\u001b[m\u001b[m                  \u001b[34m6.1_files,_folders_&_os\u001b[m\u001b[m\n",
      "\u001b[34m1.2_using_jupyter_,_exercises\u001b[m\u001b[m      \u001b[34m6.2_files,_folders_&_os__exercises\u001b[m\u001b[m\n",
      "\u001b[34m2.1_fundamentals\u001b[m\u001b[m                   \u001b[34m7.1_plotting\u001b[m\u001b[m\n",
      "\u001b[34m2.2_fundamentals__exercises\u001b[m\u001b[m        \u001b[34m7.2_plotting__exercises\u001b[m\u001b[m\n",
      "\u001b[34m3.1_storing_data\u001b[m\u001b[m                   README.md\n",
      "\u001b[34m3.2_storing_data__exercises\u001b[m\u001b[m        Untitled.rtf\n",
      "\u001b[34m4.1_loops\u001b[m\u001b[m                          hehehehe.rtf\n"
     ]
    }
   ],
   "source": [
    " !ls ~/Desktop/Y4S2/SP2273/learning-portfolio-2025-january-tayweijie753"
   ]
  },
  {
   "cell_type": "markdown",
   "id": "ccd09172-7d13-46a7-b0de-f737bc492cc7",
   "metadata": {},
   "source": [
    "# Creating a folder"
   ]
  },
  {
   "cell_type": "code",
   "execution_count": 44,
   "id": "4c1f7ae9-2d61-47d8-a633-faea2e97304e",
   "metadata": {},
   "outputs": [
    {
     "ename": "FileExistsError",
     "evalue": "[Errno 17] File exists: 'people'",
     "output_type": "error",
     "traceback": [
      "\u001b[0;31m---------------------------------------------------------------------------\u001b[0m",
      "\u001b[0;31mFileExistsError\u001b[0m                           Traceback (most recent call last)",
      "Cell \u001b[0;32mIn[44], line 1\u001b[0m\n\u001b[0;32m----> 1\u001b[0m \u001b[43mos\u001b[49m\u001b[38;5;241;43m.\u001b[39;49m\u001b[43mmkdir\u001b[49m\u001b[43m(\u001b[49m\u001b[38;5;124;43m'\u001b[39;49m\u001b[38;5;124;43mpeople\u001b[39;49m\u001b[38;5;124;43m'\u001b[39;49m\u001b[43m)\u001b[49m\n\u001b[1;32m      3\u001b[0m \u001b[38;5;28;01mfor\u001b[39;00m person \u001b[38;5;129;01min\u001b[39;00m [\u001b[38;5;124m'\u001b[39m\u001b[38;5;124mJohn\u001b[39m\u001b[38;5;124m'\u001b[39m, \u001b[38;5;124m'\u001b[39m\u001b[38;5;124mPaul\u001b[39m\u001b[38;5;124m'\u001b[39m, \u001b[38;5;124m'\u001b[39m\u001b[38;5;124mRingo\u001b[39m\u001b[38;5;124m'\u001b[39m]:\n\u001b[1;32m      4\u001b[0m     path \u001b[38;5;241m=\u001b[39m os\u001b[38;5;241m.\u001b[39mpath\u001b[38;5;241m.\u001b[39mjoin(\u001b[38;5;124m'\u001b[39m\u001b[38;5;124mpeople\u001b[39m\u001b[38;5;124m'\u001b[39m, person)\n",
      "\u001b[0;31mFileExistsError\u001b[0m: [Errno 17] File exists: 'people'"
     ]
    }
   ],
   "source": [
    "os.mkdir('people')\n",
    "\n",
    "for person in ['John', 'Paul', 'Ringo']:\n",
    "    path = os.path.join('people', person)\n",
    "    print(f'Creating {path}')\n",
    "    os.mkdir(path)"
   ]
  },
  {
   "cell_type": "code",
   "execution_count": 48,
   "id": "25cab512-eb90-4814-9788-82bb160ea928",
   "metadata": {},
   "outputs": [
    {
     "data": {
      "text/plain": [
       "7"
      ]
     },
     "execution_count": 48,
     "metadata": {},
     "output_type": "execute_result"
    }
   ],
   "source": [
    "file = open('hahahha.txt','w')\n",
    "file.write('sdsdsds') #text will not be updated automatically"
   ]
  },
  {
   "cell_type": "code",
   "execution_count": 52,
   "id": "c76ecdb6-a7a4-4aa6-a547-1622fe759c17",
   "metadata": {},
   "outputs": [],
   "source": [
    "with open('hahahha.txt','w') as file:\n",
    "    file.write('sdsdsdsds') #file will be written automatically"
   ]
  },
  {
   "cell_type": "code",
   "execution_count": 54,
   "id": "7d2b1d80-9860-4420-a662-a66e74581aa3",
   "metadata": {},
   "outputs": [],
   "source": [
    "with open('hahahha.txt', 'r') as file:\n",
    "    text=file.read()"
   ]
  },
  {
   "cell_type": "code",
   "execution_count": 55,
   "id": "8d107151-226e-4f93-8cc3-75d38aca75ae",
   "metadata": {},
   "outputs": [
    {
     "name": "stdout",
     "output_type": "stream",
     "text": [
      "sdsdsdsds\n"
     ]
    }
   ],
   "source": [
    "print(text)"
   ]
  },
  {
   "cell_type": "code",
   "execution_count": null,
   "id": "5fa9897c-f275-41d2-877f-3df4ce448cac",
   "metadata": {},
   "outputs": [],
   "source": [
    "np."
   ]
  }
 ],
 "metadata": {
  "kernelspec": {
   "display_name": "Python 3 (ipykernel)",
   "language": "python",
   "name": "python3"
  },
  "language_info": {
   "codemirror_mode": {
    "name": "ipython",
    "version": 3
   },
   "file_extension": ".py",
   "mimetype": "text/x-python",
   "name": "python",
   "nbconvert_exporter": "python",
   "pygments_lexer": "ipython3",
   "version": "3.12.2"
  },
  "toc": {
   "base_numbering": 1,
   "nav_menu": {},
   "number_sections": true,
   "sideBar": true,
   "skip_h1_title": false,
   "title_cell": "Table of Contents",
   "title_sidebar": "Contents",
   "toc_cell": false,
   "toc_position": {},
   "toc_section_display": true,
   "toc_window_display": false
  },
  "vscode": {
   "interpreter": {
    "hash": "31f2aee4e71d21fbe5cf8b01ff0e069b9275f58929596ceb00d14d90e3e16cd6"
   }
  }
 },
 "nbformat": 4,
 "nbformat_minor": 5
}
