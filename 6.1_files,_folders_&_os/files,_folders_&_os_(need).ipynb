{
 "cells": [
  {
   "attachments": {},
   "cell_type": "markdown",
   "id": "123456",
   "metadata": {},
   "source": [
    "<div style=\"text-align:left;font-size:2em\"><span style=\"font-weight:bolder;font-size:1.25em\">SP2273 | Learning Portfolio</span><br><br><span style=\"font-weight:bold;color:darkred\">Files, Folders & OS (Need)</span></div>"
   ]
  },
  {
   "cell_type": "code",
   "execution_count": 2,
   "id": "96eea0c6-5e5a-451d-9b4b-4812cf1e7caf",
   "metadata": {},
   "outputs": [],
   "source": [
    "import glob #allows u to search "
   ]
  },
  {
   "cell_type": "code",
   "execution_count": 4,
   "id": "822498b4-9767-4c0c-82ee-d831dfa11cca",
   "metadata": {},
   "outputs": [
    {
     "data": {
      "text/plain": [
       "[]"
      ]
     },
     "execution_count": 4,
     "metadata": {},
     "output_type": "execute_result"
    }
   ],
   "source": [
    "glob.glob('*')"
   ]
  },
  {
   "cell_type": "code",
   "execution_count": 7,
   "id": "5283e2dd-2ec7-4458-be34-eca9a84a072c",
   "metadata": {},
   "outputs": [
    {
     "data": {
      "text/plain": [
       "['../2.2_fundamentals__exercises',\n",
       " '../3.1_storing_data',\n",
       " '../7.2_plotting__exercises',\n",
       " '../7.1_plotting',\n",
       " '../5.2_functions__exercises',\n",
       " '../1.1_using_jupyter',\n",
       " '../6.1_files,_folders_&_os',\n",
       " '../README.md',\n",
       " '../Untitled.rtf',\n",
       " '../0.1_hello,_github!',\n",
       " '../0.2_hello,_jupyter!',\n",
       " '../3.2_storing_data__exercises',\n",
       " '../1.2_using_jupyter_,_exercises',\n",
       " '../5.1_functions',\n",
       " '../0.3_Virtual_Environments_(Nice!)',\n",
       " '../4.2_loops__exercises',\n",
       " '../hehehehe.rtf',\n",
       " '../2.1_fundamentals',\n",
       " '../4.1_loops',\n",
       " '../6.2_files,_folders_&_os__exercises']"
      ]
     },
     "execution_count": 7,
     "metadata": {},
     "output_type": "execute_result"
    }
   ],
   "source": [
    "glob.glob('../*') #look for folders above this file "
   ]
  },
  {
   "cell_type": "code",
   "execution_count": 9,
   "id": "e8be058b-f285-47a5-9a36-30d3a90945af",
   "metadata": {},
   "outputs": [
    {
     "data": {
      "text/plain": [
       "['../5.1_functions/functions_(good).ipynb',\n",
       " '../5.1_functions/functions_(nice).ipynb',\n",
       " '../5.1_functions/functions_(need).ipynb']"
      ]
     },
     "execution_count": 9,
     "metadata": {},
     "output_type": "execute_result"
    }
   ],
   "source": [
    "glob.glob('../5.1*/*')  #go up ../, look for sth that starts with 5.1, and show me everything in that folder "
   ]
  },
  {
   "cell_type": "markdown",
   "id": "ec0bdc5c-0752-425d-af5e-f49aec738870",
   "metadata": {},
   "source": [
    "Absolute vs relative path \n",
    "- Relative: The above example glob.glob(). This is recommended over absolute path as they are more flexible and people can find your data more easily \n",
    "- Absolute: refers to inputting ur directory address eg. /Users/weiji/Desktop/Y4S2/SP2273/learning-portfolio-2025-january-tayweijie753\n",
    "\n",
    "Mac vs Windows\n",
    "- Slash differs. Windows uses '\\' while Mac uses '/'\n",
    "- Slash is known as path separator "
   ]
  },
  {
   "cell_type": "code",
   "execution_count": 5,
   "id": "f0b8f0c1-ef9f-42e3-83b1-3be6a6722710",
   "metadata": {},
   "outputs": [
    {
     "name": "stdout",
     "output_type": "stream",
     "text": [
      "\u001b[34mlearning-portfolio-2025-january-tayweijie753\u001b[m\u001b[m\n"
     ]
    }
   ],
   "source": [
    "!ls ~/Desktop/Y4S2/SP2273/"
   ]
  },
  {
   "cell_type": "code",
   "execution_count": 7,
   "id": "8a01ac35-856a-4f4c-99a3-1bed5f1b9063",
   "metadata": {},
   "outputs": [
    {
     "name": "stdout",
     "output_type": "stream",
     "text": [
      "\u001b[34m0.1_hello,_github!\u001b[m\u001b[m                 \u001b[34m4.2_loops__exercises\u001b[m\u001b[m\n",
      "\u001b[34m0.2_hello,_jupyter!\u001b[m\u001b[m                \u001b[34m5.1_functions\u001b[m\u001b[m\n",
      "\u001b[34m0.3_Virtual_Environments_(Nice!)\u001b[m\u001b[m   \u001b[34m5.2_functions__exercises\u001b[m\u001b[m\n",
      "\u001b[34m1.1_using_jupyter\u001b[m\u001b[m                  \u001b[34m6.1_files,_folders_&_os\u001b[m\u001b[m\n",
      "\u001b[34m1.2_using_jupyter_,_exercises\u001b[m\u001b[m      \u001b[34m6.2_files,_folders_&_os__exercises\u001b[m\u001b[m\n",
      "\u001b[34m2.1_fundamentals\u001b[m\u001b[m                   \u001b[34m7.1_plotting\u001b[m\u001b[m\n",
      "\u001b[34m2.2_fundamentals__exercises\u001b[m\u001b[m        \u001b[34m7.2_plotting__exercises\u001b[m\u001b[m\n",
      "\u001b[34m3.1_storing_data\u001b[m\u001b[m                   README.md\n",
      "\u001b[34m3.2_storing_data__exercises\u001b[m\u001b[m        Untitled.rtf\n",
      "\u001b[34m4.1_loops\u001b[m\u001b[m                          hehehehe.rtf\n"
     ]
    }
   ],
   "source": [
    " !ls ~/Desktop/Y4S2/SP2273/learning-portfolio-2025-january-tayweijie753"
   ]
  },
  {
   "cell_type": "code",
   "execution_count": 13,
   "id": "562ea544-1a25-4280-9bde-62cc93a21c77",
   "metadata": {},
   "outputs": [
    {
     "ename": "SyntaxError",
     "evalue": "invalid syntax (1499543565.py, line 1)",
     "output_type": "error",
     "traceback": [
      "\u001b[0;36m  Cell \u001b[0;32mIn[13], line 1\u001b[0;36m\u001b[0m\n\u001b[0;31m    ..\\data-files\\data-01.txt\u001b[0m\n\u001b[0m    ^\u001b[0m\n\u001b[0;31mSyntaxError\u001b[0m\u001b[0;31m:\u001b[0m invalid syntax\n"
     ]
    }
   ],
   "source": [
    "..\\data-files\\data-01.txt"
   ]
  },
  {
   "cell_type": "code",
   "execution_count": 15,
   "id": "f2d3b841-f9d4-4bd4-bb8e-91fe13606557",
   "metadata": {},
   "outputs": [
    {
     "ename": "FileNotFoundError",
     "evalue": "[Errno 2] No such file or directory: 'spectrum-01.txt'",
     "output_type": "error",
     "traceback": [
      "\u001b[0;31m---------------------------------------------------------------------------\u001b[0m",
      "\u001b[0;31mFileNotFoundError\u001b[0m                         Traceback (most recent call last)",
      "Cell \u001b[0;32mIn[15], line 1\u001b[0m\n\u001b[0;32m----> 1\u001b[0m \u001b[38;5;28;01mwith\u001b[39;00m \u001b[38;5;28;43mopen\u001b[39;49m\u001b[43m(\u001b[49m\u001b[38;5;124;43m'\u001b[39;49m\u001b[38;5;124;43mspectrum-01.txt\u001b[39;49m\u001b[38;5;124;43m'\u001b[39;49m\u001b[43m,\u001b[49m\u001b[43m \u001b[49m\u001b[38;5;124;43m'\u001b[39;49m\u001b[38;5;124;43mr\u001b[39;49m\u001b[38;5;124;43m'\u001b[39;49m\u001b[43m)\u001b[49m \u001b[38;5;28;01mas\u001b[39;00m file:\n\u001b[1;32m      2\u001b[0m     file_content \u001b[38;5;241m=\u001b[39m file\u001b[38;5;241m.\u001b[39mread()\n\u001b[1;32m      4\u001b[0m \u001b[38;5;28mprint\u001b[39m(file_content)\n",
      "File \u001b[0;32m/opt/miniconda3/lib/python3.12/site-packages/IPython/core/interactiveshell.py:324\u001b[0m, in \u001b[0;36m_modified_open\u001b[0;34m(file, *args, **kwargs)\u001b[0m\n\u001b[1;32m    317\u001b[0m \u001b[38;5;28;01mif\u001b[39;00m file \u001b[38;5;129;01min\u001b[39;00m {\u001b[38;5;241m0\u001b[39m, \u001b[38;5;241m1\u001b[39m, \u001b[38;5;241m2\u001b[39m}:\n\u001b[1;32m    318\u001b[0m     \u001b[38;5;28;01mraise\u001b[39;00m \u001b[38;5;167;01mValueError\u001b[39;00m(\n\u001b[1;32m    319\u001b[0m         \u001b[38;5;124mf\u001b[39m\u001b[38;5;124m\"\u001b[39m\u001b[38;5;124mIPython won\u001b[39m\u001b[38;5;124m'\u001b[39m\u001b[38;5;124mt let you open fd=\u001b[39m\u001b[38;5;132;01m{\u001b[39;00mfile\u001b[38;5;132;01m}\u001b[39;00m\u001b[38;5;124m by default \u001b[39m\u001b[38;5;124m\"\u001b[39m\n\u001b[1;32m    320\u001b[0m         \u001b[38;5;124m\"\u001b[39m\u001b[38;5;124mas it is likely to crash IPython. If you know what you are doing, \u001b[39m\u001b[38;5;124m\"\u001b[39m\n\u001b[1;32m    321\u001b[0m         \u001b[38;5;124m\"\u001b[39m\u001b[38;5;124myou can use builtins\u001b[39m\u001b[38;5;124m'\u001b[39m\u001b[38;5;124m open.\u001b[39m\u001b[38;5;124m\"\u001b[39m\n\u001b[1;32m    322\u001b[0m     )\n\u001b[0;32m--> 324\u001b[0m \u001b[38;5;28;01mreturn\u001b[39;00m \u001b[43mio_open\u001b[49m\u001b[43m(\u001b[49m\u001b[43mfile\u001b[49m\u001b[43m,\u001b[49m\u001b[43m \u001b[49m\u001b[38;5;241;43m*\u001b[39;49m\u001b[43margs\u001b[49m\u001b[43m,\u001b[49m\u001b[43m \u001b[49m\u001b[38;5;241;43m*\u001b[39;49m\u001b[38;5;241;43m*\u001b[39;49m\u001b[43mkwargs\u001b[49m\u001b[43m)\u001b[49m\n",
      "\u001b[0;31mFileNotFoundError\u001b[0m: [Errno 2] No such file or directory: 'spectrum-01.txt'"
     ]
    }
   ],
   "source": [
    "with open('spectrum-01.txt', 'r') as file:\n",
    "    file_content = file.read()\n",
    "\n",
    "print(file_content)"
   ]
  },
  {
   "cell_type": "code",
   "execution_count": 25,
   "id": "df3507ce-4198-462e-a396-f21aa174b7dd",
   "metadata": {},
   "outputs": [
    {
     "data": {
      "text/plain": [
       "[]"
      ]
     },
     "execution_count": 25,
     "metadata": {},
     "output_type": "execute_result"
    }
   ],
   "source": [
    "all_files = glob.glob(r'..\\5.1*\\\\*')\n",
    "all_files"
   ]
  },
  {
   "cell_type": "code",
   "execution_count": 22,
   "id": "e5b2d78e-9499-4f13-93dc-4e46c438587e",
   "metadata": {},
   "outputs": [],
   "source": [
    "for file in all_files:\n",
    "    print(file)"
   ]
  },
  {
   "cell_type": "code",
   "execution_count": 23,
   "id": "76b9546b-89ad-4ff0-94f9-cbf2e2974a83",
   "metadata": {},
   "outputs": [
    {
     "data": {
      "text/plain": [
       "[]"
      ]
     },
     "execution_count": 23,
     "metadata": {},
     "output_type": "execute_result"
    }
   ],
   "source": [
    "glob.glob(r'..\\*\\*', recursive=True)"
   ]
  },
  {
   "cell_type": "code",
   "execution_count": null,
   "id": "4c1f7ae9-2d61-47d8-a633-faea2e97304e",
   "metadata": {},
   "outputs": [],
   "source": []
  },
  {
   "cell_type": "code",
   "execution_count": null,
   "id": "25cab512-eb90-4814-9788-82bb160ea928",
   "metadata": {},
   "outputs": [],
   "source": []
  }
 ],
 "metadata": {
  "kernelspec": {
   "display_name": "Python 3 (ipykernel)",
   "language": "python",
   "name": "python3"
  },
  "language_info": {
   "codemirror_mode": {
    "name": "ipython",
    "version": 3
   },
   "file_extension": ".py",
   "mimetype": "text/x-python",
   "name": "python",
   "nbconvert_exporter": "python",
   "pygments_lexer": "ipython3",
   "version": "3.12.2"
  },
  "toc": {
   "base_numbering": 1,
   "nav_menu": {},
   "number_sections": true,
   "sideBar": true,
   "skip_h1_title": false,
   "title_cell": "Table of Contents",
   "title_sidebar": "Contents",
   "toc_cell": false,
   "toc_position": {},
   "toc_section_display": true,
   "toc_window_display": false
  },
  "vscode": {
   "interpreter": {
    "hash": "31f2aee4e71d21fbe5cf8b01ff0e069b9275f58929596ceb00d14d90e3e16cd6"
   }
  }
 },
 "nbformat": 4,
 "nbformat_minor": 5
}
